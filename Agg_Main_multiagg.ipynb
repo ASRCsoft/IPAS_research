{
 "cells": [
  {
   "cell_type": "markdown",
   "metadata": {},
   "source": [
    "# Main Aggregation Script - calls lab.py and crystals.py"
   ]
  },
  {
   "cell_type": "code",
   "execution_count": 1,
   "metadata": {},
   "outputs": [],
   "source": [
    "#Reloads the lab.py and crystals.py modules to update any changes (after saving)\n",
    "#If a new method or object is created, autoreload doesn't work and the \n",
    "#kernel needs to be closed and halted after saving and making a 'checkpoint'\n",
    "#in this notebook\n",
    "\n",
    "%load_ext autoreload\n",
    "%autoreload 2"
   ]
  },
  {
   "cell_type": "code",
   "execution_count": 2,
   "metadata": {},
   "outputs": [
    {
     "name": "stdout",
     "output_type": "stream",
     "text": [
      "Available kernels:\r\n",
      "  ipas_env    /Users/vprzybylo/Library/Jupyter/kernels/ipas_env\r\n",
      "  myenv       /Users/vprzybylo/Library/Jupyter/kernels/myenv\r\n",
      "  python3     /usr/local/share/jupyter/kernels/python3\r\n"
     ]
    }
   ],
   "source": [
    "!jupyter kernelspec list  #list available kernels\n",
    "#Bad magic number error fix:\n",
    "#find . -name '*.pyc' -delete"
   ]
  },
  {
   "cell_type": "code",
   "execution_count": 2,
   "metadata": {},
   "outputs": [],
   "source": [
    "#show plots in the notebook, formatting of the plots changes\n",
    "%matplotlib inline\n",
    "from ipas import lab_copy_multiagg as lab\n",
    "from ipas import crystals_opt_rot as crys\n",
    "from ipas import plots_multiagg as plts\n",
    "import numpy as np\n",
    "import time  #for efficiency tests\n",
    "import itertools   #to create width array and join plate/col aspect ratios\n",
    "from operator import itemgetter\n",
    "import shapely.geometry as geom\n",
    "import matplotlib.pyplot as plt\n",
    "import scipy.optimize as opt\n",
    "import random"
   ]
  },
  {
   "cell_type": "markdown",
   "metadata": {},
   "source": [
    "#### Loops over aspect ratios, creates histograms of each aspect ratio, and plots characteristic values of the distributions with respect to the starting aspect ratios"
   ]
  },
  {
   "cell_type": "markdown",
   "metadata": {},
   "source": [
    "##### 'PATH' VARIABLE NEEDS TO BE CHANGED IN LAB.PY BEFORE RUNNING -- ALL FOLDERS/FILES WILL BE CREATED IF THEY DO NOT EXIST \n",
    "Note, there may be a shape parameter erlang distribution run time warning occasionally <-- disregard"
   ]
  },
  {
   "cell_type": "code",
   "execution_count": 20,
   "metadata": {
    "scrolled": true
   },
   "outputs": [
    {
     "name": "stdout",
     "output_type": "stream",
     "text": [
      "eq. vol rad 10.0 0.464158883361 46.4158883361 0.01\n",
      "--- 2.51 minute(s) ---\n",
      "eq. vol rad 10.0 0.641235479558 39.4903722958 0.0162377673919\n",
      "--- 2.45 minute(s) ---\n",
      "eq. vol rad 10.0 0.88586679041 33.5981828628 0.0263665089873\n",
      "--- 2.49 minute(s) ---\n",
      "eq. vol rad 10.0 1.22382493697 28.5851417968 0.0428133239872\n",
      "--- 2.50 minute(s) ---\n",
      "eq. vol rad 10.0 1.69071410347 24.3200751327 0.0695192796178\n",
      "--- 2.41 minute(s) ---\n",
      "eq. vol rad 10.0 2.33572146909 20.6913808111 0.112883789168\n",
      "--- 2.43 minute(s) ---\n",
      "eq. vol rad 10.0 3.22679911995 17.6041084387 0.183298071083\n",
      "--- 2.47 minute(s) ---\n",
      "eq. vol rad 10.0 4.45782286042 14.9774747635 0.297635144163\n",
      "--- 2.48 minute(s) ---\n",
      "eq. vol rad 10.0 6.15848211066 12.742749857 0.483293023857\n",
      "--- 2.51 minute(s) ---\n",
      "eq. vol rad 10.0 8.50794279963 10.8414586894 0.784759970351\n",
      "--- 2.46 minute(s) ---\n",
      "eq. vol rad 10.0 11.7537226513 9.22385103936 1.2742749857\n",
      "--- 2.52 minute(s) ---\n",
      "eq. vol rad 10.0 16.2377673919 7.84759970351 2.06913808111\n",
      "--- 2.45 minute(s) ---\n",
      "eq. vol rad 10.0 22.432475029 6.67669293919 3.35981828628\n",
      "--- 2.45 minute(s) ---\n",
      "eq. vol rad 10.0 30.990463392 5.68049216173 5.45559478117\n",
      "--- 2.50 minute(s) ---\n",
      "eq. vol rad 10.0 42.8133239872 4.83293023857 8.8586679041\n",
      "--- 2.59 minute(s) ---\n",
      "eq. vol rad 10.0 59.1466054459 4.11182940244 14.3844988829\n",
      "--- 2.56 minute(s) ---\n",
      "eq. vol rad 10.0 81.7110331546 3.49832093578 23.3572146909\n",
      "--- 2.94 minute(s) ---\n",
      "eq. vol rad 10.0 112.883789168 2.97635144163 37.9269019073\n",
      "--- 2.63 minute(s) ---\n",
      "eq. vol rad 10.0 155.948950406 2.5322627817 61.5848211066\n",
      "--- 2.60 minute(s) ---\n",
      "eq. vol rad 10.0 215.443469003 2.15443469003 100.0\n",
      "--- 2.63 minute(s) ---\n",
      "eq. vol rad 10.0 0.464158883361 46.4158883361 0.01\n",
      "--- 2.72 minute(s) ---\n",
      "eq. vol rad 10.0 0.641235479558 39.4903722958 0.0162377673919\n",
      "--- 2.60 minute(s) ---\n",
      "eq. vol rad 10.0 0.88586679041 33.5981828628 0.0263665089873\n",
      "--- 2.45 minute(s) ---\n",
      "eq. vol rad 10.0 1.22382493697 28.5851417968 0.0428133239872\n",
      "--- 2.48 minute(s) ---\n",
      "eq. vol rad 10.0 1.69071410347 24.3200751327 0.0695192796178\n",
      "--- 2.47 minute(s) ---\n",
      "eq. vol rad 10.0 2.33572146909 20.6913808111 0.112883789168\n",
      "--- 2.48 minute(s) ---\n",
      "eq. vol rad 10.0 3.22679911995 17.6041084387 0.183298071083\n",
      "--- 2.60 minute(s) ---\n",
      "eq. vol rad 10.0 4.45782286042 14.9774747635 0.297635144163\n",
      "--- 5.25 minute(s) ---\n",
      "eq. vol rad 10.0 6.15848211066 12.742749857 0.483293023857\n",
      "--- 2.34 minute(s) ---\n",
      "eq. vol rad 10.0 8.50794279963 10.8414586894 0.784759970351\n",
      "--- 2.27 minute(s) ---\n",
      "eq. vol rad 10.0 11.7537226513 9.22385103936 1.2742749857\n",
      "--- 2.28 minute(s) ---\n",
      "eq. vol rad 10.0 16.2377673919 7.84759970351 2.06913808111\n",
      "--- 2.24 minute(s) ---\n",
      "eq. vol rad 10.0 22.432475029 6.67669293919 3.35981828628\n",
      "--- 2.29 minute(s) ---\n",
      "eq. vol rad 10.0 30.990463392 5.68049216173 5.45559478117\n",
      "--- 2.26 minute(s) ---\n",
      "eq. vol rad 10.0 42.8133239872 4.83293023857 8.8586679041\n",
      "--- 2.48 minute(s) ---\n",
      "eq. vol rad 10.0 59.1466054459 4.11182940244 14.3844988829\n",
      "--- 2.28 minute(s) ---\n",
      "eq. vol rad 10.0 81.7110331546 3.49832093578 23.3572146909\n",
      "--- 2.29 minute(s) ---\n",
      "eq. vol rad 10.0 112.883789168 2.97635144163 37.9269019073\n",
      "--- 2.31 minute(s) ---\n",
      "eq. vol rad 10.0 155.948950406 2.5322627817 61.5848211066\n",
      "--- 2.29 minute(s) ---\n",
      "eq. vol rad 10.0 215.443469003 2.15443469003 100.0\n",
      "--- 2.32 minute(s) ---\n",
      "eq. vol rad 10.0 0.464158883361 46.4158883361 0.01\n",
      "--- 2.34 minute(s) ---\n",
      "eq. vol rad 10.0 0.641235479558 39.4903722958 0.0162377673919\n",
      "--- 2.26 minute(s) ---\n",
      "eq. vol rad 10.0 0.88586679041 33.5981828628 0.0263665089873\n",
      "--- 2.24 minute(s) ---\n",
      "eq. vol rad 10.0 1.22382493697 28.5851417968 0.0428133239872\n",
      "--- 2.22 minute(s) ---\n",
      "eq. vol rad 10.0 1.69071410347 24.3200751327 0.0695192796178\n",
      "--- 2.27 minute(s) ---\n",
      "eq. vol rad 10.0 2.33572146909 20.6913808111 0.112883789168\n",
      "--- 2.28 minute(s) ---\n",
      "eq. vol rad 10.0 3.22679911995 17.6041084387 0.183298071083\n",
      "--- 2.26 minute(s) ---\n",
      "eq. vol rad 10.0 4.45782286042 14.9774747635 0.297635144163\n",
      "--- 2.23 minute(s) ---\n",
      "eq. vol rad 10.0 6.15848211066 12.742749857 0.483293023857\n",
      "--- 2.29 minute(s) ---\n",
      "eq. vol rad 10.0 8.50794279963 10.8414586894 0.784759970351\n",
      "--- 2.29 minute(s) ---\n",
      "eq. vol rad 10.0 11.7537226513 9.22385103936 1.2742749857\n",
      "--- 2.37 minute(s) ---\n",
      "eq. vol rad 10.0 16.2377673919 7.84759970351 2.06913808111\n",
      "--- 2.21 minute(s) ---\n",
      "eq. vol rad 10.0 22.432475029 6.67669293919 3.35981828628\n",
      "--- 2.26 minute(s) ---\n",
      "eq. vol rad 10.0 30.990463392 5.68049216173 5.45559478117\n",
      "--- 2.31 minute(s) ---\n",
      "eq. vol rad 10.0 42.8133239872 4.83293023857 8.8586679041\n",
      "--- 2.30 minute(s) ---\n",
      "eq. vol rad 10.0 59.1466054459 4.11182940244 14.3844988829\n",
      "--- 2.27 minute(s) ---\n",
      "eq. vol rad 10.0 81.7110331546 3.49832093578 23.3572146909\n",
      "--- 2.29 minute(s) ---\n",
      "eq. vol rad 10.0 112.883789168 2.97635144163 37.9269019073\n",
      "--- 2.32 minute(s) ---\n",
      "eq. vol rad 10.0 155.948950406 2.5322627817 61.5848211066\n",
      "--- 2.30 minute(s) ---\n",
      "eq. vol rad 10.0 215.443469003 2.15443469003 100.0\n",
      "--- 2.30 minute(s) ---\n",
      "eq. vol rad 10.0 0.464158883361 46.4158883361 0.01\n",
      "--- 2.26 minute(s) ---\n",
      "eq. vol rad 10.0 0.641235479558 39.4903722958 0.0162377673919\n",
      "--- 2.21 minute(s) ---\n",
      "eq. vol rad 10.0 0.88586679041 33.5981828628 0.0263665089873\n",
      "--- 2.23 minute(s) ---\n",
      "eq. vol rad 10.0 1.22382493697 28.5851417968 0.0428133239872\n",
      "--- 2.32 minute(s) ---\n",
      "eq. vol rad 10.0 1.69071410347 24.3200751327 0.0695192796178\n",
      "--- 42.25 minute(s) ---\n",
      "eq. vol rad 10.0 2.33572146909 20.6913808111 0.112883789168\n",
      "--- 2.37 minute(s) ---\n",
      "eq. vol rad 10.0 3.22679911995 17.6041084387 0.183298071083\n",
      "--- 2.26 minute(s) ---\n",
      "eq. vol rad 10.0 4.45782286042 14.9774747635 0.297635144163\n",
      "--- 2.26 minute(s) ---\n",
      "eq. vol rad 10.0 6.15848211066 12.742749857 0.483293023857\n",
      "--- 2.28 minute(s) ---\n",
      "eq. vol rad 10.0 8.50794279963 10.8414586894 0.784759970351\n",
      "--- 2.31 minute(s) ---\n",
      "eq. vol rad 10.0 11.7537226513 9.22385103936 1.2742749857\n",
      "--- 2.30 minute(s) ---\n",
      "eq. vol rad 10.0 16.2377673919 7.84759970351 2.06913808111\n",
      "--- 2.43 minute(s) ---\n",
      "eq. vol rad 10.0 22.432475029 6.67669293919 3.35981828628\n",
      "--- 2.29 minute(s) ---\n",
      "eq. vol rad 10.0 30.990463392 5.68049216173 5.45559478117\n",
      "--- 2.23 minute(s) ---\n",
      "eq. vol rad 10.0 42.8133239872 4.83293023857 8.8586679041\n",
      "--- 2.30 minute(s) ---\n",
      "eq. vol rad 10.0 59.1466054459 4.11182940244 14.3844988829\n",
      "--- 2.29 minute(s) ---\n",
      "eq. vol rad 10.0 81.7110331546 3.49832093578 23.3572146909\n",
      "--- 2.25 minute(s) ---\n",
      "eq. vol rad 10.0 112.883789168 2.97635144163 37.9269019073\n",
      "--- 2.32 minute(s) ---\n",
      "eq. vol rad 10.0 155.948950406 2.5322627817 61.5848211066\n",
      "--- 2.41 minute(s) ---\n",
      "eq. vol rad 10.0 215.443469003 2.15443469003 100.0\n",
      "--- 2.32 minute(s) ---\n",
      "eq. vol rad 10.0 0.464158883361 46.4158883361 0.01\n",
      "--- 2.29 minute(s) ---\n",
      "eq. vol rad 10.0 0.641235479558 39.4903722958 0.0162377673919\n",
      "--- 2.26 minute(s) ---\n",
      "eq. vol rad 10.0 0.88586679041 33.5981828628 0.0263665089873\n",
      "--- 2.25 minute(s) ---\n",
      "eq. vol rad 10.0 1.22382493697 28.5851417968 0.0428133239872\n",
      "--- 2.24 minute(s) ---\n",
      "eq. vol rad 10.0 1.69071410347 24.3200751327 0.0695192796178\n",
      "--- 2.24 minute(s) ---\n",
      "eq. vol rad 10.0 2.33572146909 20.6913808111 0.112883789168\n",
      "--- 2.28 minute(s) ---\n",
      "eq. vol rad 10.0 3.22679911995 17.6041084387 0.183298071083\n",
      "--- 2.27 minute(s) ---\n",
      "eq. vol rad 10.0 4.45782286042 14.9774747635 0.297635144163\n",
      "--- 2.26 minute(s) ---\n",
      "eq. vol rad 10.0 6.15848211066 12.742749857 0.483293023857\n",
      "--- 2.30 minute(s) ---\n",
      "eq. vol rad 10.0 8.50794279963 10.8414586894 0.784759970351\n",
      "--- 2.32 minute(s) ---\n",
      "eq. vol rad 10.0 11.7537226513 9.22385103936 1.2742749857\n",
      "--- 2.29 minute(s) ---\n",
      "eq. vol rad 10.0 16.2377673919 7.84759970351 2.06913808111\n",
      "--- 2.24 minute(s) ---\n",
      "eq. vol rad 10.0 22.432475029 6.67669293919 3.35981828628\n",
      "--- 2.25 minute(s) ---\n",
      "eq. vol rad 10.0 30.990463392 5.68049216173 5.45559478117\n",
      "--- 2.27 minute(s) ---\n",
      "eq. vol rad 10.0 42.8133239872 4.83293023857 8.8586679041\n",
      "--- 2.26 minute(s) ---\n",
      "eq. vol rad 10.0 59.1466054459 4.11182940244 14.3844988829\n",
      "--- 2.32 minute(s) ---\n",
      "eq. vol rad 10.0 81.7110331546 3.49832093578 23.3572146909\n",
      "--- 2.28 minute(s) ---\n",
      "eq. vol rad 10.0 112.883789168 2.97635144163 37.9269019073\n",
      "--- 2.33 minute(s) ---\n",
      "eq. vol rad 10.0 155.948950406 2.5322627817 61.5848211066\n",
      "--- 2.46 minute(s) ---\n",
      "eq. vol rad 10.0 215.443469003 2.15443469003 100.0\n",
      "--- 2.34 minute(s) ---\n"
     ]
    }
   ],
   "source": [
    "phio=np.logspace(-2, 2., num=20, endpoint=True, base=10.0, dtype=None)#just columns (0,2); plates (-2,0)\n",
    "#add=np.logspace(-.301, .301, num=5, endpoint=True, base=10.0, dtype=None)\n",
    "#phio = sorted(np.append(phio, add, axis=0))\n",
    "#phio = [0.5, 50.0]\n",
    "#Note, there is the occasional 'erlang distribution warning'\n",
    "\n",
    "#phio = [.01,.02,.03,.04,.05,.06,.07,.08,.09,.1,.2,.3,.4,\\\n",
    "#        .5,.6,.7,.8,.9,1,2,3,4,5,6,7,8,9,10,20,30,40,50,60,70,80,90,100]\n",
    "reqarr = [1,2,3,4,5,6,7,8,9,10,20,30,40,50,60,70,80,90,100,200,300,400,500,600,700,800,900,1000]\n",
    "#reqarr = [1,2]\n",
    "numaspectratios=len(phio)\n",
    "ch_dist='best'         #anything other than gamma uses the characteristic from the best distribution pdf (lowest SSE)\n",
    "nclusters = [300, 300, 300, 300, 300]        #changes how many aggregates per aspect ratio to consider\n",
    "ncrystals = 2\n",
    "minor = 'depth'         #'minorxy' from fit ellipse or 'depth' to mimic IPAS in IDL\n",
    "save_plots = False     #saves all histograms to path with # of aggs and minor/depth folder\n",
    "file_ext = 'eps'\n",
    "\n",
    "import warnings\n",
    "warnings.filterwarnings(\"ignore\")\n",
    "\n",
    "#If creating lookup table using lab_lookup use this call to main_ar_loop:\n",
    "#AND change import from lab_copy to lab_lookup in import statement above\n",
    "#p300lookup = lab.main_ar_loop(phio, reqarr, numaspectratios, ch_dist, nclusters, ncrystals, minor, save_plots, file_ext)\n",
    "#Otherwise:\n",
    "\n",
    "p300multi = lab.main_ar_loop(phio, numaspectratios, ch_dist, nclusters, ncrystals, minor, save_plots, file_ext)\n",
    "\n",
    "#p300xrot.which_plot(nclusters, plot_name ='complexity', ch_dist=ch_dist, savefile = 'complexity_xrotrand_yrotrand',\n",
    "#              save=True, ext=file_ext, verbose=True)\n",
    "#p300.which_plot(nclusters, plot_name ='major_axis', ch_dist=ch_dist, savefile = 'major_axis_mean_error_xrotrand__yrotrand',\n",
    "#              save=True, ext=file_ext, verbose=True)\n",
    "#p300xrot.which_plot(nclusters, plot_name ='req', ch_dist=ch_dist, savefile = 'req_mean_error_xrotrand__yrotrand', \n",
    "#              save=True, ext=file_ext, verbose=True)\n",
    "#p300xrot.which_plot(nclusters, plot_name ='overlap', ch_dist=ch_dist, savefile = 'overlap_xrotrand__yrotrand',\n",
    "#              save=True, ext=file_ext, verbose=True)\n",
    "#p300xrot.which_plot(nclusters, plot_name ='char', ch_dist=ch_dist, savefile = 'char_mean_error_xrotrand__yrotrand',\n",
    "#              save=True, ext=file_ext, verbose=True)\n",
    "#p300xrot.which_plot(nclusters, plot_name ='dphigamW', ch_dist=ch_dist, savefile = 'dphigamW_xrotrand__yrotrand',\n",
    "#              save=True, ext=file_ext, verbose=True)\n",
    "#p300xrot.which_plot(nclusters, plot_name ='dphigamquad', ch_dist=ch_dist, savefile = 'dphigamquad_xrotrand__yrotrand',\n",
    "#              save=True, ext=file_ext, verbose=True)\n",
    "#p300xrot.which_plot(nclusters, plot_name ='dphigamW', ch_dist=ch_dist, savefile = 'dphigamW_xrotrand__yrotrand',\n",
    "#              save=True, ext=file_ext, verbose=True)    "
   ]
  },
  {
   "cell_type": "code",
   "execution_count": 42,
   "metadata": {},
   "outputs": [
    {
     "ename": "NameError",
     "evalue": "name 'p300' is not defined",
     "output_type": "error",
     "traceback": [
      "\u001b[0;31m---------------------------------------------------------------------------\u001b[0m",
      "\u001b[0;31mNameError\u001b[0m                                 Traceback (most recent call last)",
      "\u001b[0;32m<ipython-input-42-7bb5c7169d30>\u001b[0m in \u001b[0;36m<module>\u001b[0;34m()\u001b[0m\n\u001b[0;32m----> 1\u001b[0;31m p300.which_plot(nclusters, plot_name ='major_axis', ch_dist=ch_dist, savefile = 'major_axis_mean_error_xrotrand_yrotrand',\n\u001b[0m\u001b[1;32m      2\u001b[0m               save=True, ext=file_ext, verbose=True)\n\u001b[1;32m      3\u001b[0m p300.which_plot(nclusters, plot_name ='req', ch_dist=ch_dist, savefile = 'req_mean_error_xrotrand_yrotrand', \n\u001b[1;32m      4\u001b[0m               save=True, ext=file_ext, verbose=True)\n\u001b[1;32m      5\u001b[0m p300.which_plot(nclusters, plot_name ='overlap', ch_dist=ch_dist, savefile = 'overlap_xrotrand_yrotrand',\n",
      "\u001b[0;31mNameError\u001b[0m: name 'p300' is not defined"
     ]
    }
   ],
   "source": [
    "p300.which_plot(nclusters, plot_name ='major_axis', ch_dist=ch_dist, savefile = 'major_axis_mean_error_xrotrand_yrotrand',\n",
    "              save=True, ext=file_ext, verbose=True)\n",
    "p300.which_plot(nclusters, plot_name ='req', ch_dist=ch_dist, savefile = 'req_mean_error_xrotrand_yrotrand', \n",
    "              save=True, ext=file_ext, verbose=True)\n",
    "p300.which_plot(nclusters, plot_name ='overlap', ch_dist=ch_dist, savefile = 'overlap_xrotrand_yrotrand',\n",
    "              save=True, ext=file_ext, verbose=True)\n",
    "p300.which_plot(nclusters, plot_name ='char', ch_dist=ch_dist, savefile = 'char_mean_xrotrand_yrotrand',\n",
    "              save=True, ext=file_ext, verbose=True)\n",
    "p300.which_plot(nclusters, plot_name ='dc_da', ch_dist=ch_dist, savefile = 'dc_da_xrotrand_yrotrand',\n",
    "              save=True, ext=file_ext, verbose=True)\n",
    "p300.which_plot(nclusters, plot_name ='dphigamquad', ch_dist=ch_dist, savefile = 'dphigamquad_xrotrand_yrotrand',\n",
    "              save=True, ext=file_ext, verbose=True)\n",
    "p300.which_plot(nclusters, plot_name ='complexity', ch_dist=ch_dist, savefile = 'complexity_xrotrand_yrotrand',\n",
    "              save=True, ext=file_ext, verbose=True)"
   ]
  },
  {
   "cell_type": "code",
   "execution_count": 21,
   "metadata": {},
   "outputs": [
    {
     "name": "stdout",
     "output_type": "stream",
     "text": [
      "Saving figure to '/Users/vprzybylo/Desktop/icefiles/agg_model/agg_notes/graphics/python/[300, 300, 300, 300, 300]xtals_hist/depth/char_multi_agg_bestIDL.pdf'...\n"
     ]
    }
   ],
   "source": [
    "file_ext = 'pdf'\n",
    "p300multi.which_plot(nclusters, plot_name ='char_multi_agg', ch_dist=ch_dist, savefile = 'char_multi_agg_bestIDL',\n",
    "              save=True, ext=file_ext, verbose=True)\n",
    "\n"
   ]
  },
  {
   "cell_type": "markdown",
   "metadata": {},
   "source": [
    "Call for characteristic plots for each variable"
   ]
  },
  {
   "cell_type": "code",
   "execution_count": 112,
   "metadata": {},
   "outputs": [
    {
     "name": "stdout",
     "output_type": "stream",
     "text": [
      "Saving figure to '/Users/vprzybylo/Desktop/icefiles/agg_model/agg_notes/graphics/python/3000xtals_hist/depth/phi_shape.png'...\n",
      "Saving figure to '/Users/vprzybylo/Desktop/icefiles/agg_model/agg_notes/graphics/python/3000xtals_hist/depth/Req_shape.png'...\n",
      "Saving figure to '/Users/vprzybylo/Desktop/icefiles/agg_model/agg_notes/graphics/python/3000xtals_hist/depth/Depth_shape.png'...\n",
      "Saving figure to '/Users/vprzybylo/Desktop/icefiles/agg_model/agg_notes/graphics/python/3000xtals_hist/depth/MjrAx_shape.png'...\n",
      "Saving figure to '/Users/vprzybylo/Desktop/icefiles/agg_model/agg_notes/graphics/python/3000xtals_hist/depth/Ovrlp_shape.png'...\n"
     ]
    }
   ],
   "source": [
    "#write_file = 'ac.dat'\n",
    "#b1.which_plot(plot_name ='overlap',ch_dist=ch_dist, read_file = write_file, savefile = 'overlap',\n",
    "#              save=True, ext=file_ext, verbose=True)\n",
    "#b1.which_plot(plot_name ='char', ch_dist=ch_dist, read_file = write_file, savefile = 'char',\n",
    "#              save=True, ext=file_ext, verbose=True)\n",
    "#b1.which_plot(plot_name ='dphigamquad', ch_dist=ch_dist, read_file = write_file, savefile = 'dphigamquad',\n",
    "#              save=True, ext=file_ext, verbose=True)\n",
    "#b1.which_plot(plot_name ='req', ch_dist=ch_dist, read_file = write_file, savefile = 'req', \n",
    "#              save=True, ext=file_ext, verbose=True)\n",
    "#b1.which_plot(plot_name ='major_axis', ch_dist=ch_dist, read_file = write_file, savefile = 'major_axis',\n",
    "#              save=True, ext=file_ext, verbose=True)\n",
    "b1.which_plot(plot_name ='shape', ch_dist=ch_dist, read_file = write_file, savefile = 'shape',\n",
    "              save=True, ext=file_ext, verbose=True)\n",
    "\n"
   ]
  },
  {
   "cell_type": "markdown",
   "metadata": {},
   "source": [
    "###### Initialize a column; note z is into/out of the page, y is up/vertical, therefore 'falling' into the page"
   ]
  },
  {
   "cell_type": "code",
   "execution_count": 17,
   "metadata": {},
   "outputs": [
    {
     "name": "stdout",
     "output_type": "stream",
     "text": [
      "50.0 -50.0\n",
      "5.0 -5.0\n",
      "4.33012701892 -4.33012701892\n"
     ]
    },
    {
     "data": {
      "image/svg+xml": [
       "<svg xmlns=\"http://www.w3.org/2000/svg\" xmlns:xlink=\"http://www.w3.org/1999/xlink\" width=\"108.0\" height=\"100.0\" viewBox=\"-54.0 -9.0 108.0 18.0\" preserveAspectRatio=\"xMinYMin meet\"><g transform=\"matrix(1,0,0,-1,0,0.0)\"><g><polyline fill=\"none\" stroke=\"#66cc99\" stroke-width=\"2.0\" points=\"50.0,-2.5 50.0,2.5 50.0,5.0 50.0,2.5 50.0,-2.5 50.0,-5.0 50.0,-2.5\" opacity=\"0.8\" /><polyline fill=\"none\" stroke=\"#66cc99\" stroke-width=\"2.0\" points=\"-50.0,-2.5 -50.0,2.5 -50.0,5.0 -50.0,2.5 -50.0,-2.5 -50.0,-5.0 -50.0,-2.5\" opacity=\"0.8\" /><polyline fill=\"none\" stroke=\"#66cc99\" stroke-width=\"2.0\" points=\"50.0,-2.5 -50.0,-2.5\" opacity=\"0.8\" /><polyline fill=\"none\" stroke=\"#66cc99\" stroke-width=\"2.0\" points=\"50.0,2.5 -50.0,2.5\" opacity=\"0.8\" /><polyline fill=\"none\" stroke=\"#66cc99\" stroke-width=\"2.0\" points=\"50.0,5.0 -50.0,5.0\" opacity=\"0.8\" /><polyline fill=\"none\" stroke=\"#66cc99\" stroke-width=\"2.0\" points=\"50.0,2.5 -50.0,2.5\" opacity=\"0.8\" /><polyline fill=\"none\" stroke=\"#66cc99\" stroke-width=\"2.0\" points=\"50.0,-2.5 -50.0,-2.5\" opacity=\"0.8\" /><polyline fill=\"none\" stroke=\"#66cc99\" stroke-width=\"2.0\" points=\"50.0,-5.0 -50.0,-5.0\" opacity=\"0.8\" /></g></g></svg>"
      ],
      "text/plain": [
       "<shapely.geometry.multilinestring.MultiLineString at 0x10dbabb38>"
      ]
     },
     "execution_count": 17,
     "metadata": {},
     "output_type": "execute_result"
    }
   ],
   "source": [
    "#columns initially  - y axis is up and down, x left right, z into page\n",
    "length=100\n",
    "width=10\n",
    "rotation = [0,0,0]\n",
    "#rotation = [0,0, random.uniform(0, 2 * np.pi)]\n",
    "seedcrystal = crys.IceCrystal(length=length, width=width, rotation=rotation)\n",
    "\n",
    "xmaxseed = seedcrystal.max('x')\n",
    "xminseed = seedcrystal.min('x')\n",
    "ymaxseed = seedcrystal.max('y')\n",
    "yminseed = seedcrystal.min('y')\n",
    "zmaxseed = seedcrystal.max('z')\n",
    "zminseed = seedcrystal.min('z')\n",
    "\n",
    "print(xmaxseed, xminseed)\n",
    "print(ymaxseed, yminseed)\n",
    "print(zmaxseed, zminseed)\n",
    "\n",
    "seedcrystal.plot()"
   ]
  },
  {
   "cell_type": "markdown",
   "metadata": {},
   "source": [
    "###### Initialize a plate; note z is into/out of the page, y is up/vertical, therefore 'falling' into the page\n"
   ]
  },
  {
   "cell_type": "code",
   "execution_count": 3,
   "metadata": {},
   "outputs": [
    {
     "name": "stdout",
     "output_type": "stream",
     "text": [
      "0.418224532392 0.452313005122 0.10684514172340248\n"
     ]
    },
    {
     "data": {
      "image/svg+xml": [
       "<svg xmlns=\"http://www.w3.org/2000/svg\" xmlns:xlink=\"http://www.w3.org/1999/xlink\" width=\"300\" height=\"300\" viewBox=\"-471.45596159786135 -483.22857813756724 942.9119231957227 966.4571562751345\" preserveAspectRatio=\"xMinYMin meet\"><g transform=\"matrix(1,0,0,-1,0,0.0)\"><g><polyline fill=\"none\" stroke=\"#66cc99\" stroke-width=\"6.443047708500896\" points=\"435.6612521061897,-182.15733986600543 392.49819476380986,265.27652877989016 22.394008780100087,447.4338686458956 -304.5471198612299,182.15733986600543 -261.38406251885004,-265.27652877989016 108.72012346485974,-447.4338686458956 435.6612521061897,-182.15733986600543\" opacity=\"0.8\" /><polyline fill=\"none\" stroke=\"#66cc99\" stroke-width=\"6.443047708500896\" points=\"304.5471198612299,-182.15733986600543 261.38406251885004,265.27652877989016 -108.72012346485974,447.4338686458956 -435.6612521061897,182.15733986600543 -392.49819476380986,-265.27652877989016 -22.394008780100087,-447.4338686458956 304.5471198612299,-182.15733986600543\" opacity=\"0.8\" /><polyline fill=\"none\" stroke=\"#66cc99\" stroke-width=\"6.443047708500896\" points=\"435.6612521061897,-182.15733986600543 304.5471198612299,-182.15733986600543\" opacity=\"0.8\" /><polyline fill=\"none\" stroke=\"#66cc99\" stroke-width=\"6.443047708500896\" points=\"392.49819476380986,265.27652877989016 261.38406251885004,265.27652877989016\" opacity=\"0.8\" /><polyline fill=\"none\" stroke=\"#66cc99\" stroke-width=\"6.443047708500896\" points=\"22.394008780100087,447.4338686458956 -108.72012346485974,447.4338686458956\" opacity=\"0.8\" /><polyline fill=\"none\" stroke=\"#66cc99\" stroke-width=\"6.443047708500896\" points=\"-304.5471198612299,182.15733986600543 -435.6612521061897,182.15733986600543\" opacity=\"0.8\" /><polyline fill=\"none\" stroke=\"#66cc99\" stroke-width=\"6.443047708500896\" points=\"-261.38406251885004,-265.27652877989016 -392.49819476380986,-265.27652877989016\" opacity=\"0.8\" /><polyline fill=\"none\" stroke=\"#66cc99\" stroke-width=\"6.443047708500896\" points=\"108.72012346485974,-447.4338686458956 -22.394008780100087,-447.4338686458956\" opacity=\"0.8\" /></g></g></svg>"
      ],
      "text/plain": [
       "<shapely.geometry.multilinestring.MultiLineString at 0x10b63d2b0>"
      ]
     },
     "execution_count": 3,
     "metadata": {},
     "output_type": "execute_result"
    }
   ],
   "source": [
    "length=30 * 10 #c axis\n",
    "width=90 * 10 #a axis\n",
    "plates = width > length\n",
    "\n",
    "f = lambda x: -crys.IceCrystal(length=length, width=width, rotation=[0,x,0]).projectxy().area\n",
    "yrot = opt.minimize_scalar(f, bounds=(0, np.pi/2), method='Bounded').x\n",
    "f = lambda x: -crys.IceCrystal(length=length, width=width, rotation=[x,0,0]).projectxy().area\n",
    "xrot = opt.minimize_scalar(f, bounds=(0, np.pi/2), method='Bounded').x\n",
    "\n",
    "\n",
    "yrotrand = random.uniform(-yrot, yrot)\n",
    "zrot = random.uniform(0, 2 * np.pi)\n",
    "print(xrot, yrotrand, zrot)\n",
    "\n",
    "#rotation = [0, 0, 0]            \n",
    "rotation = [0, yrotrand, zrot]\n",
    "\n",
    "seedcrystal = crys.IceCrystal(length=length, width=width, rotation=rotation)\n",
    "\n",
    "xmaxseed = seedcrystal.max('x')\n",
    "xminseed = seedcrystal.min('x')\n",
    "ymaxseed = seedcrystal.max('y')\n",
    "yminseed = seedcrystal.min('y')\n",
    "zmaxseed = seedcrystal.max('z')\n",
    "zminseed = seedcrystal.min('z')\n",
    "\n",
    "#print(xmaxseed, xminseed)\n",
    "#print(ymaxseed, yminseed)\n",
    "#print(zmaxseed, zminseed)\n",
    "#print(seedcrystal.maxz)\n",
    "seedcrystal.plot()\n"
   ]
  },
  {
   "cell_type": "code",
   "execution_count": 4,
   "metadata": {
    "scrolled": true
   },
   "outputs": [
    {
     "name": "stdout",
     "output_type": "stream",
     "text": [
      "0.418224532392 0.303790121631 1.3790824679357898\n"
     ]
    },
    {
     "data": {
      "image/svg+xml": [
       "<svg xmlns=\"http://www.w3.org/2000/svg\" xmlns:xlink=\"http://www.w3.org/1999/xlink\" width=\"300\" height=\"300\" viewBox=\"-503.71012264059374 -466.404837016604 1007.4202452811875 932.809674033208\" preserveAspectRatio=\"xMinYMin meet\"><g transform=\"matrix(1,0,0,-1,0,0.0)\"><g><polyline fill=\"none\" stroke=\"#66cc99\" stroke-width=\"6.71613496854125\" points=\"326.49057683471887,288.1466680994322 -95.03684733295664,312.8305593968306 -376.65658663109747,-33.44731704431806 -236.74890176156288,-404.4090847828653 184.7785224061126,-429.0929760802637 466.39826170425346,-82.815099639115 326.49057683471887,288.1466680994322\" opacity=\"0.8\" /><polyline fill=\"none\" stroke=\"#66cc99\" stroke-width=\"6.71613496854125\" points=\"236.74890176156288,404.4090847828653 -184.7785224061126,429.0929760802637 -466.39826170425346,82.815099639115 -326.49057683471887,-288.1466680994322 95.03684733295664,-312.8305593968306 376.65658663109747,33.44731704431806 236.74890176156288,404.4090847828653\" opacity=\"0.8\" /><polyline fill=\"none\" stroke=\"#66cc99\" stroke-width=\"6.71613496854125\" points=\"326.49057683471887,288.1466680994322 236.74890176156288,404.4090847828653\" opacity=\"0.8\" /><polyline fill=\"none\" stroke=\"#66cc99\" stroke-width=\"6.71613496854125\" points=\"-95.03684733295664,312.8305593968306 -184.7785224061126,429.0929760802637\" opacity=\"0.8\" /><polyline fill=\"none\" stroke=\"#66cc99\" stroke-width=\"6.71613496854125\" points=\"-376.65658663109747,-33.44731704431806 -466.39826170425346,82.815099639115\" opacity=\"0.8\" /><polyline fill=\"none\" stroke=\"#66cc99\" stroke-width=\"6.71613496854125\" points=\"-236.74890176156288,-404.4090847828653 -326.49057683471887,-288.1466680994322\" opacity=\"0.8\" /><polyline fill=\"none\" stroke=\"#66cc99\" stroke-width=\"6.71613496854125\" points=\"184.7785224061126,-429.0929760802637 95.03684733295664,-312.8305593968306\" opacity=\"0.8\" /><polyline fill=\"none\" stroke=\"#66cc99\" stroke-width=\"6.71613496854125\" points=\"466.39826170425346,-82.815099639115 376.65658663109747,33.44731704431806\" opacity=\"0.8\" /></g></g></svg>"
      ],
      "text/plain": [
       "<shapely.geometry.multilinestring.MultiLineString at 0x10b63d9e8>"
      ]
     },
     "execution_count": 4,
     "metadata": {},
     "output_type": "execute_result"
    }
   ],
   "source": [
    "#Plate from top down after reoriention based on the max projected area\n",
    "length=30 * 10 #c axis\n",
    "width=90 * 10 #a axis\n",
    "plates = width > length\n",
    "\n",
    "f = lambda x: -crys.IceCrystal(length=length, width=width, rotation=[0,x,0]).projectxy().area\n",
    "yrot = opt.minimize_scalar(f, bounds=(0, np.pi/2), method='Bounded').x\n",
    "f = lambda x: -crys.IceCrystal(length=length, width=width, rotation=[x,0,0]).projectxy().area\n",
    "xrot = opt.minimize_scalar(f, bounds=(0, np.pi/2), method='Bounded').x\n",
    "\n",
    "zrot = random.uniform(0, 2 * np.pi)\n",
    "yrotrand = random.uniform(-yrot, yrot)\n",
    "print(xrot, yrotrand, zrot)\n",
    "\n",
    "rotation = [xrot, yrotrand, zrot]\n",
    "#rotation = [0,0,0]\n",
    "seedcrystal = crys.IceCrystal(length=length, width=width, rotation=rotation)\n",
    "cluster = crys.IceCluster(seedcrystal)\n",
    "seedcrystal.plot()"
   ]
  },
  {
   "cell_type": "code",
   "execution_count": 5,
   "metadata": {},
   "outputs": [
    {
     "name": "stdout",
     "output_type": "stream",
     "text": [
      "0.418224532392 0.474152046463 3.330118267592138\n"
     ]
    },
    {
     "data": {
      "image/svg+xml": [
       "<svg xmlns=\"http://www.w3.org/2000/svg\" xmlns:xlink=\"http://www.w3.org/1999/xlink\" width=\"300\" height=\"300\" viewBox=\"-219.38157061329923 -820.5830302380018 964.6093875485643 956.4332606866204\" preserveAspectRatio=\"xMinYMin meet\"><g transform=\"matrix(1,0,0,-1,0,-684.7327997893832)\"><g><polyline fill=\"none\" stroke=\"#66cc99\" stroke-width=\"6.430729250323762\" points=\"-46.68003581777083,-340.1488021575199 28.351034386372902,-728.4391311784949 406.441823956436,-784.856756625092 709.5015433223552,-452.9840530507141 634.4704731182117,-64.6937240297392 256.37968354814853,-8.276098583142073 -46.68003581777083,-340.1488021575199\" opacity=\"0.8\" /><polyline fill=\"none\" stroke=\"#66cc99\" stroke-width=\"6.430729250323762\" points=\"-183.65529700038945,-231.74874673866907 -108.62422679624575,-620.039075759644 269.4665627738173,-676.4567012062412 572.5262821397366,-344.58399763186327 497.4952119355929,43.70633138911171 119.40442236552985,100.12395683570884 -183.65529700038945,-231.74874673866907\" opacity=\"0.8\" /><polyline fill=\"none\" stroke=\"#66cc99\" stroke-width=\"6.430729250323762\" points=\"-46.68003581777083,-340.1488021575199 -183.65529700038945,-231.74874673866907\" opacity=\"0.8\" /><polyline fill=\"none\" stroke=\"#66cc99\" stroke-width=\"6.430729250323762\" points=\"28.351034386372902,-728.4391311784949 -108.62422679624575,-620.039075759644\" opacity=\"0.8\" /><polyline fill=\"none\" stroke=\"#66cc99\" stroke-width=\"6.430729250323762\" points=\"406.441823956436,-784.856756625092 269.4665627738173,-676.4567012062412\" opacity=\"0.8\" /><polyline fill=\"none\" stroke=\"#66cc99\" stroke-width=\"6.430729250323762\" points=\"709.5015433223552,-452.9840530507141 572.5262821397366,-344.58399763186327\" opacity=\"0.8\" /><polyline fill=\"none\" stroke=\"#66cc99\" stroke-width=\"6.430729250323762\" points=\"634.4704731182117,-64.6937240297392 497.4952119355929,43.70633138911171\" opacity=\"0.8\" /><polyline fill=\"none\" stroke=\"#66cc99\" stroke-width=\"6.430729250323762\" points=\"256.37968354814853,-8.276098583142073 119.40442236552985,100.12395683570884\" opacity=\"0.8\" /></g></g></svg>"
      ],
      "text/plain": [
       "<shapely.geometry.multilinestring.MultiLineString at 0x10f10b7b8>"
      ]
     },
     "execution_count": 5,
     "metadata": {},
     "output_type": "execute_result"
    }
   ],
   "source": [
    "#Initialize a new crystal (plate), same dimensions, again after orientation with max area (top down view)\n",
    "\n",
    "f = lambda x: -crys.IceCrystal(length=length, width=width, rotation=[0,x,0]).projectxy().area\n",
    "yrot = opt.minimize_scalar(f, bounds=(0, np.pi/2), method='Bounded').x\n",
    "f = lambda x: -crys.IceCrystal(length=length, width=width, rotation=[x,0,0]).projectxy().area\n",
    "xrot = opt.minimize_scalar(f, bounds=(0, np.pi/2), method='Bounded').x\n",
    "\n",
    "yrotrand = random.uniform(-yrot, yrot)\n",
    "zrot = random.uniform(0, 2 * np.pi)\n",
    "print(xrot, yrot, zrot)\n",
    "            \n",
    "rotation = [xrot, yrot, zrot]\n",
    "new_crystal = crys.IceCrystal(length=length, width=width, rotation=rotation)\n",
    "\n",
    "xmax = cluster.max('x')\n",
    "xmin = cluster.min('x')\n",
    "ymax = cluster.max('y')\n",
    "ymin = cluster.min('y')\n",
    "random_loc = [random.uniform(xmin, xmax), random.uniform(ymin, ymax), 0]\n",
    "new_crystal.move(random_loc)\n",
    "\n",
    "new_crystal.plot()"
   ]
  },
  {
   "cell_type": "code",
   "execution_count": 9,
   "metadata": {},
   "outputs": [
    {
     "name": "stdout",
     "output_type": "stream",
     "text": [
      "<class 'ipas.crystals_opt_rot.IceCluster'>\n"
     ]
    },
    {
     "data": {
      "image/svg+xml": [
       "<svg xmlns=\"http://www.w3.org/2000/svg\" xmlns:xlink=\"http://www.w3.org/1999/xlink\" width=\"300\" height=\"300\" viewBox=\"-844.63108862299 -844.6310886229899 1613.9069639432432 1422.3999621739217\" preserveAspectRatio=\"xMinYMin meet\"><g transform=\"matrix(1,0,0,-1,0,-266.862215072058)\"><g><polyline fill=\"none\" stroke=\"#66cc99\" stroke-width=\"10.759379759621622\" points=\"288.1466680994322,188.08349449467397 312.83055939683067,343.6641365584691 -33.44731704431795,286.375789357179 -404.40908478286525,73.50680009209364 -429.0929760802638,-82.07384197170155 -82.81509963911508,-24.785494770411375 288.1466680994322,188.08349449467397\" opacity=\"0.8\" /><polyline fill=\"none\" stroke=\"#66cc99\" stroke-width=\"10.759379759621622\" points=\"404.40908478286525,-73.50680009209364 429.0929760802638,82.07384197170155 82.81509963911508,24.785494770411375 -288.1466680994322,-188.08349449467397 -312.83055939683067,-343.6641365584691 33.44731704431795,-286.375789357179 404.40908478286525,-73.50680009209364\" opacity=\"0.8\" /><polyline fill=\"none\" stroke=\"#66cc99\" stroke-width=\"10.759379759621622\" points=\"288.1466680994322,188.08349449467397 404.40908478286525,-73.50680009209364\" opacity=\"0.8\" /><polyline fill=\"none\" stroke=\"#66cc99\" stroke-width=\"10.759379759621622\" points=\"312.83055939683067,343.6641365584691 429.0929760802638,82.07384197170155\" opacity=\"0.8\" /><polyline fill=\"none\" stroke=\"#66cc99\" stroke-width=\"10.759379759621622\" points=\"-33.44731704431795,286.375789357179 82.81509963911508,24.785494770411375\" opacity=\"0.8\" /><polyline fill=\"none\" stroke=\"#66cc99\" stroke-width=\"10.759379759621622\" points=\"-404.40908478286525,73.50680009209364 -288.1466680994322,-188.08349449467397\" opacity=\"0.8\" /><polyline fill=\"none\" stroke=\"#66cc99\" stroke-width=\"10.759379759621622\" points=\"-429.0929760802638,-82.07384197170155 -312.83055939683067,-343.6641365584691\" opacity=\"0.8\" /><polyline fill=\"none\" stroke=\"#66cc99\" stroke-width=\"10.759379759621622\" points=\"-82.81509963911508,-24.785494770411375 33.44731704431795,-286.375789357179\" opacity=\"0.8\" /><polyline fill=\"none\" stroke=\"#66cc99\" stroke-width=\"10.759379759621622\" points=\"-340.1488021575198,517.994541553034 -728.4391311784949,303.2832030242925 -784.8567566250921,65.87131119649523 -452.98405305071424,43.17075789743935 -64.69372402973926,257.8820964261808 -8.276098583142034,495.2939882539781 -340.1488021575198,517.994541553034\" opacity=\"0.8\" /><polyline fill=\"none\" stroke=\"#66cc99\" stroke-width=\"10.759379759621622\" points=\"-231.74874673866898,274.09455014437594 -620.039075759644,59.38321161563449 -676.4567012062412,-178.02868021216284 -344.58399763186344,-200.7292335112187 43.706331389111625,13.982105017522763 100.12395683570887,251.39399684532003 -231.74874673866898,274.09455014437594\" opacity=\"0.8\" /><polyline fill=\"none\" stroke=\"#66cc99\" stroke-width=\"10.759379759621622\" points=\"-340.1488021575198,517.994541553034 -231.74874673866898,274.09455014437594\" opacity=\"0.8\" /><polyline fill=\"none\" stroke=\"#66cc99\" stroke-width=\"10.759379759621622\" points=\"-728.4391311784949,303.2832030242925 -620.039075759644,59.38321161563449\" opacity=\"0.8\" /><polyline fill=\"none\" stroke=\"#66cc99\" stroke-width=\"10.759379759621622\" points=\"-784.8567566250921,65.87131119649523 -676.4567012062412,-178.02868021216284\" opacity=\"0.8\" /><polyline fill=\"none\" stroke=\"#66cc99\" stroke-width=\"10.759379759621622\" points=\"-452.98405305071424,43.17075789743935 -344.58399763186344,-200.7292335112187\" opacity=\"0.8\" /><polyline fill=\"none\" stroke=\"#66cc99\" stroke-width=\"10.759379759621622\" points=\"-64.69372402973926,257.8820964261808 43.706331389111625,13.982105017522763\" opacity=\"0.8\" /><polyline fill=\"none\" stroke=\"#66cc99\" stroke-width=\"10.759379759621622\" points=\"-8.276098583142034,495.2939882539781 100.12395683570887,251.39399684532003\" opacity=\"0.8\" /><polyline fill=\"none\" stroke=\"#66cc99\" stroke-width=\"10.759379759621622\" points=\"-46.68003581777083,-340.1488021575199 28.351034386372902,-728.4391311784949 406.441823956436,-784.856756625092 709.5015433223552,-452.9840530507141 634.4704731182117,-64.6937240297392 256.37968354814853,-8.276098583142073 -46.68003581777083,-340.1488021575199\" opacity=\"0.8\" /><polyline fill=\"none\" stroke=\"#66cc99\" stroke-width=\"10.759379759621622\" points=\"-183.65529700038945,-231.74874673866907 -108.62422679624575,-620.039075759644 269.4665627738173,-676.4567012062412 572.5262821397366,-344.58399763186327 497.4952119355929,43.70633138911171 119.40442236552985,100.12395683570884 -183.65529700038945,-231.74874673866907\" opacity=\"0.8\" /><polyline fill=\"none\" stroke=\"#66cc99\" stroke-width=\"10.759379759621622\" points=\"-46.68003581777083,-340.1488021575199 -183.65529700038945,-231.74874673866907\" opacity=\"0.8\" /><polyline fill=\"none\" stroke=\"#66cc99\" stroke-width=\"10.759379759621622\" points=\"28.351034386372902,-728.4391311784949 -108.62422679624575,-620.039075759644\" opacity=\"0.8\" /><polyline fill=\"none\" stroke=\"#66cc99\" stroke-width=\"10.759379759621622\" points=\"406.441823956436,-784.856756625092 269.4665627738173,-676.4567012062412\" opacity=\"0.8\" /><polyline fill=\"none\" stroke=\"#66cc99\" stroke-width=\"10.759379759621622\" points=\"709.5015433223552,-452.9840530507141 572.5262821397366,-344.58399763186327\" opacity=\"0.8\" /><polyline fill=\"none\" stroke=\"#66cc99\" stroke-width=\"10.759379759621622\" points=\"634.4704731182117,-64.6937240297392 497.4952119355929,43.70633138911171\" opacity=\"0.8\" /><polyline fill=\"none\" stroke=\"#66cc99\" stroke-width=\"10.759379759621622\" points=\"256.37968354814853,-8.276098583142073 119.40442236552985,100.12395683570884\" opacity=\"0.8\" /><polyline fill=\"none\" stroke=\"#66cc99\" stroke-width=\"10.759379759621622\" points=\"-46.68003581777083,-340.1488021575199 28.351034386372902,-728.4391311784949 406.441823956436,-784.856756625092 709.5015433223552,-452.9840530507141 634.4704731182117,-64.6937240297392 256.37968354814853,-8.276098583142073 -46.68003581777083,-340.1488021575199\" opacity=\"0.8\" /><polyline fill=\"none\" stroke=\"#66cc99\" stroke-width=\"10.759379759621622\" points=\"-183.65529700038945,-231.74874673866907 -108.62422679624575,-620.039075759644 269.4665627738173,-676.4567012062412 572.5262821397366,-344.58399763186327 497.4952119355929,43.70633138911171 119.40442236552985,100.12395683570884 -183.65529700038945,-231.74874673866907\" opacity=\"0.8\" /><polyline fill=\"none\" stroke=\"#66cc99\" stroke-width=\"10.759379759621622\" points=\"-46.68003581777083,-340.1488021575199 -183.65529700038945,-231.74874673866907\" opacity=\"0.8\" /><polyline fill=\"none\" stroke=\"#66cc99\" stroke-width=\"10.759379759621622\" points=\"28.351034386372902,-728.4391311784949 -108.62422679624575,-620.039075759644\" opacity=\"0.8\" /><polyline fill=\"none\" stroke=\"#66cc99\" stroke-width=\"10.759379759621622\" points=\"406.441823956436,-784.856756625092 269.4665627738173,-676.4567012062412\" opacity=\"0.8\" /><polyline fill=\"none\" stroke=\"#66cc99\" stroke-width=\"10.759379759621622\" points=\"709.5015433223552,-452.9840530507141 572.5262821397366,-344.58399763186327\" opacity=\"0.8\" /><polyline fill=\"none\" stroke=\"#66cc99\" stroke-width=\"10.759379759621622\" points=\"634.4704731182117,-64.6937240297392 497.4952119355929,43.70633138911171\" opacity=\"0.8\" /><polyline fill=\"none\" stroke=\"#66cc99\" stroke-width=\"10.759379759621622\" points=\"256.37968354814853,-8.276098583142073 119.40442236552985,100.12395683570884\" opacity=\"0.8\" /></g></g></svg>"
      ],
      "text/plain": [
       "<shapely.geometry.multilinestring.MultiLineString at 0x10b46f0b8>"
      ]
     },
     "execution_count": 9,
     "metadata": {},
     "output_type": "execute_result"
    }
   ],
   "source": [
    "#create a cluster viewed from top down\n",
    "crystal_hit = cluster.add_crystal_from_above(new_crystal)   \n",
    "cluster.plot()"
   ]
  },
  {
   "cell_type": "code",
   "execution_count": 7,
   "metadata": {},
   "outputs": [
    {
     "data": {
      "image/svg+xml": [
       "<svg xmlns=\"http://www.w3.org/2000/svg\" xmlns:xlink=\"http://www.w3.org/1999/xlink\" width=\"300\" height=\"300\" viewBox=\"-833.4147459333063 -392.22212586668337 1311.0657113217844 958.7746567279316\" preserveAspectRatio=\"xMinYMin meet\"><g transform=\"matrix(1,0,0,-1,0,174.33040499456484)\"><g><polyline fill=\"none\" stroke=\"#66cc99\" stroke-width=\"8.740438075478563\" points=\"288.1466680994322,188.08349449467397 312.83055939683067,343.6641365584691 -33.44731704431795,286.375789357179 -404.40908478286525,73.50680009209364 -429.0929760802638,-82.07384197170155 -82.81509963911508,-24.785494770411375 288.1466680994322,188.08349449467397\" opacity=\"0.8\" /><polyline fill=\"none\" stroke=\"#66cc99\" stroke-width=\"8.740438075478563\" points=\"404.40908478286525,-73.50680009209364 429.0929760802638,82.07384197170155 82.81509963911508,24.785494770411375 -288.1466680994322,-188.08349449467397 -312.83055939683067,-343.6641365584691 33.44731704431795,-286.375789357179 404.40908478286525,-73.50680009209364\" opacity=\"0.8\" /><polyline fill=\"none\" stroke=\"#66cc99\" stroke-width=\"8.740438075478563\" points=\"288.1466680994322,188.08349449467397 404.40908478286525,-73.50680009209364\" opacity=\"0.8\" /><polyline fill=\"none\" stroke=\"#66cc99\" stroke-width=\"8.740438075478563\" points=\"312.83055939683067,343.6641365584691 429.0929760802638,82.07384197170155\" opacity=\"0.8\" /><polyline fill=\"none\" stroke=\"#66cc99\" stroke-width=\"8.740438075478563\" points=\"-33.44731704431795,286.375789357179 82.81509963911508,24.785494770411375\" opacity=\"0.8\" /><polyline fill=\"none\" stroke=\"#66cc99\" stroke-width=\"8.740438075478563\" points=\"-404.40908478286525,73.50680009209364 -288.1466680994322,-188.08349449467397\" opacity=\"0.8\" /><polyline fill=\"none\" stroke=\"#66cc99\" stroke-width=\"8.740438075478563\" points=\"-429.0929760802638,-82.07384197170155 -312.83055939683067,-343.6641365584691\" opacity=\"0.8\" /><polyline fill=\"none\" stroke=\"#66cc99\" stroke-width=\"8.740438075478563\" points=\"-82.81509963911508,-24.785494770411375 33.44731704431795,-286.375789357179\" opacity=\"0.8\" /><polyline fill=\"none\" stroke=\"#66cc99\" stroke-width=\"8.740438075478563\" points=\"-340.1488021575198,517.994541553034 -728.4391311784949,303.2832030242925 -784.8567566250921,65.87131119649523 -452.98405305071424,43.17075789743935 -64.69372402973926,257.8820964261808 -8.276098583142034,495.2939882539781 -340.1488021575198,517.994541553034\" opacity=\"0.8\" /><polyline fill=\"none\" stroke=\"#66cc99\" stroke-width=\"8.740438075478563\" points=\"-231.74874673866898,274.09455014437594 -620.039075759644,59.38321161563449 -676.4567012062412,-178.02868021216284 -344.58399763186344,-200.7292335112187 43.706331389111625,13.982105017522763 100.12395683570887,251.39399684532003 -231.74874673866898,274.09455014437594\" opacity=\"0.8\" /><polyline fill=\"none\" stroke=\"#66cc99\" stroke-width=\"8.740438075478563\" points=\"-340.1488021575198,517.994541553034 -231.74874673866898,274.09455014437594\" opacity=\"0.8\" /><polyline fill=\"none\" stroke=\"#66cc99\" stroke-width=\"8.740438075478563\" points=\"-728.4391311784949,303.2832030242925 -620.039075759644,59.38321161563449\" opacity=\"0.8\" /><polyline fill=\"none\" stroke=\"#66cc99\" stroke-width=\"8.740438075478563\" points=\"-784.8567566250921,65.87131119649523 -676.4567012062412,-178.02868021216284\" opacity=\"0.8\" /><polyline fill=\"none\" stroke=\"#66cc99\" stroke-width=\"8.740438075478563\" points=\"-452.98405305071424,43.17075789743935 -344.58399763186344,-200.7292335112187\" opacity=\"0.8\" /><polyline fill=\"none\" stroke=\"#66cc99\" stroke-width=\"8.740438075478563\" points=\"-64.69372402973926,257.8820964261808 43.706331389111625,13.982105017522763\" opacity=\"0.8\" /><polyline fill=\"none\" stroke=\"#66cc99\" stroke-width=\"8.740438075478563\" points=\"-8.276098583142034,495.2939882539781 100.12395683570887,251.39399684532003\" opacity=\"0.8\" /></g></g></svg>"
      ],
      "text/plain": [
       "<shapely.geometry.multilinestring.MultiLineString at 0x10efd9fd0>"
      ]
     },
     "execution_count": 7,
     "metadata": {},
     "output_type": "execute_result"
    }
   ],
   "source": [
    "#View the cluster from the side\n",
    "\n",
    "#if plates:\n",
    "#    cluster.reorient()\n",
    "cluster.rotate_to([np.pi/2,np.pi,np.pi/2])\n",
    "cluster.plot()"
   ]
  },
  {
   "cell_type": "markdown",
   "metadata": {
    "collapsed": true
   },
   "source": [
    "if plates:\n",
    "    cluster.rotate_to([np.pi/2,np.pi,np.pi/2])  #view side -- z axis up down y axis left right\n",
    "else:\n",
    "    #no rotation = x,z\n",
    "    cluster.rotate_to([np.pi/2,0,0]) #y left right,z up down\n",
    "    #cluster.rotate_to([np.pi/2,np.pi/2,np.pi/2])  #z,y\n",
    "\n",
    "cluster.rotate_to([np.pi/2,np.pi,np.pi/2])  #view side "
   ]
  },
  {
   "cell_type": "markdown",
   "metadata": {},
   "source": [
    "# 3 panel view "
   ]
  },
  {
   "cell_type": "code",
   "execution_count": 9,
   "metadata": {},
   "outputs": [
    {
     "name": "stdout",
     "output_type": "stream",
     "text": [
      "here1\n",
      "3 2 2.5 5 4 4.6\n",
      "here1\n",
      "here2\n",
      "3 2 2.5 5 4 4.6\n",
      "here3\n",
      "3 2 2.5 5 4 4.6\n"
     ]
    },
    {
     "data": {
      "image/png": "[encoded data removed]",
      "text/plain": [
       "<matplotlib.figure.Figure at 0x10db93358>"
      ]
     },
     "metadata": {},
     "output_type": "display_data"
    }
   ],
   "source": [
    "from descartes import PolygonPatch\n",
    "import operator\n",
    "from collections import OrderedDict\n",
    "\n",
    "crystals = [seedcrystal, new_crystal]\n",
    "dims = [['x','z'],['y','z'],['x','y']]\n",
    "in_out = ['y','x','z']\n",
    "fig, ax = plt.subplots(1,3, figsize=(15, 5), facecolor='w', edgecolor='k')\n",
    "fig.subplots_adjust(hspace = .5, wspace=.3)\n",
    "#ax = ax.ravel()\n",
    "\n",
    "#print('zrotseed, zrotnew',zrotseed, zrotnew)\n",
    "\n",
    "for l in range(len(dims)):\n",
    "\n",
    "    if max(seedcrystal.points[in_out[l]][0:6]) > max(seedcrystal.points[in_out[l]][6:12]):\n",
    "        hexseedmax = seedcrystal.points[dims[l]][0:6] \n",
    "        seedptmax = max(seedcrystal.points[in_out[l]][0:6])\n",
    "        polyseedmax = geom.Polygon([[p[0], p[1]] for p in hexseedmax])\n",
    "        hexseedmin = seedcrystal.points[dims[l]][6:12]\n",
    "        seedptmin = min(seedcrystal.points[in_out[l]][6:12])\n",
    "        polyseedmin = geom.Polygon([[p[0], p[1]] for p in hexseedmin])\n",
    "    else:\n",
    "        hexseedmax = seedcrystal.points[dims[l]][6:12]\n",
    "        seedptmax = max(seedcrystal.points[in_out[l]][6:12])\n",
    "        polyseedmax = geom.Polygon([[p[0], p[1]] for p in hexseedmax])\n",
    "        hexseedmin = seedcrystal.points[dims[l]][0:6]\n",
    "        seedptmin = min(seedcrystal.points[in_out[l]][0:6])                   \n",
    "        polyseedmin = geom.Polygon([[p[0], p[1]] for p in hexseedmin])\n",
    "        \n",
    "    if max(new_crystal.points[in_out[l]][0:6])> max(new_crystal.points[in_out[l]][6:12]):\n",
    "        hexnewmax = new_crystal.points[dims[l]][0:6]\n",
    "        newptmax = max(new_crystal.points[in_out[l]][0:6])\n",
    "        polynewmax = geom.Polygon([[p[0], p[1]] for p in hexnewmax])\n",
    "        hexnewmin = new_crystal.points[dims[l]][6:12]\n",
    "        newptmin = min(new_crystal.points[in_out[l]][6:12])\n",
    "        polynewmin = geom.Polygon([[p[0], p[1]] for p in hexnewmin])\n",
    "    else:\n",
    "        hexnewmax = new_crystal.points[dims[l]][6:12]\n",
    "        newptmax = max(new_crystal.points[in_out[l]][6:12])\n",
    "        polynewmax = geom.Polygon([[p[0], p[1]] for p in hexnewmax])\n",
    "        hexnewmin = new_crystal.points[dims[l]][0:6]\n",
    "        newptmin = min(new_crystal.points[in_out[l]][0:6])\n",
    "        polynewmin = geom.Polygon([[p[0], p[1]] for p in hexnewmin])\n",
    "        \n",
    "    #polyorder = {'maxseednew': max(seedcrystal.points[in_out[l]][0:6]), new_crystal.points[in_out[l]][0:6])),\\\n",
    "    #             'new1':  max(new_crystal.points[in_out[l]][0:6]),\\\n",
    "    #             'seed2': max(seedcrystal.points[in_out[l]][6:12]), 'new2': max(new_crystal.points[in_out[l]][6:12])}\n",
    "   \n",
    "    #sorted_x = OrderedDict(sorted(polyorder.items(), key=lambda t: t[1]))\n",
    "    #seed1 = list(sorted_x.keys()).index(\"seed1\")\n",
    "    #new1 = list(sorted_x.keys()).index(\"new1\")\n",
    "    #seed2 = list(sorted_x.keys()).index(\"seed2\")\n",
    "    #new2 = list(sorted_x.keys()).index(\"new2\")\n",
    "   \n",
    "    \n",
    "    #zordern=zorders + .1 \n",
    "    if max(seedcrystal.points[in_out[l]][0:6]) > max(new_crystal.points[in_out[l]][0:6]):\n",
    "        seedmax = 5\n",
    "        seedmin = 4\n",
    "        newmax = 3\n",
    "        newmin = 2\n",
    "        print('here1')\n",
    "        if (l==0):\n",
    "            seedmax = 3\n",
    "            seedmin = 2\n",
    "            newmax = 5\n",
    "            newmin = 4  \n",
    "                                 \n",
    "        if seedptmin < newptmax and  (l == 1):\n",
    "                                  \n",
    "            seedmax = 3\n",
    "            seedmin = 2\n",
    "            newmax = 5\n",
    "            newmin = 4\n",
    "            maxord = max(zorders,seedmin)\n",
    "            zordern=maxord + .1 \n",
    "            if (l==1):\n",
    "                print('here2')\n",
    "    \n",
    "    else:\n",
    "        seedmax = 3\n",
    "        seedmin = 2\n",
    "        newmax = 5\n",
    "        newmin = 4\n",
    "        print('here3')\n",
    "            \n",
    "                                     \n",
    "        if newptmin < seedptmax and (l == 1):\n",
    "            \n",
    "            seedmax = 4\n",
    "            seedmin = 3\n",
    "            newmax = 6\n",
    "            newmin = 5\n",
    "            maxord = max(zorders,seedmin,seedmax)\n",
    "            zordern=maxord + .1 \n",
    "            if (l==1):\n",
    "                print('here4')       \n",
    "            \n",
    "        \n",
    "    zorders = (seedmin+seedmax)/2\n",
    "    zordern=(newmin+newmax)/2+.1\n",
    "    #if newptmin < seedptmax and (l == 1):\n",
    "    #    maxord = max(zorders,seedmin, seedmax)\n",
    "    #    #zordern=maxord + .1\n",
    "    #if seedptmin < newptmax and  (l == 1):\n",
    "    #    maxord = max(zorders,seedmin,seedmax)\n",
    "        #zordern=maxord + .1\n",
    "    \n",
    "    x1s,y1s = polyseedmax.exterior.xy\n",
    "    x2s,y2s = polyseedmin.exterior.xy\n",
    "    x1n,y1n = polynewmax.exterior.xy\n",
    "    x2n,y2n = polynewmin.exterior.xy\n",
    "    \n",
    "    for n in range(7):\n",
    "        xs = [x1s[n],x2s[n]]\n",
    "        ys = [y1s[n],y2s[n]]\n",
    "        xn = [x1n[n],x2n[n]]\n",
    "        yn = [y1n[n],y2n[n]]\n",
    "        \n",
    "        #if (new1 > seed2 and new1 < seed1) or (new2 > seed2 and new2 < seed1) or \\\n",
    "        #(new1 < seed2 and new1 > seed1) or (new2 < seed2 and new2 > seed1):\n",
    "        #    if l == 1:\n",
    "        #        print('here')\n",
    "        #    zordermax = min(zordern, new1, new2)\n",
    "        #    zorders = zordermax-.1\n",
    "        #zordern = zorders+.1    \n",
    "        #newmin = min(new1,new2)\n",
    "        #if newmin == new1:\n",
    "        #    seedmin=seedmin+.1\n",
    "        ax[l].plot(xs,ys,color='lightblue',zorder=zorders)\n",
    "        ax[l].plot(xn,yn,color='darkorange',zorder=zordern)\n",
    "    print(seedmax, seedmin, zorders, newmax, newmin, zordern)\n",
    "\n",
    "    polypatch1s = PolygonPatch(polyseedmax, fill=True, ec='#29568F', fc='#29568F', zorder=seedmax)     \n",
    "    polypatch2s = PolygonPatch(polyseedmin, fill=True, ec='k', fc='k', zorder=seedmin)\n",
    "    polypatch1n = PolygonPatch(polynewmax, fill=True, ec='#e65c00', fc='#e65c00', zorder=newmax)     \n",
    "    polypatch2n = PolygonPatch(polynewmin, fill=True, ec='k', fc='k', zorder=newmin)\n",
    "\n",
    "    ax[l].add_patch(polypatch1s)\n",
    "    ax[l].add_patch(polypatch2s)\n",
    "    ax[l].add_patch(polypatch1n)\n",
    "    ax[l].add_patch(polypatch2n)\n",
    "    ax[l].grid(False)\n",
    "    ax[l].set_aspect('equal', 'datalim')\n",
    "    ax[l].set_xlabel(dims[l][0])\n",
    "    ax[l].set_ylabel(dims[l][1])\n",
    "\n",
    "#seedcrystal.rotate_to([0,yrot,0])\n",
    "#new_crystal.rotate_to([0,yrot,zrotnew*np.pi/180])  \n",
    "#new_crystal.rotate_to([0,yrot,0])  \n",
    "#print(seed1, seed2, zorders, new1, new2, zordern)\n",
    "plt.show()"
   ]
  },
  {
   "cell_type": "code",
   "execution_count": 603,
   "metadata": {},
   "outputs": [
    {
     "name": "stdout",
     "output_type": "stream",
     "text": [
      "5 4 4.5 3 2 2.6\n",
      "here3\n",
      "here4\n",
      "4 3 3.5 5 3.6 4.3999999999999995\n",
      "3 2 2.5 5 4 4.6\n"
     ]
    },
    {
     "data": {
      "image/png": "[encoded data removed]",
      "text/plain": [
       "<matplotlib.figure.Figure at 0x112ebeb38>"
      ]
     },
     "metadata": {},
     "output_type": "display_data"
    }
   ],
   "source": [
    "from descartes import PolygonPatch\n",
    "import operator\n",
    "from collections import OrderedDict\n",
    "\n",
    "crystals = [seedcrystal, new_crystal]\n",
    "dims = [['x','z'],['y','z'],['x','y']]\n",
    "in_out = ['y','x','z']\n",
    "fig, ax = plt.subplots(1,3, figsize=(15, 5), facecolor='w', edgecolor='k')\n",
    "fig.subplots_adjust(hspace = .5, wspace=.3)\n",
    "#ax = ax.ravel()\n",
    "\n",
    "#print('zrotseed, zrotnew',zrotseed, zrotnew)\n",
    "\n",
    "for l in range(len(dims)):\n",
    "\n",
    "    if max(seedcrystal.points[in_out[l]][0:6]) > max(seedcrystal.points[in_out[l]][6:12]):\n",
    "        hexseedmax = seedcrystal.points[dims[l]][0:6] \n",
    "        seedptmax = max(seedcrystal.points[in_out[l]][0:6])\n",
    "        polyseedmax = geom.Polygon([[p[0], p[1]] for p in hexseedmax])\n",
    "        hexseedmin = seedcrystal.points[dims[l]][6:12]\n",
    "        seedptmin = min(seedcrystal.points[in_out[l]][6:12])\n",
    "        polyseedmin = geom.Polygon([[p[0], p[1]] for p in hexseedmin])\n",
    "    else:\n",
    "        hexseedmax = seedcrystal.points[dims[l]][6:12]\n",
    "        seedptmax = max(seedcrystal.points[in_out[l]][6:12])\n",
    "        polyseedmax = geom.Polygon([[p[0], p[1]] for p in hexseedmax])\n",
    "        hexseedmin = seedcrystal.points[dims[l]][0:6]\n",
    "        seedptmin = min(seedcrystal.points[in_out[l]][0:6])                   \n",
    "        polyseedmin = geom.Polygon([[p[0], p[1]] for p in hexseedmin])\n",
    "        \n",
    "    if max(new_crystal.points[in_out[l]][0:6])> max(new_crystal.points[in_out[l]][6:12]):\n",
    "        hexnewmax = new_crystal.points[dims[l]][0:6]\n",
    "        newptmax = max(new_crystal.points[in_out[l]][0:6])\n",
    "        polynewmax = geom.Polygon([[p[0], p[1]] for p in hexnewmax])\n",
    "        hexnewmin = new_crystal.points[dims[l]][6:12]\n",
    "        newptmin = min(new_crystal.points[in_out[l]][6:12])\n",
    "        polynewmin = geom.Polygon([[p[0], p[1]] for p in hexnewmin])\n",
    "    else:\n",
    "        hexnewmax = new_crystal.points[dims[l]][6:12]\n",
    "        newptmax = max(new_crystal.points[in_out[l]][6:12])\n",
    "        polynewmax = geom.Polygon([[p[0], p[1]] for p in hexnewmax])\n",
    "        hexnewmin = new_crystal.points[dims[l]][0:6]\n",
    "        newptmin = min(new_crystal.points[in_out[l]][0:6])\n",
    "        polynewmin = geom.Polygon([[p[0], p[1]] for p in hexnewmin])\n",
    "        \n",
    "    #polyorder = {'maxseednew': max(seedcrystal.points[in_out[l]][0:6]), new_crystal.points[in_out[l]][0:6])),\\\n",
    "    #             'new1':  max(new_crystal.points[in_out[l]][0:6]),\\\n",
    "    #             'seed2': max(seedcrystal.points[in_out[l]][6:12]), 'new2': max(new_crystal.points[in_out[l]][6:12])}\n",
    "   \n",
    "    #sorted_x = OrderedDict(sorted(polyorder.items(), key=lambda t: t[1]))\n",
    "    #seed1 = list(sorted_x.keys()).index(\"seed1\")\n",
    "    #new1 = list(sorted_x.keys()).index(\"new1\")\n",
    "    #seed2 = list(sorted_x.keys()).index(\"seed2\")\n",
    "    #new2 = list(sorted_x.keys()).index(\"new2\")\n",
    "   \n",
    "    \n",
    "    #zordern=zorders + .1 \n",
    "    if max(seedcrystal.points[in_out[l]][0:6]) > max(new_crystal.points[in_out[l]][0:6]):\n",
    "        seedmax = 5\n",
    "        seedmin = 4\n",
    "        newmax = 3\n",
    "        newmin = 2\n",
    "        \n",
    "        if l == 1:\n",
    "            print('here1')\n",
    "                                 \n",
    "        if seedptmin < newptmax and  (l == 1):\n",
    "                                  \n",
    "            seedmax = 5\n",
    "            seedmin = 2\n",
    "            newmax = 4\n",
    "            newmin = 3\n",
    "            maxord = max(zorders,seedmin)\n",
    "            zordern=maxord + .1 \n",
    "            print('here2')\n",
    "    \n",
    "    else:\n",
    "        seedmax = 3\n",
    "        seedmin = 2\n",
    "        newmax = 5\n",
    "        newmin = 4\n",
    "        if l == 1:\n",
    "            print('here3')\n",
    "                                     \n",
    "        if newptmin < seedptmax and (l == 1):\n",
    "            \n",
    "            seedmax = 4\n",
    "            seedmin = 3\n",
    "            newmax = 5\n",
    "            zorders = (seedmin+seedmax)/2\n",
    "            newmin = zorders+.1\n",
    "            \n",
    "            \n",
    "            maxord = max(zorders,seedmin,seedmax)\n",
    "            zordern=maxord + .1 \n",
    "            \n",
    "            print('here4')\n",
    "        \n",
    "    zorders = (seedmin+seedmax)/2\n",
    "    zordern=(newmin+newmax)/2+.1\n",
    "    if newptmin < seedptmax and (l == 1):\n",
    "        maxord = max(zorders,seedmin, seedmax)\n",
    "        #zordern=maxord + .1\n",
    "    if seedptmin < newptmax and  (l == 1):\n",
    "        maxord = max(zorders,seedmin,seedmax)\n",
    "        #zordern=maxord + .1\n",
    "    \n",
    "    x1s,y1s = polyseedmax.exterior.xy\n",
    "    x2s,y2s = polyseedmin.exterior.xy\n",
    "    x1n,y1n = polynewmax.exterior.xy\n",
    "    x2n,y2n = polynewmin.exterior.xy\n",
    "    \n",
    "    \n",
    "    \n",
    "    for n in range(7):\n",
    "        xs = [x1s[n],x2s[n]]\n",
    "        ys = [y1s[n],y2s[n]]\n",
    "        xn = [x1n[n],x2n[n]]\n",
    "        yn = [y1n[n],y2n[n]]\n",
    "        \n",
    "        #if (new1 > seed2 and new1 < seed1) or (new2 > seed2 and new2 < seed1) or \\\n",
    "        #(new1 < seed2 and new1 > seed1) or (new2 < seed2 and new2 > seed1):\n",
    "        #    if l == 1:\n",
    "        #        print('here')\n",
    "        #    zordermax = min(zordern, new1, new2)\n",
    "        #    zorders = zordermax-.1\n",
    "        #zordern = zorders+.1    \n",
    "        #newmin = min(new1,new2)\n",
    "        #if newmin == new1:\n",
    "        #    seedmin=seedmin+.1\n",
    "        ax[l].plot(xs,ys,color='lightblue',zorder=zorders)\n",
    "        ax[l].plot(xn,yn,color='darkorange',zorder=zordern)\n",
    "    print(seedmax, seedmin, zorders, newmax, newmin, zordern)\n",
    "\n",
    "    polypatch1s = PolygonPatch(polyseedmax, fill=True, ec='none', fc='#29568F', zorder=seedmax)     \n",
    "    polypatch2s = PolygonPatch(polyseedmin, fill=True, ec='none', fc='k', zorder=seedmin)\n",
    "    polypatch1n = PolygonPatch(polynewmax, fill=True, ec='none', fc='#e65c00', zorder=newmax)     \n",
    "    polypatch2n = PolygonPatch(polynewmin, fill=True, ec='none', fc='k', zorder=newmin)\n",
    "\n",
    "    ax[l].add_patch(polypatch1s)\n",
    "    ax[l].add_patch(polypatch2s)\n",
    "    ax[l].add_patch(polypatch1n)\n",
    "    ax[l].add_patch(polypatch2n)\n",
    "    ax[l].grid(False)\n",
    "    ax[l].set_aspect('equal', 'datalim')\n",
    "    ax[l].set_xlabel(dims[l][0])\n",
    "    ax[l].set_ylabel(dims[l][1])\n",
    "\n",
    "\n",
    "#seedcrystal.rotate_to([0,yrot,0])\n",
    "#new_crystal.rotate_to([0,yrot,zrotnew*np.pi/180])  \n",
    "#new_crystal.rotate_to([0,yrot,0])  \n",
    "#print(seed1, seed2, zorders, new1, new2, zordern)\n",
    "plt.show()"
   ]
  },
  {
   "cell_type": "markdown",
   "metadata": {},
   "source": [
    "# Contact Angle "
   ]
  },
  {
   "cell_type": "code",
   "execution_count": 171,
   "metadata": {
    "scrolled": false
   },
   "outputs": [
    {
     "name": "stdout",
     "output_type": "stream",
     "text": [
      "xrot,yrot 1.04719766306 1.26510643646\n",
      "zrotseed 161.9486572068074\n",
      "zrotnew 123.35958543154169\n"
     ]
    },
    {
     "data": {
      "image/svg+xml": [
       "<svg xmlns=\"http://www.w3.org/2000/svg\" xmlns:xlink=\"http://www.w3.org/1999/xlink\" width=\"300\" height=\"300\" viewBox=\"-814.6789243867388 -471.40667943416184 1482.0246662869051 1018.3023044862211\" preserveAspectRatio=\"xMinYMin meet\"><g transform=\"matrix(1,0,0,-1,0,75.48894561789751)\"><g><polyline fill=\"none\" stroke=\"#66cc99\" stroke-width=\"9.8801644419127\" points=\"20.693755456170962,112.36770734811972 -457.0728046602954,260.8581875116391 -695.9560847185286,204.13617712248646 -457.07280466029533,-1.0763134301854669 20.693755456171058,-149.5667935937048 259.5770355144042,-92.84478320455223 20.693755456170962,112.36770734811972\" opacity=\"0.8\" /><polyline fill=\"none\" stroke=\"#66cc99\" stroke-width=\"9.8801644419127\" points=\"-43.13928175696867,-74.41263218771202 -520.9058418734351,74.07784797580732 -759.7891219316682,17.355837586654722 -520.905841873435,-187.8566529660172 -43.13928175696857,-336.3471331295366 195.74399830126453,-279.625122740384 -43.13928175696867,-74.41263218771202\" opacity=\"0.8\" /><polyline fill=\"none\" stroke=\"#66cc99\" stroke-width=\"9.8801644419127\" points=\"20.693755456170962,112.36770734811972 -43.13928175696867,-74.41263218771202\" opacity=\"0.8\" /><polyline fill=\"none\" stroke=\"#66cc99\" stroke-width=\"9.8801644419127\" points=\"-457.0728046602954,260.8581875116391 -520.9058418734351,74.07784797580732\" opacity=\"0.8\" /><polyline fill=\"none\" stroke=\"#66cc99\" stroke-width=\"9.8801644419127\" points=\"-695.9560847185286,204.13617712248646 -759.7891219316682,17.355837586654722\" opacity=\"0.8\" /><polyline fill=\"none\" stroke=\"#66cc99\" stroke-width=\"9.8801644419127\" points=\"-457.07280466029533,-1.0763134301854669 -520.905841873435,-187.8566529660172\" opacity=\"0.8\" /><polyline fill=\"none\" stroke=\"#66cc99\" stroke-width=\"9.8801644419127\" points=\"20.693755456171058,-149.5667935937048 -43.13928175696857,-336.3471331295366\" opacity=\"0.8\" /><polyline fill=\"none\" stroke=\"#66cc99\" stroke-width=\"9.8801644419127\" points=\"259.5770355144042,-92.84478320455223 195.74399830126453,-279.625122740384\" opacity=\"0.8\" /><polyline fill=\"none\" stroke=\"#66cc99\" stroke-width=\"9.8801644419127\" points=\"474.29564257934607,22.60061729204058 197.9750488478469,422.8489211426142 59.81475198209732,492.00582259698876 197.975048847847,160.91442020078975 474.2956425793461,-239.33388364978387 612.4559394450957,-308.4907851041584 474.29564257934607,22.60061729204058\" opacity=\"0.8\" /><polyline fill=\"none\" stroke=\"#66cc99\" stroke-width=\"9.8801644419127\" points=\"302.23703756941705,-85.42547458289229 25.916443837917864,314.82282926768136 -112.24385302783172,383.9797307220559 25.916443837917956,52.88832832585686 302.2370375694171,-347.35997552471673 440.3973344351668,-416.5168769790913 302.23703756941705,-85.42547458289229\" opacity=\"0.8\" /><polyline fill=\"none\" stroke=\"#66cc99\" stroke-width=\"9.8801644419127\" points=\"474.29564257934607,22.60061729204058 302.23703756941705,-85.42547458289229\" opacity=\"0.8\" /><polyline fill=\"none\" stroke=\"#66cc99\" stroke-width=\"9.8801644419127\" points=\"197.9750488478469,422.8489211426142 25.916443837917864,314.82282926768136\" opacity=\"0.8\" /><polyline fill=\"none\" stroke=\"#66cc99\" stroke-width=\"9.8801644419127\" points=\"59.81475198209732,492.00582259698876 -112.24385302783172,383.9797307220559\" opacity=\"0.8\" /><polyline fill=\"none\" stroke=\"#66cc99\" stroke-width=\"9.8801644419127\" points=\"197.975048847847,160.91442020078975 25.916443837917956,52.88832832585686\" opacity=\"0.8\" /><polyline fill=\"none\" stroke=\"#66cc99\" stroke-width=\"9.8801644419127\" points=\"474.2956425793461,-239.33388364978387 302.2370375694171,-347.35997552471673\" opacity=\"0.8\" /><polyline fill=\"none\" stroke=\"#66cc99\" stroke-width=\"9.8801644419127\" points=\"612.4559394450957,-308.4907851041584 440.3973344351668,-416.5168769790913\" opacity=\"0.8\" /></g></g></svg>"
      ],
      "text/plain": [
       "<shapely.geometry.multilinestring.MultiLineString at 0x1183f5748>"
      ]
     },
     "execution_count": 171,
     "metadata": {},
     "output_type": "execute_result"
    }
   ],
   "source": [
    "import scipy.optimize as opt\n",
    "import random\n",
    "import numpy as np\n",
    "import ipas.lab_opt_rot as lab\n",
    "import ipas.crystals_opt_rot as crys\n",
    "\n",
    "\n",
    "#length=13.6790022746 * 10\n",
    "#width=8.55013140036 * 10\n",
    "\n",
    "length=20.6 * 10\n",
    "width=100.5 * 10\n",
    "\n",
    "rotations= 100\n",
    "plates = width > length\n",
    "\n",
    "f = lambda x: -crys.IceCrystal(length=length, width=width, rotation=[0,x,0]).projectxy().area\n",
    "yrot = opt.minimize_scalar(f, bounds=(0, np.pi/2), method='Bounded').x\n",
    "f = lambda x: -crys.IceCrystal(length=length, width=width, rotation=[x,0,0]).projectxy().area\n",
    "xrot = opt.minimize_scalar(f, bounds=(0, np.pi/2), method='Bounded').x\n",
    "\n",
    "print('xrot,yrot',xrot,yrot)\n",
    "rotation = [0, yrot, random.uniform(0, 2 * np.pi)]\n",
    "dimarr = ['y','z']\n",
    "dim = 'y'\n",
    "dim_up = 'z'\n",
    "dimind = 0\n",
    "dimindup = 1\n",
    "\n",
    "if plates:\n",
    "    hypot = width\n",
    "else:\n",
    "    hypot = length\n",
    "    \n",
    "#print('yrot',yrot)\n",
    "#rotation = [0,np.pi/2,np.pi/2-1.0]\n",
    "zrotseed = rotation[2]*180/np.pi\n",
    "print('zrotseed',zrotseed)\n",
    "\n",
    "seedcrystal = crys.IceCrystal(length=length, width=width, rotation=rotation)\n",
    "cluster = crys.IceCluster(seedcrystal)\n",
    "\n",
    "xmax = cluster.max('x')\n",
    "ymax = cluster.max('y')\n",
    "zmax = cluster.max('z')\n",
    "xmin = cluster.min('x')\n",
    "ymin = cluster.min('y')\n",
    "zmin = cluster.min('z') \n",
    "\n",
    "ncrystals = 2\n",
    "while cluster.ncrystals < ncrystals:\n",
    "    \n",
    "    rotation = [0, yrot, random.uniform(0, 2 * np.pi)]\n",
    "    #rotation = [0,np.pi/2,np.pi/2+.9]\n",
    "    zrotnew = rotation[2]*180/np.pi\n",
    "    print('zrotnew',zrotnew)\n",
    "    new_crystal = crys.IceCrystal(length=length, width=width, rotation=rotation)\n",
    "    random_loc = [random.uniform(xmin, xmax), random.uniform(ymin, ymax), 0]\n",
    "    new_crystal.move(random_loc)\n",
    "\n",
    "    crystal_hit = cluster.add_crystal_from_above(new_crystal)   \n",
    "\n",
    "    if crystal_hit:\n",
    "        cluster.recenter()\n",
    "\n",
    "        height_seed = seedcrystal.maxz - seedcrystal.minz   \n",
    "        height_new = new_crystal.maxz - new_crystal.minz\n",
    "        checkposseed = False\n",
    "        checkposnew = False\n",
    "        checknegseed = False\n",
    "        checknegnew = False\n",
    "\n",
    "        xmaxseed = seedcrystal.max(dim)\n",
    "        xminseed = seedcrystal.min(dim)\n",
    "        pointszseed = seedcrystal.points[dim_up]\n",
    "        pointsxseed = seedcrystal.points[dim]\n",
    "        maxzindseed = np.where(pointszseed == seedcrystal.max(dim_up))\n",
    "        minzindseed = np.where(pointszseed == seedcrystal.min(dim_up))\n",
    "        xatmaxzseed = max(seedcrystal.points[dim][maxzindseed])\n",
    "        xatminzseed = min(seedcrystal.points[dim][minzindseed])\n",
    "        maxxindseed = np.where(pointsxseed == xmaxseed)\n",
    "        minxindseed = np.where(pointsxseed == xminseed)\n",
    "        zatmaxxseed = max(pointszseed[maxxindseed])\n",
    "        zatminxseed = min(pointszseed[minxindseed])\n",
    "\n",
    "        #print('-----------------new crys-------------------')\n",
    "        xmaxnew = new_crystal.max(dim)\n",
    "        xminnew = new_crystal.min(dim)\n",
    "        pointsznew = new_crystal.points[dim_up]\n",
    "        pointsxnew = new_crystal.points[dim]\n",
    "        maxzindnew = np.where(pointsznew == new_crystal.max(dim_up))\n",
    "        minzindnew = np.where(pointsznew == new_crystal.min(dim_up))\n",
    "        xatmaxznew = max(new_crystal.points[dim][maxzindnew])\n",
    "        xatminznew = min(new_crystal.points[dim][minzindnew])\n",
    "        maxxindnew = np.where(pointsxnew == xmaxnew) \n",
    "        minxindnew = np.where(pointsxnew == xminnew) \n",
    "        zatmaxxnew = max(pointsznew[maxxindnew])\n",
    "        zatminxnew = min(pointsznew[minxindnew])\n",
    "\n",
    "\n",
    "        crystals = [seedcrystal, new_crystal]\n",
    "        slope=[]\n",
    "        hexmax = []\n",
    "        hexmin = []\n",
    "\n",
    "        #fig = pl.figure(1, figsize=(5,5))\n",
    "        #ax = fig.add_subplot(111)\n",
    "\n",
    "        for i in crystals:\n",
    "            # make a line connecting the two hexagons at the max x value  \n",
    "            #this is to determine the slope of each crystal\n",
    "            hex1pts = i.points[dimarr][0:6]  \n",
    "            hex2pts = i.points[dimarr][6:12]  \n",
    "\n",
    "            poly1 = geom.Polygon([[p[0], p[1]] for p in hex1pts])       \n",
    "            poly2 = geom.Polygon([[p[0], p[1]] for p in hex2pts])\n",
    "\n",
    "            #add patches here\n",
    "\n",
    "            hex1max = max(hex1pts[dimarr],key=itemgetter(dimindup))\n",
    "            hex1min = min(hex1pts[dimarr],key=itemgetter(dimindup))\n",
    "            #print('hex1min',hex1min)\n",
    "            #print('hex2pts',hex2pts)\n",
    "            hex2max = max(hex2pts[dimarr],key=itemgetter(dimindup))\n",
    "            hex2min = min(hex2pts[dimarr],key=itemgetter(dimindup))\n",
    "            #print('hex2min',hex2min)\n",
    "\n",
    "            #Plates: when the lines connecting the hexagons slope positive the crystal slopes negative\n",
    "            #Columns: when the lines connecting the hexagons slope positive the crystal also slopes positive \n",
    "            if (hex2max[dimarr[dimindup]]-hex1max[dimarr[dimindup]])/(hex2max[dimarr[dimind]]-hex1max[dimarr[dimind]])>=0:\n",
    "                if plates:\n",
    "                    slope.append('negative')\n",
    "                else:\n",
    "                    slope.append('positive')\n",
    "            else:\n",
    "                if plates:\n",
    "                    slope.append('positive')\n",
    "                else:\n",
    "                    slope.append('negative')\n",
    "\n",
    "            #hexmaxval = min(hex2max[dimarr[dimind]],hex1max[dimarr[dimind]])\n",
    "            hexminval = max(hex1min,hex2min,key=itemgetter(dimindup))\n",
    "            #hexminval = max(hex2min[dimarr[dimind]],hex1min[dimarr[dimind]])\n",
    "            hexmaxval = min(hex1max,hex2max,key=itemgetter(dimindup))\n",
    "\n",
    "            hexmax.append(hexmaxval[dimarr[dimind]])\n",
    "            hexmin.append(hexminval[dimarr[dimind]])\n",
    "        #----------------------------------------------------------------\n",
    "        #Determine what slope each crystal has and calculate the seed_ang/\n",
    "        #new_ang for each crystal\n",
    "        if slope[0] == 'negative': #neg slope\n",
    "            checknegseed = True\n",
    "            #print('checknegseed')\n",
    "            if plates:\n",
    "                baseseed = hexmax[0] - xminseed\n",
    "            else:\n",
    "                baseseed = xatminzseed - hexmin[0]\n",
    "            #print('baseseed neg', baseseed)\n",
    "            #print('xatminzseed, hexmin[0]', xatminzseed,hexmin[0])\n",
    "            #print('hexmin[0], hexmax[0]',hexmin[0], hexmax[0])\n",
    "            seed_ang = np.arccos(baseseed/hypot)*(180./np.pi)          \n",
    "\n",
    "        else:\n",
    "            checkposseed = True \n",
    "            #print('checkposseed')\n",
    "            if plates:\n",
    "                baseseed = xmaxseed - hexmin[0]\n",
    "            else:\n",
    "                baseseed = hexmin[0] - xatminzseed   \n",
    "            #print('baseseed pos',baseseed)\n",
    "            #print('hexmax, xatminzseed',hexmax[0], xatminzseed)\n",
    "            seed_ang = np.arccos(baseseed/hypot)*(180./np.pi) \n",
    "\n",
    "\n",
    "        if slope[1]=='negative':\n",
    "            checknegnew = True\n",
    "            #print('checknegnew')\n",
    "            if plates:\n",
    "                basenew = hexmax[1] - xminnew\n",
    "            else:\n",
    "                basenew = xatminznew - hexmin[1]\n",
    "            #print('base',basenew, hypot)\n",
    "            #print('hexmin, xatminznew',hexmin[1], xatminznew)\n",
    "            new_ang = np.arccos(basenew/hypot)*(180./np.pi) \n",
    "\n",
    "        else: #pos slope\n",
    "\n",
    "            checkposnew = True\n",
    "            #print('checkposnew')\n",
    "\n",
    "            if plates:\n",
    "                basenew = xmaxnew - hexmin[1]\n",
    "            else:\n",
    "                basenew = hexmin[1] - xatminznew\n",
    "            #print('base, hypot',basenew, hypot)\n",
    "            #print('hexmin, xatminznew',hexmin[1], xatminznew)    \n",
    "            new_ang = np.arccos(basenew/hypot)*(180./np.pi) \n",
    "\n",
    "        ##################################################################################    \n",
    "\n",
    "        #Check if overlap is minimal and don't subtract from 180\n",
    "\n",
    "        #horizontal overlap\n",
    "        in_out = ['y','x','z','x']\n",
    "        percent = []\n",
    "        for i in range(2):\n",
    "            xmax = cluster.max(in_out[i])\n",
    "            xmin = cluster.min(in_out[i])\n",
    "            xmaxseed = seedcrystal.max(in_out[i])\n",
    "            xminseed = seedcrystal.min(in_out[i])\n",
    "            xmaxnew = new_crystal.max(in_out[i])\n",
    "            xminnew = new_crystal.min(in_out[i])\n",
    "            widclus = xmax-xmin\n",
    "            widseed = xmaxseed - xminseed\n",
    "            widnew = xmaxnew - xminnew\n",
    "            #print(widclus, xmax, xmin)\n",
    "\n",
    "\n",
    "            Sx = widclus - (widclus - widseed) - (widclus - widnew)\n",
    "            if plates:\n",
    "                percentage = (Sx / widclus)*100   \n",
    "            else:\n",
    "                percentage = (Sx / widclus)*100\n",
    "            percent.append(percentage)\n",
    "\n",
    "        #print('X overlap', percent[1])\n",
    "        #print('Y overlap', percent[0])\n",
    "\n",
    "        zmax = cluster.max(dim_up)\n",
    "        zmin = cluster.min(dim_up)\n",
    "        plates = width > length\n",
    "        height_seed = seedcrystal.max(dim_up) - seedcrystal.min(dim_up)   \n",
    "        height_new = new_crystal.max(dim_up) - new_crystal.min(dim_up)              \n",
    "        heightclus = zmax-zmin #0 index is x\n",
    "        Sz = heightclus - (heightclus - height_seed) - (heightclus - height_new)    \n",
    "        if plates:\n",
    "            percentage = (Sz / heightclus)*100   \n",
    "        else:\n",
    "            percentage = (Sz / heightclus)*100\n",
    "        percent.append(percentage)\n",
    "        #print('vert_overlap', percent[2])\n",
    "\n",
    "\n",
    "        cont_ang = new_ang + seed_ang\n",
    "        cont_ang1 = new_ang + seed_ang\n",
    "        #print('cont_ang b4 if1', cont_ang)\n",
    "        if ((checkposseed == True and checkposnew == True) or (checknegseed == True and checknegnew == True)):  \n",
    "            #print('in if1 -- crystals slope in same direction')\n",
    "            seed1_ang = 90. - seed_ang\n",
    "            cont_ang = 90. - new_ang - seed1_ang\n",
    "            if1flag = True\n",
    "\n",
    "        cont_ang = abs(cont_ang)\n",
    "        #print('cont_ang b4 if2', cont_ang)\n",
    "        if cont_ang1 > 90 and percent[1] > 20.0 and cont_ang < 90:\n",
    "            #print('in if2')\n",
    "            cont_ang = 180 - cont_ang\n",
    "\n",
    "        #---------umcomment this for different cluster views------\n",
    "        if plates:\n",
    "            cluster.rotate_to([np.pi/2,np.pi,np.pi/2])  #view side -- z axis up down y axis left right\n",
    "        else:\n",
    "            #no rotation = x,z\n",
    "            cluster.rotate_to([np.pi/2,0,0]) #y left right,z up down\n",
    "            #cluster.rotate_to([np.pi/2,np.pi/2,np.pi/2])  #z,y\n",
    "\n",
    "        #print('seed, new final',seed_ang,new_ang)\n",
    "        #print('contact angle',cont_ang)\n",
    "        cluster.rotate_to([np.pi/2,np.pi,np.pi/2])  #view side \n",
    "cluster.plot()"
   ]
  },
  {
   "cell_type": "markdown",
   "metadata": {},
   "source": [
    "### OVERLAP"
   ]
  },
  {
   "cell_type": "code",
   "execution_count": 539,
   "metadata": {},
   "outputs": [
    {
     "name": "stdout",
     "output_type": "stream",
     "text": [
      "39.26971015200612\n"
     ]
    },
    {
     "data": {
      "image/png": "[encoded data removed]",
      "text/plain": [
       "<matplotlib.figure.Figure at 0x11266b828>"
      ]
     },
     "metadata": {},
     "output_type": "display_data"
    }
   ],
   "source": [
    "crystals = [seedcrystal, new_crystal]\n",
    "dims = ['x','y']\n",
    "\n",
    "fig = plt.figure(1, figsize=(5,5))\n",
    "ax = fig.add_subplot(111)\n",
    "area = []\n",
    "for i in crystals:    \n",
    " \n",
    "    newpoly = i.projectxy()\n",
    "    area.append(newpoly.area)\n",
    "    \n",
    "    if i == seedcrystal:\n",
    "        color='#29568F'\n",
    "        zorder = 1\n",
    "        linecolor = '#29568F'\n",
    "\n",
    "    else:\n",
    "        zorder = 2\n",
    "        color='#e65c00'\n",
    "        linecolor = '#e65c00'\n",
    "\n",
    "\n",
    "    cryspatch = PolygonPatch(newpoly, fill=True, ec='k', fc=color, zorder=zorder)     \n",
    "    ax.add_patch(cryspatch)\n",
    "    \n",
    "rel_area = seedcrystal.projectxy().intersection(new_crystal.projectxy())\n",
    "ovrlpptch = PolygonPatch(rel_area, fill=True, ec='k', fc='k', zorder=zorder) \n",
    "ax.add_patch(ovrlpptch)\n",
    "seedpoly = seedcrystal.projectxy()\n",
    "newpoly = new_crystal.projectxy()   \n",
    "pctovrlp = (2*rel_area.area/(seedpoly.area+newpoly.area))*100\n",
    "print(pctovrlp)\n",
    "\n",
    "\n",
    "ax.set_xlabel(dims[0])\n",
    "ax.set_ylabel(dims[1])\n",
    "ax.axis('scaled')\n",
    "\n",
    "plt.show()"
   ]
  },
  {
   "cell_type": "markdown",
   "metadata": {},
   "source": [
    "###### A different run on how to plot specific aggregates out of numclusters"
   ]
  },
  {
   "cell_type": "code",
   "execution_count": 151,
   "metadata": {
    "collapsed": true
   },
   "outputs": [
    {
     "data": {
      "image/svg+xml": [
       "<svg xmlns=\"http://www.w3.org/2000/svg\" xmlns:xlink=\"http://www.w3.org/1999/xlink\" width=\"100.0\" height=\"100.0\" viewBox=\"-7.643103190018459 -9.462263077415027 17.930672082257075 18.528020032602566\" preserveAspectRatio=\"xMinYMin meet\"><g transform=\"matrix(1,0,0,-1,0,-0.39650612222748904)\"><g><polyline fill=\"none\" stroke=\"#66cc99\" stroke-width=\"0.3705604006520513\" points=\"3.3618600203498916,-3.8191941694196165 4.0461974288730005,-6.730608801552356 7.165940382732142,-7.194842623456963 9.601345928068152,-4.747661813228811 8.917008519545039,-1.8362471810960617 5.797265565685899,-1.3720133591914658 3.3618600203498916,-3.8191941694196165\" opacity=\"0.8\" /><polyline fill=\"none\" stroke=\"#66cc99\" stroke-width=\"0.3705604006520513\" points=\"-3.383459551142079,5.1441679354562995 -2.699122142618963,2.2327533033235527 0.4206208112401706,1.7685194814189482 2.8560263565761876,4.215700291647092 2.171688948053074,7.12711492377984 -0.9480540058060644,7.591348745684444 -3.383459551142079,5.1441679354562995\" opacity=\"0.8\" /><polyline fill=\"none\" stroke=\"#66cc99\" stroke-width=\"0.3705604006520513\" points=\"3.3618600203498916,-3.8191941694196165 -3.383459551142079,5.1441679354562995\" opacity=\"0.8\" /><polyline fill=\"none\" stroke=\"#66cc99\" stroke-width=\"0.3705604006520513\" points=\"4.0461974288730005,-6.730608801552356 -2.699122142618963,2.2327533033235527\" opacity=\"0.8\" /><polyline fill=\"none\" stroke=\"#66cc99\" stroke-width=\"0.3705604006520513\" points=\"7.165940382732142,-7.194842623456963 0.4206208112401706,1.7685194814189482\" opacity=\"0.8\" /><polyline fill=\"none\" stroke=\"#66cc99\" stroke-width=\"0.3705604006520513\" points=\"9.601345928068152,-4.747661813228811 2.8560263565761876,4.215700291647092\" opacity=\"0.8\" /><polyline fill=\"none\" stroke=\"#66cc99\" stroke-width=\"0.3705604006520513\" points=\"8.917008519545039,-1.8362471810960617 2.171688948053074,7.12711492377984\" opacity=\"0.8\" /><polyline fill=\"none\" stroke=\"#66cc99\" stroke-width=\"0.3705604006520513\" points=\"5.797265565685899,-1.3720133591914658 -0.9480540058060644,7.591348745684444\" opacity=\"0.8\" /><polyline fill=\"none\" stroke=\"#66cc99\" stroke-width=\"0.3705604006520513\" points=\"-6.956880225847994,6.090956109579659 -5.648078012258496,3.496747335028381 -2.2161026558661616,3.1911164419145113 -0.0929295130633383,5.47969432335193 -1.4017317266528462,8.073903097903207 -4.833707083045178,8.379533991017073 -6.956880225847994,6.090956109579659\" opacity=\"0.8\" /><polyline fill=\"none\" stroke=\"#66cc99\" stroke-width=\"0.3705604006520513\" points=\"-6.124956863862735,-5.876200445579415 -4.81615465027323,-8.470409220130698 -1.3841792938809006,-8.776040113244562 0.7389938489219183,-6.48746223180715 -0.5698083646675927,-3.893253457255863 -4.001783721059914,-3.5876225641419976 -6.124956863862735,-5.876200445579415\" opacity=\"0.8\" /><polyline fill=\"none\" stroke=\"#66cc99\" stroke-width=\"0.3705604006520513\" points=\"-6.956880225847994,6.090956109579659 -6.124956863862735,-5.876200445579415\" opacity=\"0.8\" /><polyline fill=\"none\" stroke=\"#66cc99\" stroke-width=\"0.3705604006520513\" points=\"-5.648078012258496,3.496747335028381 -4.81615465027323,-8.470409220130698\" opacity=\"0.8\" /><polyline fill=\"none\" stroke=\"#66cc99\" stroke-width=\"0.3705604006520513\" points=\"-2.2161026558661616,3.1911164419145113 -1.3841792938809006,-8.776040113244562\" opacity=\"0.8\" /><polyline fill=\"none\" stroke=\"#66cc99\" stroke-width=\"0.3705604006520513\" points=\"-0.0929295130633383,5.47969432335193 0.7389938489219183,-6.48746223180715\" opacity=\"0.8\" /><polyline fill=\"none\" stroke=\"#66cc99\" stroke-width=\"0.3705604006520513\" points=\"-1.4017317266528462,8.073903097903207 -0.5698083646675927,-3.893253457255863\" opacity=\"0.8\" /><polyline fill=\"none\" stroke=\"#66cc99\" stroke-width=\"0.3705604006520513\" points=\"-4.833707083045178,8.379533991017073 -4.001783721059914,-3.5876225641419976\" opacity=\"0.8\" /></g></g></svg>"
      ],
      "text/plain": [
       "<shapely.geometry.multilinestring.MultiLineString at 0x118a95e80>"
      ]
     },
     "execution_count": 151,
     "metadata": {},
     "output_type": "execute_result"
    }
   ],
   "source": [
    "import ipas.crystals as ipas\n",
    "#seedcrystal = ipas.IceCrystal(length=100, width=6, rotation=(0,np.pi/2-.1,0))\n",
    "#cluster = ipas.IceCluster([seedcrystal])\n",
    "b2 = b1.clusters[0]\n",
    "b2.rotate_to([np.pi/2,0,np.pi/2])\n",
    "b2.plot()"
   ]
  },
  {
   "cell_type": "code",
   "execution_count": 147,
   "metadata": {
    "collapsed": true
   },
   "outputs": [
    {
     "data": {
      "image/svg+xml": [
       "<svg xmlns=\"http://www.w3.org/2000/svg\" xmlns:xlink=\"http://www.w3.org/1999/xlink\" width=\"100.0\" height=\"100.0\" viewBox=\"-14.220340264165372 -6.553724884579499 28.31713436871656 14.495090696064288\" preserveAspectRatio=\"xMinYMin meet\"><g transform=\"matrix(1,0,0,-1,0,1.3876409269052905)\"><g><polyline fill=\"none\" stroke=\"#66cc99\" stroke-width=\"0.5663426873743311\" points=\"5.936379619321183,-0.5515798693538245 0.3071028768857007,3.008129398391258 -0.9734156139656462,2.7791858849259543 3.3753426376184867,-1.009466896284438 9.004619380053969,-4.569176164029525 10.285137870905311,-4.340232650564219 5.936379619321183,-0.5515798693538245\" opacity=\"0.8\" /><polyline fill=\"none\" stroke=\"#66cc99\" stroke-width=\"0.5663426873743311\" points=\"8.699253098570141,3.332873789342788 3.069976356134659,6.89258305708788 1.7894578652833077,6.663639543622571 6.138216116867448,2.8749867624121848 11.767492859302926,-0.6847225053329027 13.048011350154276,-0.45577899186759774 8.699253098570141,3.332873789342788\" opacity=\"0.8\" /><polyline fill=\"none\" stroke=\"#66cc99\" stroke-width=\"0.5663426873743311\" points=\"5.936379619321183,-0.5515798693538245 8.699253098570141,3.332873789342788\" opacity=\"0.8\" /><polyline fill=\"none\" stroke=\"#66cc99\" stroke-width=\"0.5663426873743311\" points=\"0.3071028768857007,3.008129398391258 3.069976356134659,6.89258305708788\" opacity=\"0.8\" /><polyline fill=\"none\" stroke=\"#66cc99\" stroke-width=\"0.5663426873743311\" points=\"-0.9734156139656462,2.7791858849259543 1.7894578652833077,6.663639543622571\" opacity=\"0.8\" /><polyline fill=\"none\" stroke=\"#66cc99\" stroke-width=\"0.5663426873743311\" points=\"3.3753426376184867,-1.009466896284438 6.138216116867448,2.8749867624121848\" opacity=\"0.8\" /><polyline fill=\"none\" stroke=\"#66cc99\" stroke-width=\"0.5663426873743311\" points=\"9.004619380053969,-4.569176164029525 11.767492859302926,-0.6847225053329027\" opacity=\"0.8\" /><polyline fill=\"none\" stroke=\"#66cc99\" stroke-width=\"0.5663426873743311\" points=\"10.285137870905311,-4.340232650564219 13.048011350154276,-0.45577899186759774\" opacity=\"0.8\" /><polyline fill=\"none\" stroke=\"#66cc99\" stroke-width=\"0.5663426873743311\" points=\"-10.897648084188722,3.063986959921052 -3.923988099253945,3.1815352371242325 1.0969617735798398,1.2315112283879768 -0.8557483385211557,-0.836061057551463 -7.829408323455933,-0.953609334754645 -12.850358196289728,0.996414673981613 -10.897648084188722,3.063986959921052\" opacity=\"0.8\" /><polyline fill=\"none\" stroke=\"#66cc99\" stroke-width=\"0.5663426873743311\" points=\"-11.218847397667478,-1.4873458355068903 -4.245187412732698,-1.3697975583037123 0.7757624601010917,-3.3198215670399676 -1.1769476519999011,-5.387393852979408 -8.15060763693468,-5.50494213018259 -13.171557509768462,-3.5549181214463332 -11.218847397667478,-1.4873458355068903\" opacity=\"0.8\" /><polyline fill=\"none\" stroke=\"#66cc99\" stroke-width=\"0.5663426873743311\" points=\"-10.897648084188722,3.063986959921052 -11.218847397667478,-1.4873458355068903\" opacity=\"0.8\" /><polyline fill=\"none\" stroke=\"#66cc99\" stroke-width=\"0.5663426873743311\" points=\"-3.923988099253945,3.1815352371242325 -4.245187412732698,-1.3697975583037123\" opacity=\"0.8\" /><polyline fill=\"none\" stroke=\"#66cc99\" stroke-width=\"0.5663426873743311\" points=\"1.0969617735798398,1.2315112283879768 0.7757624601010917,-3.3198215670399676\" opacity=\"0.8\" /><polyline fill=\"none\" stroke=\"#66cc99\" stroke-width=\"0.5663426873743311\" points=\"-0.8557483385211557,-0.836061057551463 -1.1769476519999011,-5.387393852979408\" opacity=\"0.8\" /><polyline fill=\"none\" stroke=\"#66cc99\" stroke-width=\"0.5663426873743311\" points=\"-7.829408323455933,-0.953609334754645 -8.15060763693468,-5.50494213018259\" opacity=\"0.8\" /><polyline fill=\"none\" stroke=\"#66cc99\" stroke-width=\"0.5663426873743311\" points=\"-12.850358196289728,0.996414673981613 -13.171557509768462,-3.5549181214463332\" opacity=\"0.8\" /></g></g></svg>"
      ],
      "text/plain": [
       "<shapely.geometry.multilinestring.MultiLineString at 0x118ca5a20>"
      ]
     },
     "execution_count": 147,
     "metadata": {},
     "output_type": "execute_result"
    }
   ],
   "source": [
    "import ipas.crystals as ipas\n",
    "#seedcrystal = ipas.IceCrystal(length=100, width=6, rotation=(0,np.pi/2-.1,0))\n",
    "#cluster = ipas.IceCluster([seedcrystal])\n",
    "b2 = b1.clusters[8]\n",
    "b2.rotate_to([np.pi/2,0,np.pi/2])\n",
    "b2.plot()"
   ]
  },
  {
   "cell_type": "code",
   "execution_count": 40,
   "metadata": {
    "collapsed": true
   },
   "outputs": [],
   "source": [
    "import matplotlib.pyplot as plt\n",
    "plt.close(\"all\")"
   ]
  },
  {
   "cell_type": "code",
   "execution_count": 69,
   "metadata": {},
   "outputs": [
    {
     "name": "stdout",
     "output_type": "stream",
     "text": [
      "[   0.01          0.01373824    0.01887392    0.02592944    0.03562248\n",
      "    0.04893901    0.06723358    0.09236709    0.1268961     0.17433288\n",
      "    0.23950266    0.32903446    0.45203537    0.62101694    0.85316785\n",
      "    1.1721023     1.61026203    2.21221629    3.03919538    4.17531894\n",
      "    5.73615251    7.88046282   10.82636734   14.87352107   20.43359718\n",
      "   28.07216204   38.56620421   52.98316906   72.78953844  100.        ]\n"
     ]
    }
   ],
   "source": [
    "phio=np.logspace(-2, 2, num=30, endpoint=True, base=10.0, dtype=None)\n",
    "np.set_printoptions(suppress=True)\n",
    "print(phio)\n"
   ]
  },
  {
   "cell_type": "code",
   "execution_count": 88,
   "metadata": {},
   "outputs": [
    {
     "name": "stdout",
     "output_type": "stream",
     "text": [
      "[0.01, 0.016237767391887217, 0.026366508987303583, 0.042813323987193938, 0.069519279617756058, 0.11288378916846889, 0.18329807108324356, 0.29763514416313175, 0.32000000000000001, 0.42999999999999999, 0.48329302385717521, 0.54000000000000004, 0.62, 0.72999999999999998, 0.78475997035146106, 0.83999999999999997, 0.94999999999999996, 1.2742749857031335, 2.0691380811147901, 2.2000000000000002, 3.2999999999999998, 3.3598182862837809, 4.4000000000000004, 5.4555947811685144, 8.8586679041008232, 14.384498882876629, 23.357214690901213, 37.92690190732246, 61.584821106602604, 100.0]\n"
     ]
    }
   ],
   "source": [
    "phio=np.logspace(-2, 2., num=20, endpoint=True, base=10.0, dtype=None)#just columns (0,2); plates (-2,2)\n",
    "np.set_printoptions(suppress=True)\n",
    "add = [.32, .43, .54, .62, .73, .84, .95, 2.2, 3.3, 4.4]\n",
    "phio = np.append(phio, add, axis=0) \n",
    "print(sorted(phio))\n"
   ]
  },
  {
   "cell_type": "code",
   "execution_count": 178,
   "metadata": {},
   "outputs": [
    {
     "name": "stdout",
     "output_type": "stream",
     "text": [
      "[ 0.50003453  0.58329585  0.68042111  0.7937188   0.92588182  1.08005145\n",
      "  1.25989204  1.4696781   1.71439587  1.99986187]\n"
     ]
    }
   ],
   "source": [
    "phioadd=np.logspace(-.301, .301, num=10, endpoint=True, base=10.0, dtype=None)\n",
    "print(phioadd)"
   ]
  },
  {
   "cell_type": "code",
   "execution_count": 9,
   "metadata": {},
   "outputs": [
    {
     "name": "stdout",
     "output_type": "stream",
     "text": [
      "[0.46415888336127781, 0.64123547955769178, 0.88586679041008254, 1.2238249369681926, 1.6907141034735804, 2.3357214690901218, 3.226799119945809, 4.4578228604197072, 6.1584821106602616, 8.5079427996274468, 11.753722651306358, 16.237767391887221, 22.432475028984186, 30.990463391994265, 42.813323987193925, 59.146605445917494, 81.711033154571979, 112.88378916846882, 155.94895040582819, 215.44346900318837]\n",
      "[46.415888336127779, 39.490372295767003, 33.598182862837817, 28.585141796844734, 24.320075132679477, 20.691380811147894, 17.60410843865553, 14.977474763452012, 12.742749857031336, 10.841458689358348, 9.2238510393584789, 7.8475997035146117, 6.6766929391875651, 5.6804921617284281, 4.8329302385717536, 4.1118294024358315, 3.4983209357750371, 2.9763514416313188, 2.5322627816987953, 2.1544346900318838]\n"
     ]
    }
   ],
   "source": [
    "phio=np.logspace(-2, 2., num=20, endpoint=True, base=10.0, dtype=None)#just columns (0,2); plates (-2,2)\n",
    "lengtharr = []\n",
    "widtharr = []\n",
    "for i in phio:\n",
    "        width = (1000/i)**(1./3.) #equivalent volume length and width for each aspect ratio\n",
    "        widtharr.append(width)\n",
    "        length=i*width\n",
    "        lengtharr.append(length)\n",
    "print(lengtharr)\n",
    "print(widtharr)"
   ]
  },
  {
   "cell_type": "code",
   "execution_count": null,
   "metadata": {},
   "outputs": [],
   "source": []
  }
 ],
 "metadata": {
  "anaconda-cloud": {},
  "kernelspec": {
   "display_name": "IPAS_ENV",
   "language": "python",
   "name": "ipas_env"
  },
  "language_info": {
   "codemirror_mode": {
    "name": "ipython",
    "version": 3
   },
   "file_extension": ".py",
   "mimetype": "text/x-python",
   "name": "python",
   "nbconvert_exporter": "python",
   "pygments_lexer": "ipython3",
   "version": "3.6.3"
  }
 },
 "nbformat": 4,
 "nbformat_minor": 1
}
