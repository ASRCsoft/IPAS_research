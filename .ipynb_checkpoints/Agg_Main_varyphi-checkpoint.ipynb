{
 "cells": [
  {
   "cell_type": "markdown",
   "metadata": {},
   "source": [
    "# Main Aggregation Script - calls lab.py and crystals.py"
   ]
  },
  {
   "cell_type": "code",
   "execution_count": 62,
   "metadata": {},
   "outputs": [],
   "source": [
    "#Reloads the lab.py and crystals.py modules to update any changes (after saving)\n",
    "#If a new method or object is created, autoreload doesn't work and the \n",
    "#kernel needs to be closed and halted after saving and making a 'checkpoint'\n",
    "#in this notebook\n",
    "\n",
    "%load_ext autoreload\n",
    "%autoreload 2"
   ]
  },
  {
   "cell_type": "code",
   "execution_count": 2,
   "metadata": {},
   "outputs": [
    {
     "name": "stdout",
     "output_type": "stream",
     "text": [
      "Available kernels:\r\n",
      "  ipas_env    /Users/vprzybylo/Library/Jupyter/kernels/ipas_env\r\n",
      "  python3     /Users/vprzybylo/anaconda3/bin/IPAS_env/share/jupyter/kernels/python3\r\n"
     ]
    }
   ],
   "source": [
    "!jupyter kernelspec list  #list available kernels\n",
    "#Bad magic number error fix:\n",
    "#find . -name '*.pyc' -delete"
   ]
  },
  {
   "cell_type": "code",
   "execution_count": 9,
   "metadata": {},
   "outputs": [],
   "source": [
    "#show plots in the notebook, formatting of the plots changes\n",
    "%matplotlib inline\n",
    "from ipas import lab_copy_varyphi as lab\n",
    "from ipas import IceCrystal as crys\n",
    "from ipas import plots_varyphi as plts\n",
    "import numpy as np\n",
    "import time  #for efficiency tests\n",
    "import itertools   #to create width array and join plate/col aspect ratios\n",
    "from operator import itemgetter\n",
    "import shapely.geometry as geom\n",
    "import matplotlib.pyplot as plt\n",
    "import scipy.optimize as opt\n",
    "import random\n",
    "import matplotlib\n",
    "import sys\n",
    "from scipy.stats import lognorm\n",
    "#!{sys.executable} -m pip install stats"
   ]
  },
  {
   "cell_type": "markdown",
   "metadata": {},
   "source": [
    "#### Loops over aspect ratios, creates histograms of each aspect ratio"
   ]
  },
  {
   "cell_type": "markdown",
   "metadata": {},
   "source": [
    "##### 'PATH' VARIABLE NEEDS TO BE CHANGED IN lap_copy.py BEFORE RUNNING -- ALL FOLDERS/FILES WILL BE CREATED IF THEY DO NOT EXIST \n"
   ]
  },
  {
   "cell_type": "code",
   "execution_count": 35,
   "metadata": {},
   "outputs": [
    {
     "name": "stdout",
     "output_type": "stream",
     "text": [
      "0.01 [ 0.00206039  0.03063559]\n"
     ]
    },
    {
     "data": {
      "image/png": "[encoded data removed]",
      "text/plain": [
       "<matplotlib.figure.Figure at 0x109638828>"
      ]
     },
     "metadata": {},
     "output_type": "display_data"
    },
    {
     "name": "stdout",
     "output_type": "stream",
     "text": [
      "0.1 [ 0.23483488  0.05377361]\n"
     ]
    },
    {
     "data": {
      "image/png": "[encoded data removed]",
      "text/plain": [
       "<matplotlib.figure.Figure at 0x10989ecf8>"
      ]
     },
     "metadata": {},
     "output_type": "display_data"
    },
    {
     "name": "stdout",
     "output_type": "stream",
     "text": [
      "1.0 [ 1.46670071  1.3625106 ]\n"
     ]
    },
    {
     "data": {
      "image/png": "[encoded data removed]",
      "text/plain": [
       "<matplotlib.figure.Figure at 0x1093ec978>"
      ]
     },
     "metadata": {},
     "output_type": "display_data"
    },
    {
     "name": "stdout",
     "output_type": "stream",
     "text": [
      "10.0 [ 14.60312333   6.93997034]\n"
     ]
    },
    {
     "data": {
      "image/png": "[encoded data removed]",
      "text/plain": [
       "<matplotlib.figure.Figure at 0x10a1474a8>"
      ]
     },
     "metadata": {},
     "output_type": "display_data"
    },
    {
     "name": "stderr",
     "output_type": "stream",
     "text": [
      "/usr/local/lib/python3.6/site-packages/numpy/core/function_base.py:226: RuntimeWarning: overflow encountered in power\n",
      "  return _nx.power(base, y)\n"
     ]
    },
    {
     "name": "stdout",
     "output_type": "stream",
     "text": [
      "100.0 [ 199.98405498  189.90084411]\n"
     ]
    },
    {
     "data": {
      "image/png": "[encoded data removed]",
      "text/plain": [
       "<matplotlib.figure.Figure at 0x1095924e0>"
      ]
     },
     "metadata": {},
     "output_type": "display_data"
    }
   ],
   "source": [
    "import matplotlib.mlab as mlab\n",
    "from scipy.stats import norm\n",
    "\n",
    "phio=np.logspace(-2, 2, num=5, endpoint=True, base=10.0, dtype=None)#just columns (0,2); plates (-2,0)\n",
    "for phi in phio:\n",
    "    mu = phi \n",
    "    minx = mu/10\n",
    "    maxx = mu*10\n",
    "    sigma = mu\n",
    "\n",
    "    ax = plt.subplot(111)\n",
    "    ax.set_xscale(\"log\")\n",
    "    ax.xaxis.set_major_formatter(matplotlib.ticker.FormatStrFormatter(\"%.3f\"))\n",
    "    \n",
    "    samples = np.random.normal(phi, sigma, size=10000)\n",
    "  \n",
    "    bins_log10 = np.logspace( np.log10(minx), np.log10(maxx), 100 )    \n",
    "    counts, bins, ignored = plt.hist(samples, bins_log10, normed=False) \n",
    "        \n",
    "    rand = np.random.normal(phi, sigma, 2)\n",
    "    while (rand[0] < minx or rand[0] > maxx) or (rand[1] < minx or rand[1] > maxx):\n",
    "        rand = np.random.normal(phi, sigma, 2)\n",
    "    '''\n",
    "    print(rand)\n",
    "    randarr = []\n",
    "    for i in rand:\n",
    "        if i < 0:\n",
    "            randarr.append(phi - np.abs(i))\n",
    "        else:\n",
    "            randarr.append(i)\n",
    "    '''\n",
    "    #plt.hist(data, bins = 10 ** np.linspace(np.log10(minx), np.log10(maxx), 50))\n",
    "    \n",
    "    #plt.plot(bins, 1/(sigma * np.sqrt(2 * np.pi)) *\\\n",
    "    #         np.exp( - (bins - mu)**2 / (2 * sigma**2) ),\\\n",
    "    #         linewidth=2, color='r')\n",
    "    x = np.logspace(min(bins_log10), max(bins_log10), 10000)\n",
    "    y = (np.exp(-(np.log(bins) - mu)**2 / (2 * sigma**2))\\\n",
    "           / (bins * sigma * np.sqrt(2 * np.pi)))\n",
    "\n",
    "    plt.plot(bins, y, color='r', linewidth=2)\n",
    "\n",
    "    print(phi, rand)\n",
    "    plt.show()"
   ]
  },
  {
   "cell_type": "code",
   "execution_count": 99,
   "metadata": {},
   "outputs": [
    {
     "name": "stdout",
     "output_type": "stream",
     "text": [
      "phi= 0.01\n",
      "[ 0.00502149  0.00528368]\n",
      "[True, True]\n",
      "True\n",
      "0.01 [ 0.00502149  0.00528368]\n"
     ]
    },
    {
     "data": {
      "image/png": "[encoded data removed]",
      "text/plain": [
       "<matplotlib.figure.Figure at 0x18c32d978>"
      ]
     },
     "metadata": {},
     "output_type": "display_data"
    },
    {
     "name": "stdout",
     "output_type": "stream",
     "text": [
      "phi= 0.1\n",
      "[ 0.06780443  0.033039  ]\n",
      "[True, True]\n",
      "True\n",
      "0.1 [ 0.06780443  0.033039  ]\n"
     ]
    },
    {
     "data": {
      "image/png": "[encoded data removed]",
      "text/plain": [
       "<matplotlib.figure.Figure at 0x18c328278>"
      ]
     },
     "metadata": {},
     "output_type": "display_data"
    },
    {
     "name": "stdout",
     "output_type": "stream",
     "text": [
      "phi= 1.0\n",
      "[ 0.30328688  0.96927578]\n",
      "[False, False]\n",
      "False\n",
      "1.0 [ 1.41829785  1.1316408 ]\n"
     ]
    },
    {
     "data": {
      "image/png": "[encoded data removed]",
      "text/plain": [
       "<matplotlib.figure.Figure at 0x18cc84cf8>"
      ]
     },
     "metadata": {},
     "output_type": "display_data"
    },
    {
     "name": "stdout",
     "output_type": "stream",
     "text": [
      "phi= 10.0\n",
      "[ 14.95290503   5.06833422]\n",
      "[True, True]\n",
      "True\n",
      "10.0 [ 14.95290503   5.06833422]\n"
     ]
    },
    {
     "data": {
      "image/png": "[encoded data removed]",
      "text/plain": [
       "<matplotlib.figure.Figure at 0x18d0e1ba8>"
      ]
     },
     "metadata": {},
     "output_type": "display_data"
    },
    {
     "name": "stdout",
     "output_type": "stream",
     "text": [
      "phi= 100.0\n",
      "[ 70.38457518  64.43952049]\n",
      "[True, True]\n",
      "True\n",
      "100.0 [ 70.38457518  64.43952049]\n"
     ]
    },
    {
     "data": {
      "image/png": "[encoded data removed]",
      "text/plain": [
       "<matplotlib.figure.Figure at 0x18d0799b0>"
      ]
     },
     "metadata": {},
     "output_type": "display_data"
    }
   ],
   "source": [
    "import matplotlib.pyplot as plt\n",
    "import scipy.special as sps\n",
    "from scipy.stats import gamma\n",
    "\n",
    "shape = 4. \n",
    "phio=np.logspace(-2, 2, num=5, endpoint=True, base=10.0, dtype=None)#just columns (0,2); plates (-2,0)\n",
    "\n",
    "for phi in phio:   \n",
    "    ax = plt.subplot(111)\n",
    "    ax.set_xscale(\"log\")\n",
    "    ax.xaxis.set_major_formatter(matplotlib.ticker.FormatStrFormatter(\"%.3f\"))\n",
    "\n",
    "    print('phi=',phi)\n",
    "    mu = phi \n",
    "    minx = mu/10\n",
    "    maxx = mu*10\n",
    "    scale = mu/shape\n",
    " \n",
    "    samples = np.random.gamma(shape, scale, size=100000)\n",
    "  \n",
    "    bins_log10 = np.logspace( np.log10(minx), np.log10(maxx), 100 )    \n",
    "    count, bins, ignored = plt.hist(samples, bins_log10, normed=False) #TRY NORMED AS FALSE\n",
    "    \n",
    "    y = bins**(shape-1)*(np.exp(-bins/scale) /\n",
    "                     (sps.gamma(shape)*scale**shape))\n",
    "    plt.plot(bins, y, linewidth=2, color='r')\n",
    "    \n",
    "    rand = np.random.gamma(shape, scale, 2)\n",
    "    #check rand falls in between the bounds we want of the distribution\n",
    "    while (rand[0] < minx or rand[0] > maxx) or (rand[1] < minx or rand[1] > maxx): \n",
    "        rand = np.random.gamma(shape, scale, 2)\n",
    "    print(rand)\n",
    "    if phi < 1.0:  #make sure both rand values are < 1.0 for plates\n",
    "        check_rand = [True if x < 1.0 else False for x in rand]\n",
    "    else: #make sure both rand values are > 1.0 for columns\n",
    "        check_rand = [True if x > 1.0 else False for x in rand]\n",
    "    print(check_rand)\n",
    "    print(all(check_rand))    \n",
    "    while all(check_rand) == False:\n",
    "        \n",
    "        rand = np.random.gamma(shape, scale, 2) #pick 2 new values until check_rand is all true\n",
    "        if phi < 1.0:\n",
    "            check_rand = [True if x < 1.0 else False for x in rand]\n",
    "        else:\n",
    "            check_rand = [True if x > 1.0 else False for x in rand]\n",
    "    \n",
    "    print(phi, rand)\n",
    "    plt.show()"
   ]
  },
  {
   "cell_type": "code",
   "execution_count": null,
   "metadata": {},
   "outputs": [],
   "source": [
    "\n",
    "shape = 4. \n",
    "phio=np.logspace(-2, 2, num=5, endpoint=True, base=10.0, dtype=None)#just columns (0,2); plates (-2,0)\n",
    "\n",
    "for phi in phio:   \n",
    "    print('phi=',phi) \n",
    " \n",
    "    # generate log-normal distributed set of samples\n",
    "    #np.random.seed(42)\n",
    "    samples = np.random.lognormal(mean=np.log(phi), sigma=1, size=10000)\n",
    "    print(samples[0:10])\n",
    "    print(samples[100:110])\n",
    "    rand = samples[0:2]\n",
    "    print(rand)\n",
    "    N_bins = 50\n",
    "\n",
    "    # make a fit to the samples\n",
    "    shape, loc, scale = lognorm.fit(samples, floc=0)\n",
    "\n",
    "    # plot a histrogram with linear x-axis\n",
    "    fig, ax2 = plt.subplots()#1,2, figsize=(10,5), gridspec_kw={'wspace':0.2})\n",
    "    \n",
    "    # equally sized bins in log10-scale and centers\n",
    "    bins_log10 = np.logspace(np.log10(samples.min()), np.log10(samples.max()), N_bins)\n",
    "    bins_log10_cntr = (bins_log10[1:] + bins_log10[:-1]) / 2\n",
    "\n",
    "    # smoother PDF line\n",
    "    s = 10 # mulpiplier to N_bins - the bigger s is the smoother the line\n",
    "    bins_log10_s = np.logspace(np.log10(samples.min()), np.log10(samples.max()), N_bins * s)\n",
    "    bins_log10_cntr_s = (bins_log10_s[1:] + bins_log10_s[:-1]) / 2\n",
    "    \n",
    "    # histogram plot\n",
    "    counts, bin_edges, ignored = ax2.hist(samples, bins_log10, color='midnightblue',histtype='stepfilled',\n",
    "                                          label='histogram of aspect ratios')\n",
    "\n",
    "    # calculate length of each bin and its centers(required for scaling PDF to histogram)\n",
    "    bins_log_len = np.r_[bins_log10_s[1:] - bins_log10_s[: -1], 0]\n",
    "    bins_log_cntr = bins_log10_s[1:] - bins_log10_s[:-1]\n",
    "\n",
    "    # smooth pdf-values for same intervals as histogram\n",
    "    samples_fit_log_s = lognorm.pdf(bins_log10_s, shape, loc=loc, scale=scale)\n",
    "\n",
    "    # pdf-values for centered scale\n",
    "    samples_fit_log_cntr = lognorm.pdf(bins_log10_cntr_s, shape, loc=loc, scale=scale)\n",
    "\n",
    "    # smooth pdf-values using cdf \n",
    "    samples_fit_log_cntr2_s_ = lognorm.cdf(bins_log10_s, shape, loc=loc, scale=scale)\n",
    "    samples_fit_log_cntr2_s = np.diff(samples_fit_log_cntr2_s_)\n",
    "\n",
    "    # plot fitted and scaled PDFs into histogram\n",
    "    ax2.plot(bins_log10_cntr_s, \n",
    "             samples_fit_log_cntr * bins_log_cntr * counts.sum() * s, '-', color='darkred', \n",
    "             label='smoothed PDF', linewidth=2)\n",
    "\n",
    "    #ax2.plot(bins_log10_cntr_s, \n",
    "    #         samples_fit_log_cntr2_s * counts.sum() * s, '-.', color='lightblue', \n",
    "    #         label='Smooth CDF with centers', linewidth=2)\n",
    "\n",
    "    ax2.set_xscale('log')\n",
    "    ax2.xaxis.set_major_formatter(matplotlib.ticker.FormatStrFormatter(\"%.3f\"))\n",
    "\n",
    "    ax2.set_xlim(bin_edges.min(), bin_edges.max())\n",
    "    ax2.legend(loc=3)\n",
    "    plt.show()"
   ]
  },
  {
   "cell_type": "code",
   "execution_count": 85,
   "metadata": {
    "scrolled": true
   },
   "outputs": [
    {
     "name": "stdout",
     "output_type": "stream",
     "text": [
      "phio =  0.01\n",
      "--- 2.97 minute(s) ---\n",
      "phio =  0.01373823795883263\n",
      "--- 3.04 minute(s) ---\n",
      "phio =  0.018873918221350976\n",
      "--- 3.09 minute(s) ---\n",
      "phio =  0.02592943797404667\n",
      "--- 3.01 minute(s) ---\n",
      "phio =  0.035622478902624426\n",
      "--- 2.95 minute(s) ---\n",
      "phio =  0.04893900918477494\n",
      "--- 2.98 minute(s) ---\n",
      "phio =  0.06723357536499334\n",
      "--- 3.10 minute(s) ---\n",
      "phio =  0.09236708571873861\n",
      "--- 2.95 minute(s) ---\n",
      "phio =  0.12689610031679222\n",
      "--- 2.97 minute(s) ---\n",
      "phio =  0.17433288221999882\n",
      "--- 2.99 minute(s) ---\n",
      "phio =  0.2395026619987486\n",
      "--- 3.52 minute(s) ---\n",
      "phio =  0.32903445623126676\n",
      "--- 3.03 minute(s) ---\n",
      "phio =  0.4520353656360243\n",
      "--- 2.92 minute(s) ---\n",
      "phio =  0.6210169418915616\n",
      "--- 2.85 minute(s) ---\n",
      "phio =  0.8531678524172805\n",
      "--- 2.96 minute(s) ---\n",
      "phio =  1.1721022975334805\n",
      "--- 2.91 minute(s) ---\n",
      "phio =  1.6102620275609392\n",
      "--- 3.14 minute(s) ---\n",
      "phio =  2.212216291070448\n",
      "--- 3.12 minute(s) ---\n",
      "phio =  3.039195382313198\n",
      "--- 2.97 minute(s) ---\n",
      "phio =  4.175318936560401\n",
      "--- 3.00 minute(s) ---\n",
      "phio =  5.736152510448681\n",
      "--- 3.22 minute(s) ---\n",
      "phio =  7.880462815669913\n",
      "--- 3.08 minute(s) ---\n",
      "phio =  10.82636733874054\n",
      "--- 3.14 minute(s) ---\n",
      "phio =  14.873521072935118\n",
      "--- 3.14 minute(s) ---\n",
      "phio =  20.433597178569418\n",
      "--- 3.11 minute(s) ---\n",
      "phio =  28.072162039411758\n",
      "--- 3.08 minute(s) ---\n",
      "phio =  38.56620421163472\n",
      "--- 3.23 minute(s) ---\n",
      "phio =  52.98316906283707\n",
      "--- 3.06 minute(s) ---\n",
      "phio =  72.78953843983146\n",
      "--- 3.19 minute(s) ---\n",
      "phio =  100.0\n",
      "--- 3.29 minute(s) ---\n"
     ]
    }
   ],
   "source": [
    "phio=np.logspace(-2, 2, num=30, endpoint=True, base=10.0, dtype=None)#just columns (0,2); plates (-2,0)\n",
    "#add=np.logspace(-.301, .301, num=5, endpoint=True, base=10.0, dtype=None)\n",
    "#phio = sorted(np.append(phio, add, axis=0))\n",
    "#phio = [5.0]\n",
    "\n",
    "#phio = [.01,.02,.03,.04,.05,.06,.07,.08,.09,.1,.2,.3,.4,\\\n",
    "#        .5,.6,.7,.8,.9,1,2,3,4,5,6,7,8,9,10,20,30,40,50,60,70,80,90,100]\n",
    "reqarr = [1,2,3,4,5,6,7,8,9,10,20,30,40,50,60,70,80,90,100,200,300,400,500,600,700,800,900,1000]\n",
    "#reqarr = [1,2]\n",
    "numaspectratios=len(phio)\n",
    "ch_dist='gamma'         #anything other than gamma uses the characteristic from the best distribution pdf (lowest SSE)\n",
    "nclusters = 300       #changes how many aggregates per aspect ratio to consider\n",
    "ncrystals = 2\n",
    "minor = 'depth'         #'minorxy' from fit ellipse or 'depth' to mimic IPAS in IDL\n",
    "rand_orient = False     #randomly orient the seed crystal and new crystal: uses first random orientation\n",
    "save_plots = False     #saves all histograms to path with # of aggs and minor/depth folder\n",
    "file_ext = 'eps'\n",
    "\n",
    "#Note, there may be a shape parameter erlang distribution run time warning occasionally if warning filter\n",
    "#is turned off, disregard it\n",
    "import warnings\n",
    "warnings.filterwarnings(\"ignore\")\n",
    "\n",
    "#If creating lookup table using lab_lookup use this call to main_ar_loop:\n",
    "#AND change import from lab_copy to lab_lookup in import statement above\n",
    "#p300lookup = lab.main_ar_loop(phio, reqarr, numaspectratios, ch_dist, nclusters, ncrystals, minor, save_plots, file_ext)\n",
    "#Otherwise:\n",
    "p300_1 = lab.main_ar_loop(phio, numaspectratios, ch_dist, nclusters, ncrystals, minor, rand_orient, save_plots, file_ext) "
   ]
  },
  {
   "cell_type": "markdown",
   "metadata": {},
   "source": [
    "Plot characteristic values of the distributions with respect to the starting aspect ratios"
   ]
  },
  {
   "cell_type": "code",
   "execution_count": 74,
   "metadata": {
    "scrolled": false
   },
   "outputs": [
    {
     "data": {
      "text/plain": [
       "'\\nseedphio = \\nprint(np.size(seedphio))\\nnewphio = p300.newlengtharr/p300.newwidtharr\\nseedlengthar = np.zeros([numaspectratios, 300])\\nprint(np.shape(seedlengthar))\\nseedlengthar[0] = seedphio\\nprint(seedlengthar)\\n'"
      ]
     },
     "execution_count": 74,
     "metadata": {},
     "output_type": "execute_result"
    },
    {
     "data": {
      "image/png": "[encoded data removed]",
      "text/plain": [
       "<matplotlib.figure.Figure at 0x190474630>"
      ]
     },
     "metadata": {},
     "output_type": "display_data"
    }
   ],
   "source": [
    "fig = plt.figure(figsize=(10,7),frameon=False)\n",
    "ax = plt.subplot(111)\n",
    "ax.set_xscale(\"log\")\n",
    "ax.set_yscale(\"log\")\n",
    "ax.grid(b=True, which='minor', alpha = 0.9, axis = 'x')\n",
    "ax.grid(b=True, which='minor', alpha = 0.9, axis = 'y')\n",
    "ax.grid(b=True, which='major', alpha = 0.9, axis = 'x')            \n",
    "ax.grid(b=True, which='major', alpha = 0.9, axis = 'y')    \n",
    "ax.xaxis.set_major_formatter(matplotlib.ticker.FormatStrFormatter(\"%.3f\"))\n",
    "ax.yaxis.set_major_formatter(matplotlib.ticker.FormatStrFormatter(\"%.3f\"))\n",
    "            \n",
    "plt.style.use('seaborn-dark')  #gray background\n",
    "plt.plot(p300.phio, p300.newlengtharr/p300.newwidtharr, 'o', color ='darkorange', label = 'random new phi')\n",
    "plt.plot(p300.phio, p300.seedlengtharr/p300.seedwidtharr, 'o', color='navy', label = 'random seed phi')\n",
    "plt.plot(p300.phio, p300.phio, 'w-o', linewidth = 3, label = 'characteristic monomer phi')\n",
    "\n",
    "#plt.title('Variability in Randomized Monomer Aspect Ratios')\n",
    "plt.plot(p300.phio, np.mean(p300.seedlengtharr, axis=1)/np.mean(p300.seedwidtharr, axis=1), 'r-', \n",
    "         label = 'mean seed phi')\n",
    "plt.plot(p300.phio, np.mean(p300.newlengtharr, axis=1)/np.mean(p300.newwidtharr, axis=1), 'g-', \n",
    "         label = 'mean new phi')\n",
    "\n",
    "\n",
    "from collections import OrderedDict\n",
    "import matplotlib.pyplot as plt\n",
    "\n",
    "handles, labels = plt.gca().get_legend_handles_labels()\n",
    "by_label = OrderedDict(zip(labels, handles))\n",
    "plt.legend(by_label.values(), by_label.keys())\n",
    "plt.xlabel (\"Equivalent Volume Aspect Ratio of Monomer\")\n",
    "plt.ylabel (\"Variability in Randomized Monomer Aspect Ratios\")\n",
    "\n",
    "plt.savefig('/Users/vprzybylo/Desktop/icefiles/agg_model/agg_notes/graphics/python'+\n",
    "            '/300xtals_hist/depth/random_variability.eps')\n",
    "'''\n",
    "seedphio = \n",
    "print(np.size(seedphio))\n",
    "newphio = p300.newlengtharr/p300.newwidtharr\n",
    "seedlengthar = np.zeros([numaspectratios, 300])\n",
    "print(np.shape(seedlengthar))\n",
    "seedlengthar[0] = seedphio\n",
    "print(seedlengthar)\n",
    "'''"
   ]
  },
  {
   "cell_type": "code",
   "execution_count": null,
   "metadata": {},
   "outputs": [],
   "source": [
    "object = p300\n",
    "filename = 'random_var_run'\n",
    "filehandler = open(filename, 'wb')\n",
    "pickle.dump(object, filehandler, 0)\n",
    "filehandler.close()"
   ]
  },
  {
   "cell_type": "code",
   "execution_count": 106,
   "metadata": {},
   "outputs": [
    {
     "name": "stdout",
     "output_type": "stream",
     "text": [
      "[ 0.3136446   0.34664224  0.34503463  0.36062223  0.38411141  0.37725158\n",
      "  0.38963009  0.40009082  0.45780885  0.45247861  0.48495582  0.53295316\n",
      "  0.5393064   0.58702553  0.62320035  0.64078701  0.66647743  0.6889754\n",
      "  0.69244225  0.71460984  0.71828062  0.73849192  0.73223552  0.73954824\n",
      "  0.71528081  2.44483541  2.83107675  2.80878238  2.93090823  3.46735369\n",
      "  3.9524203   4.3432494   4.73852805  5.36368289  5.79939425  7.07130676\n",
      "  7.36595353  7.77802188  8.83852164 11.25703636 14.85779688 10.49793178\n",
      " 12.90395507 11.89747642 16.80517706 17.23196749 17.75653845 18.73126104\n",
      " 18.150861   23.91492758]\n",
      "[0.14647001 0.15518157 0.15280875 0.16246593 0.16713854 0.16825457\n",
      " 0.17597059 0.1868809  0.1892448  0.20419694 0.20901788 0.22467011\n",
      " 0.24675868 0.27670168 0.29696161 0.33583876 0.3479311  0.39648922\n",
      " 0.41548674 0.42739318 0.45813253 0.47908061 0.48199949 0.49472346\n",
      " 0.48772508 1.25495479 1.18469898 1.21508763 1.27239194 1.03269697\n",
      " 1.16339415 1.26548468 1.23736748 1.28592942 1.41606008 1.11158962\n",
      " 1.61235113 1.6904841  1.92150228 1.16051509 1.         2.56487313\n",
      " 2.08303025 2.3450901  1.2029411  1.4819656  0.29495149 1.07845393\n",
      " 1.23689335 1.        ]\n",
      "[0.02992252 0.06886397 0.04953115 0.06130476 0.08075228 0.07442608\n",
      " 0.08088155 0.09030299 0.04750066 0.08111369 0.10144009 0.09312188\n",
      " 0.10620552 0.11764527 0.12945846 0.11442411 0.16778104 0.14701994\n",
      " 0.21577921 0.14333954 0.2622211  0.18392893 0.33942782 0.32936495\n",
      " 0.18794593 0.97773426 0.95235399 0.87701048 1.02412449 0.89170026\n",
      " 1.14463727 1.11897325 1.07456236 1.07746975 1.09625177 1.07607394\n",
      " 1.29666559 1.06337398 1.22232487 1.05846666 1.34181729 1.35569794\n",
      " 1.88569025 1.9657204  2.00631331 1.90352226 2.07697108 2.00559446\n",
      " 2.1515089  1.90037711]\n",
      "[  0.54259152   0.6590855    0.65246057   0.6590284    0.6721158\n",
      "   0.75528503   0.69271748   0.67183452   0.77074376   0.77704481\n",
      "   0.97020148   0.91612075   0.88636968   0.93993058   0.92384999\n",
      "   0.97868229   0.95944477   0.91656243   0.95128202   0.90514352\n",
      "   0.9784061    0.99838889   0.98143145   0.93794562   0.97884209\n",
      "   4.95509787   5.92352794   6.15018533   6.43265819  13.07703135\n",
      "  10.46989342  12.62888273  14.4884023   15.18724813  19.39102492\n",
      "  24.58520251  19.8957101   20.87102112  20.72562784  53.52331195\n",
      " 135.84522014  34.45070555  39.80571114  36.86423299  65.83715376\n",
      "  55.4042828   81.84451891  87.96996455  67.44862073 175.23268562]\n",
      "Saving figure to '/Users/vprzybylo/Desktop/icefiles/agg_model/agg_notes/graphics/python/50xtals_hist/depth/char_phi_varied_even.eps'...\n"
     ]
    }
   ],
   "source": [
    "#p300.which_plot(nclusters, plot_name ='major_axis', ch_dist=ch_dist, savefile = 'major_axis_varied',\n",
    "#              save=True, ext=file_ext, verbose=True)\n",
    "#p300_equidist.which_plot(nclusters, plot_name ='req', ch_dist=ch_dist, savefile = 'req_mean_equi', \n",
    "#              save=True, ext=file_ext, verbose=True)\n",
    "#p300.which_plot(nclusters, plot_name ='overlap', ch_dist=ch_dist, savefile = 'overlap_varied_even',\n",
    "#              save=True, ext=file_ext, verbose=True)\n",
    "p300.which_plot(nclusters, plot_name ='char', ch_dist=ch_dist, savefile = 'char_phi_varied_even',\n",
    "              save=True, ext=file_ext, verbose=True)\n",
    "#p300.which_plot(nclusters, plot_name ='dc_da_normalized', ch_dist=ch_dist, savefile = 'dc_da_normalized_varied',\n",
    "#              save=True, ext=file_ext, verbose=True)\n",
    "#p300_equidist.which_plot(nclusters, plot_name ='dphigamquad', ch_dist=ch_dist, savefile = 'dphigamquad__equi',\n",
    "#              save=True, ext=file_ext, verbose=True)\n",
    "#p300_equidist.which_plot(nclusters, plot_name ='complexity', ch_dist=ch_dist, savefile = 'complexity_equi',\n",
    "#              save=True, ext=file_ext, verbose=True)\n",
    "\n",
    "#...there are other plots that can be made -- look in plots.py in ipas folder"
   ]
  },
  {
   "cell_type": "code",
   "execution_count": 6,
   "metadata": {},
   "outputs": [
    {
     "name": "stdout",
     "output_type": "stream",
     "text": [
      "Saving figure to '/Users/vprzybylo/Desktop/icefiles/agg_model/agg_notes/graphics/python/300xtals_hist/depth/complexitybest1.eps'...\n"
     ]
    }
   ],
   "source": [
    "#p300.which_plot(nclusters, plot_name ='overlap', ch_dist=ch_dist, savefile = 'overlap_equi',\n",
    "#              save=True, ext=file_ext, verbose=True)\n",
    "file_ext = 'eps'\n",
    "#p300.which_plot(nclusters, plot_name ='max_contact_angle', ch_dist=ch_dist, savefile = 'max_cont_ang_equi',\n",
    "#              save=True, ext=file_ext, verbose=True)\n",
    "#p300.which_plot(nclusters, plot_name ='req', ch_dist=ch_dist, savefile = 'req_equi',\n",
    "#              save=True, ext=file_ext, verbose=True)\n",
    "\n",
    "p300best.which_plot(nclusters, plot_name ='complexity', ch_dist=ch_dist, savefile = 'complexitybest1',\n",
    "              save=True, ext=file_ext, verbose=True)"
   ]
  },
  {
   "cell_type": "markdown",
   "metadata": {},
   "source": [
    "###### Initialize a column; note z is into/out of the page, y is up/vertical, therefore 'falling' into the page"
   ]
  },
  {
   "cell_type": "code",
   "execution_count": 61,
   "metadata": {},
   "outputs": [
    {
     "name": "stdout",
     "output_type": "stream",
     "text": [
      "50.0 -50.0\n",
      "5.0 -5.0\n",
      "4.33012701892 -4.33012701892\n"
     ]
    },
    {
     "data": {
      "image/svg+xml": [
       "<svg xmlns=\"http://www.w3.org/2000/svg\" xmlns:xlink=\"http://www.w3.org/1999/xlink\" width=\"108.0\" height=\"100.0\" viewBox=\"-54.0 -9.0 108.0 18.0\" preserveAspectRatio=\"xMinYMin meet\"><g transform=\"matrix(1,0,0,-1,0,0.0)\"><g><polyline fill=\"none\" stroke=\"#66cc99\" stroke-width=\"2.0\" points=\"50.0,-2.5 50.0,2.5 50.0,5.0 50.0,2.5 50.0,-2.5 50.0,-5.0 50.0,-2.5\" opacity=\"0.8\" /><polyline fill=\"none\" stroke=\"#66cc99\" stroke-width=\"2.0\" points=\"-50.0,-2.5 -50.0,2.5 -50.0,5.0 -50.0,2.5 -50.0,-2.5 -50.0,-5.0 -50.0,-2.5\" opacity=\"0.8\" /><polyline fill=\"none\" stroke=\"#66cc99\" stroke-width=\"2.0\" points=\"50.0,-2.5 -50.0,-2.5\" opacity=\"0.8\" /><polyline fill=\"none\" stroke=\"#66cc99\" stroke-width=\"2.0\" points=\"50.0,2.5 -50.0,2.5\" opacity=\"0.8\" /><polyline fill=\"none\" stroke=\"#66cc99\" stroke-width=\"2.0\" points=\"50.0,5.0 -50.0,5.0\" opacity=\"0.8\" /><polyline fill=\"none\" stroke=\"#66cc99\" stroke-width=\"2.0\" points=\"50.0,2.5 -50.0,2.5\" opacity=\"0.8\" /><polyline fill=\"none\" stroke=\"#66cc99\" stroke-width=\"2.0\" points=\"50.0,-2.5 -50.0,-2.5\" opacity=\"0.8\" /><polyline fill=\"none\" stroke=\"#66cc99\" stroke-width=\"2.0\" points=\"50.0,-5.0 -50.0,-5.0\" opacity=\"0.8\" /></g></g></svg>"
      ],
      "text/plain": [
       "<shapely.geometry.multilinestring.MultiLineString at 0x1499e6cf8>"
      ]
     },
     "execution_count": 61,
     "metadata": {},
     "output_type": "execute_result"
    }
   ],
   "source": [
    "#columns initially  - y axis is up and down, x left right, z into page\n",
    "length=100\n",
    "width=10\n",
    "rotation = [0,0,0]\n",
    "#rotation = [0,0, random.uniform(0, 2 * np.pi)]\n",
    "seedcrystal = crys.IceCrystal(length=length, width=width, rotation=rotation)\n",
    "\n",
    "xmaxseed = seedcrystal.max('x')\n",
    "xminseed = seedcrystal.min('x')\n",
    "ymaxseed = seedcrystal.max('y')\n",
    "yminseed = seedcrystal.min('y')\n",
    "zmaxseed = seedcrystal.max('z')\n",
    "zminseed = seedcrystal.min('z')\n",
    "\n",
    "print(xmaxseed, xminseed)\n",
    "print(ymaxseed, yminseed)\n",
    "print(zmaxseed, zminseed)\n",
    "\n",
    "seedcrystal.plot()"
   ]
  },
  {
   "cell_type": "markdown",
   "metadata": {},
   "source": [
    "###### Initialize a plate; note z is into/out of the page, y is up/vertical, therefore 'falling' into the page\n"
   ]
  },
  {
   "cell_type": "code",
   "execution_count": 18,
   "metadata": {},
   "outputs": [
    {
     "name": "stdout",
     "output_type": "stream",
     "text": [
      "0.418224532392 -0.312320696112 4.641227432413324\n"
     ]
    },
    {
     "data": {
      "image/svg+xml": [
       "<svg xmlns=\"http://www.w3.org/2000/svg\" xmlns:xlink=\"http://www.w3.org/1999/xlink\" width=\"300\" height=\"300\" viewBox=\"-511.09568448487164 -442.5818831521751 1022.1913689697433 885.1637663043502\" preserveAspectRatio=\"xMinYMin meet\"><g transform=\"matrix(1,0,0,-1,0,0.0)\"><g><polyline fill=\"none\" stroke=\"#66cc99\" stroke-width=\"6.814609126464955\" points=\"-286.03205278924247,-372.7272671052051 141.1145086332054,-404.72294356070313 381.0563779514961,-31.99567645549799 193.85168584733896,372.7272671052051 -233.2948755751089,404.72294356070313 -473.23674489339965,31.99567645549799 -286.03205278924247,-372.7272671052051\" opacity=\"0.8\" /><polyline fill=\"none\" stroke=\"#66cc99\" stroke-width=\"6.814609126464955\" points=\"-193.85168584733896,-372.7272671052051 233.2948755751089,-404.72294356070313 473.23674489339965,-31.99567645549799 286.03205278924247,372.7272671052051 -141.1145086332054,404.72294356070313 -381.0563779514961,31.99567645549799 -193.85168584733896,-372.7272671052051\" opacity=\"0.8\" /><polyline fill=\"none\" stroke=\"#66cc99\" stroke-width=\"6.814609126464955\" points=\"-286.03205278924247,-372.7272671052051 -193.85168584733896,-372.7272671052051\" opacity=\"0.8\" /><polyline fill=\"none\" stroke=\"#66cc99\" stroke-width=\"6.814609126464955\" points=\"141.1145086332054,-404.72294356070313 233.2948755751089,-404.72294356070313\" opacity=\"0.8\" /><polyline fill=\"none\" stroke=\"#66cc99\" stroke-width=\"6.814609126464955\" points=\"381.0563779514961,-31.99567645549799 473.23674489339965,-31.99567645549799\" opacity=\"0.8\" /><polyline fill=\"none\" stroke=\"#66cc99\" stroke-width=\"6.814609126464955\" points=\"193.85168584733896,372.7272671052051 286.03205278924247,372.7272671052051\" opacity=\"0.8\" /><polyline fill=\"none\" stroke=\"#66cc99\" stroke-width=\"6.814609126464955\" points=\"-233.2948755751089,404.72294356070313 -141.1145086332054,404.72294356070313\" opacity=\"0.8\" /><polyline fill=\"none\" stroke=\"#66cc99\" stroke-width=\"6.814609126464955\" points=\"-473.23674489339965,31.99567645549799 -381.0563779514961,31.99567645549799\" opacity=\"0.8\" /></g></g></svg>"
      ],
      "text/plain": [
       "<shapely.geometry.multilinestring.MultiLineString at 0x10151acc0>"
      ]
     },
     "execution_count": 18,
     "metadata": {},
     "output_type": "execute_result"
    }
   ],
   "source": [
    "length=30 * 10 #c axis\n",
    "width=90 * 10 #a axis\n",
    "plates = width > length\n",
    "\n",
    "f = lambda x: -crys.IceCrystal(length=length, width=width, rotation=[0,x,0]).projectxy().area\n",
    "yrot = opt.minimize_scalar(f, bounds=(0, np.pi/2), method='Bounded').x\n",
    "f = lambda x: -crys.IceCrystal(length=length, width=width, rotation=[x,0,0]).projectxy().area\n",
    "xrot = opt.minimize_scalar(f, bounds=(0, np.pi/2), method='Bounded').x\n",
    "\n",
    "\n",
    "yrotrand = random.uniform(-yrot, yrot)\n",
    "zrot = random.uniform(0, 2 * np.pi)\n",
    "print(xrot, yrotrand, zrot)\n",
    "\n",
    "#rotation = [0, 0, 0]            \n",
    "rotation = [0, yrotrand, zrot]\n",
    "\n",
    "seedcrystal = crys.IceCrystal(length=length, width=width, rotation=rotation)\n",
    "\n",
    "xmaxseed = seedcrystal.max('x')\n",
    "xminseed = seedcrystal.min('x')\n",
    "ymaxseed = seedcrystal.max('y')\n",
    "yminseed = seedcrystal.min('y')\n",
    "zmaxseed = seedcrystal.max('z')\n",
    "zminseed = seedcrystal.min('z')\n",
    "\n",
    "#print(xmaxseed, xminseed)\n",
    "#print(ymaxseed, yminseed)\n",
    "#print(zmaxseed, zminseed)\n",
    "#print(seedcrystal.maxz)\n",
    "seedcrystal.plot()\n"
   ]
  },
  {
   "cell_type": "code",
   "execution_count": 31,
   "metadata": {
    "scrolled": true
   },
   "outputs": [
    {
     "name": "stdout",
     "output_type": "stream",
     "text": [
      "0.418224532392 0.474152046463 2.2242770400575735\n"
     ]
    },
    {
     "data": {
      "image/svg+xml": [
       "<svg xmlns=\"http://www.w3.org/2000/svg\" xmlns:xlink=\"http://www.w3.org/1999/xlink\" width=\"300\" height=\"300\" viewBox=\"-474.3038169175695 -487.23537371248966 948.607633835139 974.4707474249793\" preserveAspectRatio=\"xMinYMin meet\"><g transform=\"matrix(1,0,0,-1,0,0.0)\"><g><polyline fill=\"none\" stroke=\"#66cc99\" stroke-width=\"6.496471649499862\" points=\"16.634680403598168,342.7438091297506 -301.23704657106265,26.489877985156674 -249.38409638335145,-370.4539588540194 120.34058077902057,-451.1438645486015 438.2123077536814,-134.8899334040076 386.3593575659702,262.0539034351685 16.634680403598168,342.7438091297506\" opacity=\"0.8\" /><polyline fill=\"none\" stroke=\"#66cc99\" stroke-width=\"6.496471649499862\" points=\"-120.34058077902057,451.1438645486015 -438.2123077536814,134.8899334040076 -386.3593575659702,-262.0539034351685 -16.634680403598168,-342.7438091297506 301.23704657106265,-26.489877985156674 249.38409638335145,370.4539588540194 -120.34058077902057,451.1438645486015\" opacity=\"0.8\" /><polyline fill=\"none\" stroke=\"#66cc99\" stroke-width=\"6.496471649499862\" points=\"16.634680403598168,342.7438091297506 -120.34058077902057,451.1438645486015\" opacity=\"0.8\" /><polyline fill=\"none\" stroke=\"#66cc99\" stroke-width=\"6.496471649499862\" points=\"-301.23704657106265,26.489877985156674 -438.2123077536814,134.8899334040076\" opacity=\"0.8\" /><polyline fill=\"none\" stroke=\"#66cc99\" stroke-width=\"6.496471649499862\" points=\"-249.38409638335145,-370.4539588540194 -386.3593575659702,-262.0539034351685\" opacity=\"0.8\" /><polyline fill=\"none\" stroke=\"#66cc99\" stroke-width=\"6.496471649499862\" points=\"120.34058077902057,-451.1438645486015 -16.634680403598168,-342.7438091297506\" opacity=\"0.8\" /><polyline fill=\"none\" stroke=\"#66cc99\" stroke-width=\"6.496471649499862\" points=\"438.2123077536814,-134.8899334040076 301.23704657106265,-26.489877985156674\" opacity=\"0.8\" /><polyline fill=\"none\" stroke=\"#66cc99\" stroke-width=\"6.496471649499862\" points=\"386.3593575659702,262.0539034351685 249.38409638335145,370.4539588540194\" opacity=\"0.8\" /></g></g></svg>"
      ],
      "text/plain": [
       "<shapely.geometry.multilinestring.MultiLineString at 0x10dbaba58>"
      ]
     },
     "execution_count": 31,
     "metadata": {},
     "output_type": "execute_result"
    }
   ],
   "source": [
    "#Plate from top down after reoriention based on the max projected area\n",
    "length=30 * 10 #c axis\n",
    "width=90 * 10 #a axis\n",
    "plates = width > length\n",
    "\n",
    "f = lambda x: -crys.IceCrystal(length=length, width=width, rotation=[0,x,0]).projectxy().area\n",
    "yrot = opt.minimize_scalar(f, bounds=(0, np.pi/2), method='Bounded').x\n",
    "f = lambda x: -crys.IceCrystal(length=length, width=width, rotation=[x,0,0]).projectxy().area\n",
    "xrot = opt.minimize_scalar(f, bounds=(0, np.pi/2), method='Bounded').x\n",
    "\n",
    "zrot = random.uniform(0, 2 * np.pi)\n",
    "yrotrand = random.uniform(-yrot, yrot)\n",
    "print(xrot, yrotrand, zrot)\n",
    "\n",
    "rotation = [xrot, yrotrand, zrot]\n",
    "#rotation = [0,0,0]\n",
    "seedcrystal = crys.IceCrystal(length=length, width=width, rotation=rotation)\n",
    "cluster = crys.IceCluster(seedcrystal)\n",
    "seedcrystal.plot()"
   ]
  },
  {
   "cell_type": "code",
   "execution_count": 32,
   "metadata": {},
   "outputs": [
    {
     "name": "stdout",
     "output_type": "stream",
     "text": [
      "0.418224532392 0.474152046463 4.739159934068847\n"
     ]
    },
    {
     "data": {
      "image/svg+xml": [
       "<svg xmlns=\"http://www.w3.org/2000/svg\" xmlns:xlink=\"http://www.w3.org/1999/xlink\" width=\"300\" height=\"300\" viewBox=\"-779.26908146663 -429.92940512082976 1012.3925754084951 985.9374278135325\" preserveAspectRatio=\"xMinYMin meet\"><g transform=\"matrix(1,0,0,-1,0,126.078617571873)\"><g><polyline fill=\"none\" stroke=\"#66cc99\" stroke-width=\"6.749283836056634\" points=\"-395.410603606538,-392.433383809404 4.802032194974515,-298.0095555103806 195.62747263043934,103.26310937553447 -13.759722735608307,410.1119459624262 -413.97235853712084,315.6881176634028 -604.7977989725857,-85.58454722251227 -395.410603606538,-392.433383809404\" opacity=\"0.8\" /><polyline fill=\"none\" stroke=\"#66cc99\" stroke-width=\"6.749283836056634\" points=\"-532.3858647891567,-284.0333283905531 -132.17322898764417,-189.6095000915297 58.65221144782072,211.66316479438538 -150.734983918227,518.5120013812771 -550.9476197197396,424.0881730822537 -741.7730601552043,22.815508196338634 -532.3858647891567,-284.0333283905531\" opacity=\"0.8\" /><polyline fill=\"none\" stroke=\"#66cc99\" stroke-width=\"6.749283836056634\" points=\"-395.410603606538,-392.433383809404 -532.3858647891567,-284.0333283905531\" opacity=\"0.8\" /><polyline fill=\"none\" stroke=\"#66cc99\" stroke-width=\"6.749283836056634\" points=\"4.802032194974515,-298.0095555103806 -132.17322898764417,-189.6095000915297\" opacity=\"0.8\" /><polyline fill=\"none\" stroke=\"#66cc99\" stroke-width=\"6.749283836056634\" points=\"195.62747263043934,103.26310937553447 58.65221144782072,211.66316479438538\" opacity=\"0.8\" /><polyline fill=\"none\" stroke=\"#66cc99\" stroke-width=\"6.749283836056634\" points=\"-13.759722735608307,410.1119459624262 -150.734983918227,518.5120013812771\" opacity=\"0.8\" /><polyline fill=\"none\" stroke=\"#66cc99\" stroke-width=\"6.749283836056634\" points=\"-413.97235853712084,315.6881176634028 -550.9476197197396,424.0881730822537\" opacity=\"0.8\" /><polyline fill=\"none\" stroke=\"#66cc99\" stroke-width=\"6.749283836056634\" points=\"-604.7977989725857,-85.58454722251227 -741.7730601552043,22.815508196338634\" opacity=\"0.8\" /></g></g></svg>"
      ],
      "text/plain": [
       "<shapely.geometry.multilinestring.MultiLineString at 0x10df34470>"
      ]
     },
     "execution_count": 32,
     "metadata": {},
     "output_type": "execute_result"
    }
   ],
   "source": [
    "#Initialize a new crystal (plate), same dimensions, again after orientation with max area (top down view)\n",
    "\n",
    "f = lambda x: -crys.IceCrystal(length=length, width=width, rotation=[0,x,0]).projectxy().area\n",
    "yrot = opt.minimize_scalar(f, bounds=(0, np.pi/2), method='Bounded').x\n",
    "f = lambda x: -crys.IceCrystal(length=length, width=width, rotation=[x,0,0]).projectxy().area\n",
    "xrot = opt.minimize_scalar(f, bounds=(0, np.pi/2), method='Bounded').x\n",
    "\n",
    "yrotrand = random.uniform(-yrot, yrot)\n",
    "zrot = random.uniform(0, 2 * np.pi)\n",
    "print(xrot, yrot, zrot)\n",
    "            \n",
    "rotation = [xrot, yrot, zrot]\n",
    "new_crystal = crys.IceCrystal(length=length, width=width, rotation=rotation)\n",
    "\n",
    "xmax = cluster.max('x')\n",
    "xmin = cluster.min('x')\n",
    "ymax = cluster.max('y')\n",
    "ymin = cluster.min('y')\n",
    "random_loc = [random.uniform(xmin, xmax), random.uniform(ymin, ymax), 0]\n",
    "new_crystal.move(random_loc)\n",
    "\n",
    "new_crystal.plot()"
   ]
  },
  {
   "cell_type": "code",
   "execution_count": 33,
   "metadata": {},
   "outputs": [
    {
     "data": {
      "image/svg+xml": [
       "<svg xmlns=\"http://www.w3.org/2000/svg\" xmlns:xlink=\"http://www.w3.org/1999/xlink\" width=\"300\" height=\"300\" viewBox=\"-788.9724748715598 -498.34327926495695 1274.3841973415965 1064.0546953625894\" preserveAspectRatio=\"xMinYMin meet\"><g transform=\"matrix(1,0,0,-1,0,67.36813683267559)\"><g><polyline fill=\"none\" stroke=\"#66cc99\" stroke-width=\"8.495894648943978\" points=\"16.634680403598168,342.7438091297506 -301.23704657106265,26.489877985156674 -249.38409638335145,-370.4539588540194 120.34058077902057,-451.1438645486015 438.2123077536814,-134.8899334040076 386.3593575659702,262.0539034351685 16.634680403598168,342.7438091297506\" opacity=\"0.8\" /><polyline fill=\"none\" stroke=\"#66cc99\" stroke-width=\"8.495894648943978\" points=\"-120.34058077902057,451.1438645486015 -438.2123077536814,134.8899334040076 -386.3593575659702,-262.0539034351685 -16.634680403598168,-342.7438091297506 301.23704657106265,-26.489877985156674 249.38409638335145,370.4539588540194 -120.34058077902057,451.1438645486015\" opacity=\"0.8\" /><polyline fill=\"none\" stroke=\"#66cc99\" stroke-width=\"8.495894648943978\" points=\"16.634680403598168,342.7438091297506 -120.34058077902057,451.1438645486015\" opacity=\"0.8\" /><polyline fill=\"none\" stroke=\"#66cc99\" stroke-width=\"8.495894648943978\" points=\"-301.23704657106265,26.489877985156674 -438.2123077536814,134.8899334040076\" opacity=\"0.8\" /><polyline fill=\"none\" stroke=\"#66cc99\" stroke-width=\"8.495894648943978\" points=\"-249.38409638335145,-370.4539588540194 -386.3593575659702,-262.0539034351685\" opacity=\"0.8\" /><polyline fill=\"none\" stroke=\"#66cc99\" stroke-width=\"8.495894648943978\" points=\"120.34058077902057,-451.1438645486015 -16.634680403598168,-342.7438091297506\" opacity=\"0.8\" /><polyline fill=\"none\" stroke=\"#66cc99\" stroke-width=\"8.495894648943978\" points=\"438.2123077536814,-134.8899334040076 301.23704657106265,-26.489877985156674\" opacity=\"0.8\" /><polyline fill=\"none\" stroke=\"#66cc99\" stroke-width=\"8.495894648943978\" points=\"386.3593575659702,262.0539034351685 249.38409638335145,370.4539588540194\" opacity=\"0.8\" /><polyline fill=\"none\" stroke=\"#66cc99\" stroke-width=\"8.495894648943978\" points=\"-395.410603606538,-392.433383809404 4.802032194974515,-298.0095555103806 195.62747263043934,103.26310937553447 -13.759722735608307,410.1119459624262 -413.97235853712084,315.6881176634028 -604.7977989725857,-85.58454722251227 -395.410603606538,-392.433383809404\" opacity=\"0.8\" /><polyline fill=\"none\" stroke=\"#66cc99\" stroke-width=\"8.495894648943978\" points=\"-532.3858647891567,-284.0333283905531 -132.17322898764417,-189.6095000915297 58.65221144782072,211.66316479438538 -150.734983918227,518.5120013812771 -550.9476197197396,424.0881730822537 -741.7730601552043,22.815508196338634 -532.3858647891567,-284.0333283905531\" opacity=\"0.8\" /><polyline fill=\"none\" stroke=\"#66cc99\" stroke-width=\"8.495894648943978\" points=\"-395.410603606538,-392.433383809404 -532.3858647891567,-284.0333283905531\" opacity=\"0.8\" /><polyline fill=\"none\" stroke=\"#66cc99\" stroke-width=\"8.495894648943978\" points=\"4.802032194974515,-298.0095555103806 -132.17322898764417,-189.6095000915297\" opacity=\"0.8\" /><polyline fill=\"none\" stroke=\"#66cc99\" stroke-width=\"8.495894648943978\" points=\"195.62747263043934,103.26310937553447 58.65221144782072,211.66316479438538\" opacity=\"0.8\" /><polyline fill=\"none\" stroke=\"#66cc99\" stroke-width=\"8.495894648943978\" points=\"-13.759722735608307,410.1119459624262 -150.734983918227,518.5120013812771\" opacity=\"0.8\" /><polyline fill=\"none\" stroke=\"#66cc99\" stroke-width=\"8.495894648943978\" points=\"-413.97235853712084,315.6881176634028 -550.9476197197396,424.0881730822537\" opacity=\"0.8\" /><polyline fill=\"none\" stroke=\"#66cc99\" stroke-width=\"8.495894648943978\" points=\"-604.7977989725857,-85.58454722251227 -741.7730601552043,22.815508196338634\" opacity=\"0.8\" /></g></g></svg>"
      ],
      "text/plain": [
       "<shapely.geometry.multilinestring.MultiLineString at 0x10df34a20>"
      ]
     },
     "execution_count": 33,
     "metadata": {},
     "output_type": "execute_result"
    }
   ],
   "source": [
    "#create a cluster viewed from top down\n",
    "crystal_hit = cluster.add_crystal_from_above(new_crystal)   \n",
    "cluster.plot()"
   ]
  },
  {
   "cell_type": "code",
   "execution_count": 34,
   "metadata": {},
   "outputs": [
    {
     "data": {
      "image/svg+xml": [
       "<svg xmlns=\"http://www.w3.org/2000/svg\" xmlns:xlink=\"http://www.w3.org/1999/xlink\" width=\"300\" height=\"300\" viewBox=\"-502.8139129051822 -417.12117797239534 1072.99596264304 1395.091305627677\" preserveAspectRatio=\"xMinYMin meet\"><g transform=\"matrix(1,0,0,-1,0,560.8489496828863)\"><g><polyline fill=\"none\" stroke=\"#66cc99\" stroke-width=\"9.300608704184514\" points=\"342.7438091297507,327.4904101055469 26.489877985156784,365.4511296158147 -370.45395885401933,159.91071521459688 -451.1438645486015,-83.59041869688879 -134.8899334040077,-121.55113820715661 262.0539034351684,83.98927619406122 342.7438091297507,327.4904101055469\" opacity=\"0.8\" /><polyline fill=\"none\" stroke=\"#66cc99\" stroke-width=\"9.300608704184514\" points=\"451.1438645486015,83.59041869688879 134.8899334040077,121.55113820715661 -262.0539034351684,-83.98927619406122 -342.7438091297507,-327.4904101055469 -26.489877985156784,-365.4511296158147 370.45395885401933,-159.91071521459688 451.1438645486015,83.59041869688879\" opacity=\"0.8\" /><polyline fill=\"none\" stroke=\"#66cc99\" stroke-width=\"9.300608704184514\" points=\"342.7438091297507,327.4904101055469 451.1438645486015,83.59041869688879\" opacity=\"0.8\" /><polyline fill=\"none\" stroke=\"#66cc99\" stroke-width=\"9.300608704184514\" points=\"26.489877985156784,365.4511296158147 134.8899334040077,121.55113820715661\" opacity=\"0.8\" /><polyline fill=\"none\" stroke=\"#66cc99\" stroke-width=\"9.300608704184514\" points=\"-370.45395885401933,159.91071521459688 -262.0539034351684,-83.98927619406122\" opacity=\"0.8\" /><polyline fill=\"none\" stroke=\"#66cc99\" stroke-width=\"9.300608704184514\" points=\"-451.1438645486015,-83.59041869688879 -342.7438091297507,-327.4904101055469\" opacity=\"0.8\" /><polyline fill=\"none\" stroke=\"#66cc99\" stroke-width=\"9.300608704184514\" points=\"-134.8899334040077,-121.55113820715661 -26.489877985156784,-365.4511296158147\" opacity=\"0.8\" /><polyline fill=\"none\" stroke=\"#66cc99\" stroke-width=\"9.300608704184514\" points=\"262.0539034351684,83.98927619406122 370.45395885401933,-159.91071521459688\" opacity=\"0.8\" /><polyline fill=\"none\" stroke=\"#66cc99\" stroke-width=\"9.300608704184514\" points=\"-392.43338380940384,601.1548803401521 -298.00955551038055,418.3599493541905 103.26310937553453,489.5350833404843 410.1119459624263,743.5051483127394 315.68811766340303,926.300079298701 -85.58454722251203,855.1249453124071 -392.43338380940384,601.1548803401521\" opacity=\"0.8\" /><polyline fill=\"none\" stroke=\"#66cc99\" stroke-width=\"9.300608704184514\" points=\"-284.0333283905529,357.254888931494 -189.60950009152964,174.45995794553247 211.6631647943854,245.63509193182622 518.5120013812772,499.60515690408135 424.08817308225395,682.4000878900429 22.81550819633886,611.2249539037491 -284.0333283905529,357.254888931494\" opacity=\"0.8\" /><polyline fill=\"none\" stroke=\"#66cc99\" stroke-width=\"9.300608704184514\" points=\"-392.43338380940384,601.1548803401521 -284.0333283905529,357.254888931494\" opacity=\"0.8\" /><polyline fill=\"none\" stroke=\"#66cc99\" stroke-width=\"9.300608704184514\" points=\"-298.00955551038055,418.3599493541905 -189.60950009152964,174.45995794553247\" opacity=\"0.8\" /><polyline fill=\"none\" stroke=\"#66cc99\" stroke-width=\"9.300608704184514\" points=\"103.26310937553453,489.5350833404843 211.6631647943854,245.63509193182622\" opacity=\"0.8\" /><polyline fill=\"none\" stroke=\"#66cc99\" stroke-width=\"9.300608704184514\" points=\"410.1119459624263,743.5051483127394 518.5120013812772,499.60515690408135\" opacity=\"0.8\" /><polyline fill=\"none\" stroke=\"#66cc99\" stroke-width=\"9.300608704184514\" points=\"315.68811766340303,926.300079298701 424.08817308225395,682.4000878900429\" opacity=\"0.8\" /><polyline fill=\"none\" stroke=\"#66cc99\" stroke-width=\"9.300608704184514\" points=\"-85.58454722251203,855.1249453124071 22.81550819633886,611.2249539037491\" opacity=\"0.8\" /></g></g></svg>"
      ],
      "text/plain": [
       "<shapely.geometry.multilinestring.MultiLineString at 0x10df34128>"
      ]
     },
     "execution_count": 34,
     "metadata": {},
     "output_type": "execute_result"
    }
   ],
   "source": [
    "#View the cluster from the side\n",
    "\n",
    "#if plates:\n",
    "#    cluster.reorient()\n",
    "cluster.rotate_to([np.pi/2,np.pi,np.pi/2])\n",
    "cluster.plot()"
   ]
  },
  {
   "cell_type": "markdown",
   "metadata": {
    "collapsed": true
   },
   "source": [
    "if plates:\n",
    "    cluster.rotate_to([np.pi/2,np.pi,np.pi/2])  #view side -- z axis up down y axis left right\n",
    "else:\n",
    "    #no rotation = x,z\n",
    "    cluster.rotate_to([np.pi/2,0,0]) #y left right,z up down\n",
    "    #cluster.rotate_to([np.pi/2,np.pi/2,np.pi/2])  #z,y\n",
    "\n",
    "cluster.rotate_to([np.pi/2,np.pi,np.pi/2])  #view side "
   ]
  },
  {
   "cell_type": "markdown",
   "metadata": {},
   "source": [
    "# Contact Angle - work in progress from before"
   ]
  },
  {
   "cell_type": "code",
   "execution_count": 171,
   "metadata": {
    "scrolled": false
   },
   "outputs": [
    {
     "name": "stdout",
     "output_type": "stream",
     "text": [
      "xrot,yrot 1.04719766306 1.26510643646\n",
      "zrotseed 161.9486572068074\n",
      "zrotnew 123.35958543154169\n"
     ]
    },
    {
     "data": {
      "image/svg+xml": [
       "<svg xmlns=\"http://www.w3.org/2000/svg\" xmlns:xlink=\"http://www.w3.org/1999/xlink\" width=\"300\" height=\"300\" viewBox=\"-814.6789243867388 -471.40667943416184 1482.0246662869051 1018.3023044862211\" preserveAspectRatio=\"xMinYMin meet\"><g transform=\"matrix(1,0,0,-1,0,75.48894561789751)\"><g><polyline fill=\"none\" stroke=\"#66cc99\" stroke-width=\"9.8801644419127\" points=\"20.693755456170962,112.36770734811972 -457.0728046602954,260.8581875116391 -695.9560847185286,204.13617712248646 -457.07280466029533,-1.0763134301854669 20.693755456171058,-149.5667935937048 259.5770355144042,-92.84478320455223 20.693755456170962,112.36770734811972\" opacity=\"0.8\" /><polyline fill=\"none\" stroke=\"#66cc99\" stroke-width=\"9.8801644419127\" points=\"-43.13928175696867,-74.41263218771202 -520.9058418734351,74.07784797580732 -759.7891219316682,17.355837586654722 -520.905841873435,-187.8566529660172 -43.13928175696857,-336.3471331295366 195.74399830126453,-279.625122740384 -43.13928175696867,-74.41263218771202\" opacity=\"0.8\" /><polyline fill=\"none\" stroke=\"#66cc99\" stroke-width=\"9.8801644419127\" points=\"20.693755456170962,112.36770734811972 -43.13928175696867,-74.41263218771202\" opacity=\"0.8\" /><polyline fill=\"none\" stroke=\"#66cc99\" stroke-width=\"9.8801644419127\" points=\"-457.0728046602954,260.8581875116391 -520.9058418734351,74.07784797580732\" opacity=\"0.8\" /><polyline fill=\"none\" stroke=\"#66cc99\" stroke-width=\"9.8801644419127\" points=\"-695.9560847185286,204.13617712248646 -759.7891219316682,17.355837586654722\" opacity=\"0.8\" /><polyline fill=\"none\" stroke=\"#66cc99\" stroke-width=\"9.8801644419127\" points=\"-457.07280466029533,-1.0763134301854669 -520.905841873435,-187.8566529660172\" opacity=\"0.8\" /><polyline fill=\"none\" stroke=\"#66cc99\" stroke-width=\"9.8801644419127\" points=\"20.693755456171058,-149.5667935937048 -43.13928175696857,-336.3471331295366\" opacity=\"0.8\" /><polyline fill=\"none\" stroke=\"#66cc99\" stroke-width=\"9.8801644419127\" points=\"259.5770355144042,-92.84478320455223 195.74399830126453,-279.625122740384\" opacity=\"0.8\" /><polyline fill=\"none\" stroke=\"#66cc99\" stroke-width=\"9.8801644419127\" points=\"474.29564257934607,22.60061729204058 197.9750488478469,422.8489211426142 59.81475198209732,492.00582259698876 197.975048847847,160.91442020078975 474.2956425793461,-239.33388364978387 612.4559394450957,-308.4907851041584 474.29564257934607,22.60061729204058\" opacity=\"0.8\" /><polyline fill=\"none\" stroke=\"#66cc99\" stroke-width=\"9.8801644419127\" points=\"302.23703756941705,-85.42547458289229 25.916443837917864,314.82282926768136 -112.24385302783172,383.9797307220559 25.916443837917956,52.88832832585686 302.2370375694171,-347.35997552471673 440.3973344351668,-416.5168769790913 302.23703756941705,-85.42547458289229\" opacity=\"0.8\" /><polyline fill=\"none\" stroke=\"#66cc99\" stroke-width=\"9.8801644419127\" points=\"474.29564257934607,22.60061729204058 302.23703756941705,-85.42547458289229\" opacity=\"0.8\" /><polyline fill=\"none\" stroke=\"#66cc99\" stroke-width=\"9.8801644419127\" points=\"197.9750488478469,422.8489211426142 25.916443837917864,314.82282926768136\" opacity=\"0.8\" /><polyline fill=\"none\" stroke=\"#66cc99\" stroke-width=\"9.8801644419127\" points=\"59.81475198209732,492.00582259698876 -112.24385302783172,383.9797307220559\" opacity=\"0.8\" /><polyline fill=\"none\" stroke=\"#66cc99\" stroke-width=\"9.8801644419127\" points=\"197.975048847847,160.91442020078975 25.916443837917956,52.88832832585686\" opacity=\"0.8\" /><polyline fill=\"none\" stroke=\"#66cc99\" stroke-width=\"9.8801644419127\" points=\"474.2956425793461,-239.33388364978387 302.2370375694171,-347.35997552471673\" opacity=\"0.8\" /><polyline fill=\"none\" stroke=\"#66cc99\" stroke-width=\"9.8801644419127\" points=\"612.4559394450957,-308.4907851041584 440.3973344351668,-416.5168769790913\" opacity=\"0.8\" /></g></g></svg>"
      ],
      "text/plain": [
       "<shapely.geometry.multilinestring.MultiLineString at 0x1183f5748>"
      ]
     },
     "execution_count": 171,
     "metadata": {},
     "output_type": "execute_result"
    }
   ],
   "source": [
    "import scipy.optimize as opt\n",
    "import random\n",
    "import numpy as np\n",
    "import ipas.lab_opt_rot as lab\n",
    "import ipas.crystals_opt_rot as crys\n",
    "\n",
    "\n",
    "#length=13.6790022746 * 10\n",
    "#width=8.55013140036 * 10\n",
    "\n",
    "length=20.6 * 10\n",
    "width=100.5 * 10\n",
    "\n",
    "rotations= 100\n",
    "plates = width > length\n",
    "\n",
    "f = lambda x: -crys.IceCrystal(length=length, width=width, rotation=[0,x,0]).projectxy().area\n",
    "yrot = opt.minimize_scalar(f, bounds=(0, np.pi/2), method='Bounded').x\n",
    "f = lambda x: -crys.IceCrystal(length=length, width=width, rotation=[x,0,0]).projectxy().area\n",
    "xrot = opt.minimize_scalar(f, bounds=(0, np.pi/2), method='Bounded').x\n",
    "\n",
    "print('xrot,yrot',xrot,yrot)\n",
    "rotation = [0, yrot, random.uniform(0, 2 * np.pi)]\n",
    "dimarr = ['y','z']\n",
    "dim = 'y'\n",
    "dim_up = 'z'\n",
    "dimind = 0\n",
    "dimindup = 1\n",
    "\n",
    "if plates:\n",
    "    hypot = width\n",
    "else:\n",
    "    hypot = length\n",
    "    \n",
    "#print('yrot',yrot)\n",
    "#rotation = [0,np.pi/2,np.pi/2-1.0]\n",
    "zrotseed = rotation[2]*180/np.pi\n",
    "print('zrotseed',zrotseed)\n",
    "\n",
    "seedcrystal = crys.IceCrystal(length=length, width=width, rotation=rotation)\n",
    "cluster = crys.IceCluster(seedcrystal)\n",
    "\n",
    "xmax = cluster.max('x')\n",
    "ymax = cluster.max('y')\n",
    "zmax = cluster.max('z')\n",
    "xmin = cluster.min('x')\n",
    "ymin = cluster.min('y')\n",
    "zmin = cluster.min('z') \n",
    "\n",
    "ncrystals = 2\n",
    "while cluster.ncrystals < ncrystals:\n",
    "    \n",
    "    rotation = [0, yrot, random.uniform(0, 2 * np.pi)]\n",
    "    #rotation = [0,np.pi/2,np.pi/2+.9]\n",
    "    zrotnew = rotation[2]*180/np.pi\n",
    "    print('zrotnew',zrotnew)\n",
    "    new_crystal = crys.IceCrystal(length=length, width=width, rotation=rotation)\n",
    "    random_loc = [random.uniform(xmin, xmax), random.uniform(ymin, ymax), 0]\n",
    "    new_crystal.move(random_loc)\n",
    "\n",
    "    crystal_hit = cluster.add_crystal_from_above(new_crystal)   \n",
    "\n",
    "    if crystal_hit:\n",
    "        cluster.recenter()\n",
    "\n",
    "        height_seed = seedcrystal.maxz - seedcrystal.minz   \n",
    "        height_new = new_crystal.maxz - new_crystal.minz\n",
    "        checkposseed = False\n",
    "        checkposnew = False\n",
    "        checknegseed = False\n",
    "        checknegnew = False\n",
    "\n",
    "        xmaxseed = seedcrystal.max(dim)\n",
    "        xminseed = seedcrystal.min(dim)\n",
    "        pointszseed = seedcrystal.points[dim_up]\n",
    "        pointsxseed = seedcrystal.points[dim]\n",
    "        maxzindseed = np.where(pointszseed == seedcrystal.max(dim_up))\n",
    "        minzindseed = np.where(pointszseed == seedcrystal.min(dim_up))\n",
    "        xatmaxzseed = max(seedcrystal.points[dim][maxzindseed])\n",
    "        xatminzseed = min(seedcrystal.points[dim][minzindseed])\n",
    "        maxxindseed = np.where(pointsxseed == xmaxseed)\n",
    "        minxindseed = np.where(pointsxseed == xminseed)\n",
    "        zatmaxxseed = max(pointszseed[maxxindseed])\n",
    "        zatminxseed = min(pointszseed[minxindseed])\n",
    "\n",
    "        #print('-----------------new crys-------------------')\n",
    "        xmaxnew = new_crystal.max(dim)\n",
    "        xminnew = new_crystal.min(dim)\n",
    "        pointsznew = new_crystal.points[dim_up]\n",
    "        pointsxnew = new_crystal.points[dim]\n",
    "        maxzindnew = np.where(pointsznew == new_crystal.max(dim_up))\n",
    "        minzindnew = np.where(pointsznew == new_crystal.min(dim_up))\n",
    "        xatmaxznew = max(new_crystal.points[dim][maxzindnew])\n",
    "        xatminznew = min(new_crystal.points[dim][minzindnew])\n",
    "        maxxindnew = np.where(pointsxnew == xmaxnew) \n",
    "        minxindnew = np.where(pointsxnew == xminnew) \n",
    "        zatmaxxnew = max(pointsznew[maxxindnew])\n",
    "        zatminxnew = min(pointsznew[minxindnew])\n",
    "\n",
    "\n",
    "        crystals = [seedcrystal, new_crystal]\n",
    "        slope=[]\n",
    "        hexmax = []\n",
    "        hexmin = []\n",
    "\n",
    "        #fig = pl.figure(1, figsize=(5,5))\n",
    "        #ax = fig.add_subplot(111)\n",
    "\n",
    "        for i in crystals:\n",
    "            # make a line connecting the two hexagons at the max x value  \n",
    "            #this is to determine the slope of each crystal\n",
    "            hex1pts = i.points[dimarr][0:6]  \n",
    "            hex2pts = i.points[dimarr][6:12]  \n",
    "\n",
    "            poly1 = geom.Polygon([[p[0], p[1]] for p in hex1pts])       \n",
    "            poly2 = geom.Polygon([[p[0], p[1]] for p in hex2pts])\n",
    "\n",
    "            #add patches here\n",
    "\n",
    "            hex1max = max(hex1pts[dimarr],key=itemgetter(dimindup))\n",
    "            hex1min = min(hex1pts[dimarr],key=itemgetter(dimindup))\n",
    "            #print('hex1min',hex1min)\n",
    "            #print('hex2pts',hex2pts)\n",
    "            hex2max = max(hex2pts[dimarr],key=itemgetter(dimindup))\n",
    "            hex2min = min(hex2pts[dimarr],key=itemgetter(dimindup))\n",
    "            #print('hex2min',hex2min)\n",
    "\n",
    "            #Plates: when the lines connecting the hexagons slope positive the crystal slopes negative\n",
    "            #Columns: when the lines connecting the hexagons slope positive the crystal also slopes positive \n",
    "            if (hex2max[dimarr[dimindup]]-hex1max[dimarr[dimindup]])/(hex2max[dimarr[dimind]]-hex1max[dimarr[dimind]])>=0:\n",
    "                if plates:\n",
    "                    slope.append('negative')\n",
    "                else:\n",
    "                    slope.append('positive')\n",
    "            else:\n",
    "                if plates:\n",
    "                    slope.append('positive')\n",
    "                else:\n",
    "                    slope.append('negative')\n",
    "\n",
    "            #hexmaxval = min(hex2max[dimarr[dimind]],hex1max[dimarr[dimind]])\n",
    "            hexminval = max(hex1min,hex2min,key=itemgetter(dimindup))\n",
    "            #hexminval = max(hex2min[dimarr[dimind]],hex1min[dimarr[dimind]])\n",
    "            hexmaxval = min(hex1max,hex2max,key=itemgetter(dimindup))\n",
    "\n",
    "            hexmax.append(hexmaxval[dimarr[dimind]])\n",
    "            hexmin.append(hexminval[dimarr[dimind]])\n",
    "        #----------------------------------------------------------------\n",
    "        #Determine what slope each crystal has and calculate the seed_ang/\n",
    "        #new_ang for each crystal\n",
    "        if slope[0] == 'negative': #neg slope\n",
    "            checknegseed = True\n",
    "            #print('checknegseed')\n",
    "            if plates:\n",
    "                baseseed = hexmax[0] - xminseed\n",
    "            else:\n",
    "                baseseed = xatminzseed - hexmin[0]\n",
    "            #print('baseseed neg', baseseed)\n",
    "            #print('xatminzseed, hexmin[0]', xatminzseed,hexmin[0])\n",
    "            #print('hexmin[0], hexmax[0]',hexmin[0], hexmax[0])\n",
    "            seed_ang = np.arccos(baseseed/hypot)*(180./np.pi)          \n",
    "\n",
    "        else:\n",
    "            checkposseed = True \n",
    "            #print('checkposseed')\n",
    "            if plates:\n",
    "                baseseed = xmaxseed - hexmin[0]\n",
    "            else:\n",
    "                baseseed = hexmin[0] - xatminzseed   \n",
    "            #print('baseseed pos',baseseed)\n",
    "            #print('hexmax, xatminzseed',hexmax[0], xatminzseed)\n",
    "            seed_ang = np.arccos(baseseed/hypot)*(180./np.pi) \n",
    "\n",
    "\n",
    "        if slope[1]=='negative':\n",
    "            checknegnew = True\n",
    "            #print('checknegnew')\n",
    "            if plates:\n",
    "                basenew = hexmax[1] - xminnew\n",
    "            else:\n",
    "                basenew = xatminznew - hexmin[1]\n",
    "            #print('base',basenew, hypot)\n",
    "            #print('hexmin, xatminznew',hexmin[1], xatminznew)\n",
    "            new_ang = np.arccos(basenew/hypot)*(180./np.pi) \n",
    "\n",
    "        else: #pos slope\n",
    "\n",
    "            checkposnew = True\n",
    "            #print('checkposnew')\n",
    "\n",
    "            if plates:\n",
    "                basenew = xmaxnew - hexmin[1]\n",
    "            else:\n",
    "                basenew = hexmin[1] - xatminznew\n",
    "            #print('base, hypot',basenew, hypot)\n",
    "            #print('hexmin, xatminznew',hexmin[1], xatminznew)    \n",
    "            new_ang = np.arccos(basenew/hypot)*(180./np.pi) \n",
    "\n",
    "        ##################################################################################    \n",
    "\n",
    "        #Check if overlap is minimal and don't subtract from 180\n",
    "\n",
    "        #horizontal overlap\n",
    "        in_out = ['y','x','z','x']\n",
    "        percent = []\n",
    "        for i in range(2):\n",
    "            xmax = cluster.max(in_out[i])\n",
    "            xmin = cluster.min(in_out[i])\n",
    "            xmaxseed = seedcrystal.max(in_out[i])\n",
    "            xminseed = seedcrystal.min(in_out[i])\n",
    "            xmaxnew = new_crystal.max(in_out[i])\n",
    "            xminnew = new_crystal.min(in_out[i])\n",
    "            widclus = xmax-xmin\n",
    "            widseed = xmaxseed - xminseed\n",
    "            widnew = xmaxnew - xminnew\n",
    "            #print(widclus, xmax, xmin)\n",
    "\n",
    "\n",
    "            Sx = widclus - (widclus - widseed) - (widclus - widnew)\n",
    "            if plates:\n",
    "                percentage = (Sx / widclus)*100   \n",
    "            else:\n",
    "                percentage = (Sx / widclus)*100\n",
    "            percent.append(percentage)\n",
    "\n",
    "        #print('X overlap', percent[1])\n",
    "        #print('Y overlap', percent[0])\n",
    "\n",
    "        zmax = cluster.max(dim_up)\n",
    "        zmin = cluster.min(dim_up)\n",
    "        plates = width > length\n",
    "        height_seed = seedcrystal.max(dim_up) - seedcrystal.min(dim_up)   \n",
    "        height_new = new_crystal.max(dim_up) - new_crystal.min(dim_up)              \n",
    "        heightclus = zmax-zmin #0 index is x\n",
    "        Sz = heightclus - (heightclus - height_seed) - (heightclus - height_new)    \n",
    "        if plates:\n",
    "            percentage = (Sz / heightclus)*100   \n",
    "        else:\n",
    "            percentage = (Sz / heightclus)*100\n",
    "        percent.append(percentage)\n",
    "        #print('vert_overlap', percent[2])\n",
    "\n",
    "\n",
    "        cont_ang = new_ang + seed_ang\n",
    "        cont_ang1 = new_ang + seed_ang\n",
    "        #print('cont_ang b4 if1', cont_ang)\n",
    "        if ((checkposseed == True and checkposnew == True) or (checknegseed == True and checknegnew == True)):  \n",
    "            #print('in if1 -- crystals slope in same direction')\n",
    "            seed1_ang = 90. - seed_ang\n",
    "            cont_ang = 90. - new_ang - seed1_ang\n",
    "            if1flag = True\n",
    "\n",
    "        cont_ang = abs(cont_ang)\n",
    "        #print('cont_ang b4 if2', cont_ang)\n",
    "        if cont_ang1 > 90 and percent[1] > 20.0 and cont_ang < 90:\n",
    "            #print('in if2')\n",
    "            cont_ang = 180 - cont_ang\n",
    "\n",
    "        #---------umcomment this for different cluster views------\n",
    "        if plates:\n",
    "            cluster.rotate_to([np.pi/2,np.pi,np.pi/2])  #view side -- z axis up down y axis left right\n",
    "        else:\n",
    "            #no rotation = x,z\n",
    "            cluster.rotate_to([np.pi/2,0,0]) #y left right,z up down\n",
    "            #cluster.rotate_to([np.pi/2,np.pi/2,np.pi/2])  #z,y\n",
    "\n",
    "        #print('seed, new final',seed_ang,new_ang)\n",
    "        #print('contact angle',cont_ang)\n",
    "        cluster.rotate_to([np.pi/2,np.pi,np.pi/2])  #view side \n",
    "cluster.plot()"
   ]
  },
  {
   "cell_type": "markdown",
   "metadata": {},
   "source": [
    "### OVERLAP"
   ]
  },
  {
   "cell_type": "code",
   "execution_count": 539,
   "metadata": {},
   "outputs": [
    {
     "name": "stdout",
     "output_type": "stream",
     "text": [
      "39.26971015200612\n"
     ]
    },
    {
     "data": {
      "image/png": "[encoded data removed]",
      "text/plain": [
       "<matplotlib.figure.Figure at 0x11266b828>"
      ]
     },
     "metadata": {},
     "output_type": "display_data"
    }
   ],
   "source": [
    "crystals = [seedcrystal, new_crystal]\n",
    "dims = ['x','y']\n",
    "\n",
    "fig = plt.figure(1, figsize=(5,5))\n",
    "ax = fig.add_subplot(111)\n",
    "area = []\n",
    "for i in crystals:    \n",
    " \n",
    "    newpoly = i.projectxy()\n",
    "    area.append(newpoly.area)\n",
    "    \n",
    "    if i == seedcrystal:\n",
    "        color='#29568F'\n",
    "        zorder = 1\n",
    "        linecolor = '#29568F'\n",
    "\n",
    "    else:\n",
    "        zorder = 2\n",
    "        color='#e65c00'\n",
    "        linecolor = '#e65c00'\n",
    "\n",
    "\n",
    "    cryspatch = PolygonPatch(newpoly, fill=True, ec='k', fc=color, zorder=zorder)     \n",
    "    ax.add_patch(cryspatch)\n",
    "    \n",
    "rel_area = seedcrystal.projectxy().intersection(new_crystal.projectxy())\n",
    "ovrlpptch = PolygonPatch(rel_area, fill=True, ec='k', fc='k', zorder=zorder) \n",
    "ax.add_patch(ovrlpptch)\n",
    "seedpoly = seedcrystal.projectxy()\n",
    "newpoly = new_crystal.projectxy()   \n",
    "pctovrlp = (2*rel_area.area/(seedpoly.area+newpoly.area))*100\n",
    "print(pctovrlp)\n",
    "\n",
    "\n",
    "ax.set_xlabel(dims[0])\n",
    "ax.set_ylabel(dims[1])\n",
    "ax.axis('scaled')\n",
    "\n",
    "plt.show()"
   ]
  },
  {
   "cell_type": "markdown",
   "metadata": {},
   "source": [
    "#### Plot specific aggregates out of numclusters"
   ]
  },
  {
   "cell_type": "code",
   "execution_count": 30,
   "metadata": {},
   "outputs": [
    {
     "ename": "AttributeError",
     "evalue": "'Make_Plots' object has no attribute 'clusters'",
     "output_type": "error",
     "traceback": [
      "\u001b[0;31m---------------------------------------------------------------------------\u001b[0m",
      "\u001b[0;31mAttributeError\u001b[0m                            Traceback (most recent call last)",
      "\u001b[0;32m<ipython-input-30-f9bf026c0643>\u001b[0m in \u001b[0;36m<module>\u001b[0;34m()\u001b[0m\n\u001b[1;32m      2\u001b[0m \u001b[0;31m#seedcrystal = ipas.IceCrystal(length=100, width=6, rotation=(0,np.pi/2-.1,0))\u001b[0m\u001b[0;34m\u001b[0m\u001b[0;34m\u001b[0m\u001b[0m\n\u001b[1;32m      3\u001b[0m \u001b[0;31m#cluster = ipas.IceCluster([seedcrystal])\u001b[0m\u001b[0;34m\u001b[0m\u001b[0;34m\u001b[0m\u001b[0m\n\u001b[0;32m----> 4\u001b[0;31m \u001b[0minstance\u001b[0m \u001b[0;34m=\u001b[0m \u001b[0mp300\u001b[0m\u001b[0;34m.\u001b[0m\u001b[0mclusters\u001b[0m\u001b[0;34m[\u001b[0m\u001b[0;36m0\u001b[0m\u001b[0;34m]\u001b[0m\u001b[0;34m\u001b[0m\u001b[0m\n\u001b[0m\u001b[1;32m      5\u001b[0m \u001b[0minstance\u001b[0m\u001b[0;34m.\u001b[0m\u001b[0mrotate_to\u001b[0m\u001b[0;34m(\u001b[0m\u001b[0;34m[\u001b[0m\u001b[0mnp\u001b[0m\u001b[0;34m.\u001b[0m\u001b[0mpi\u001b[0m\u001b[0;34m/\u001b[0m\u001b[0;36m2\u001b[0m\u001b[0;34m,\u001b[0m\u001b[0;36m0\u001b[0m\u001b[0;34m,\u001b[0m\u001b[0mnp\u001b[0m\u001b[0;34m.\u001b[0m\u001b[0mpi\u001b[0m\u001b[0;34m/\u001b[0m\u001b[0;36m2\u001b[0m\u001b[0;34m]\u001b[0m\u001b[0;34m)\u001b[0m\u001b[0;34m\u001b[0m\u001b[0m\n\u001b[1;32m      6\u001b[0m \u001b[0minstance\u001b[0m\u001b[0;34m.\u001b[0m\u001b[0mplot\u001b[0m\u001b[0;34m(\u001b[0m\u001b[0;34m)\u001b[0m\u001b[0;34m\u001b[0m\u001b[0m\n",
      "\u001b[0;31mAttributeError\u001b[0m: 'Make_Plots' object has no attribute 'clusters'"
     ]
    }
   ],
   "source": [
    "import ipas.crystals as ipas\n",
    "#seedcrystal = ipas.IceCrystal(length=100, width=6, rotation=(0,np.pi/2-.1,0))\n",
    "#cluster = ipas.IceCluster([seedcrystal])\n",
    "instance = p300.clusters[0]\n",
    "instance.rotate_to([np.pi/2,0,np.pi/2])\n",
    "instance.plot()"
   ]
  },
  {
   "cell_type": "code",
   "execution_count": 40,
   "metadata": {
    "collapsed": true
   },
   "outputs": [],
   "source": [
    "import matplotlib.pyplot as plt\n",
    "plt.close(\"all\")"
   ]
  },
  {
   "cell_type": "code",
   "execution_count": 69,
   "metadata": {},
   "outputs": [
    {
     "name": "stdout",
     "output_type": "stream",
     "text": [
      "[   0.01          0.01373824    0.01887392    0.02592944    0.03562248\n",
      "    0.04893901    0.06723358    0.09236709    0.1268961     0.17433288\n",
      "    0.23950266    0.32903446    0.45203537    0.62101694    0.85316785\n",
      "    1.1721023     1.61026203    2.21221629    3.03919538    4.17531894\n",
      "    5.73615251    7.88046282   10.82636734   14.87352107   20.43359718\n",
      "   28.07216204   38.56620421   52.98316906   72.78953844  100.        ]\n"
     ]
    }
   ],
   "source": [
    "phio=np.logspace(-2, 2, num=30, endpoint=True, base=10.0, dtype=None)\n",
    "np.set_printoptions(suppress=True)\n",
    "print(phio)\n"
   ]
  },
  {
   "cell_type": "code",
   "execution_count": 88,
   "metadata": {},
   "outputs": [
    {
     "name": "stdout",
     "output_type": "stream",
     "text": [
      "[0.01, 0.016237767391887217, 0.026366508987303583, 0.042813323987193938, 0.069519279617756058, 0.11288378916846889, 0.18329807108324356, 0.29763514416313175, 0.32000000000000001, 0.42999999999999999, 0.48329302385717521, 0.54000000000000004, 0.62, 0.72999999999999998, 0.78475997035146106, 0.83999999999999997, 0.94999999999999996, 1.2742749857031335, 2.0691380811147901, 2.2000000000000002, 3.2999999999999998, 3.3598182862837809, 4.4000000000000004, 5.4555947811685144, 8.8586679041008232, 14.384498882876629, 23.357214690901213, 37.92690190732246, 61.584821106602604, 100.0]\n"
     ]
    }
   ],
   "source": [
    "phio=np.logspace(-2, 2., num=20, endpoint=True, base=10.0, dtype=None)#just columns (0,2); plates (-2,2)\n",
    "np.set_printoptions(suppress=True)\n",
    "add = [.32, .43, .54, .62, .73, .84, .95, 2.2, 3.3, 4.4]\n",
    "phio = np.append(phio, add, axis=0) \n",
    "print(sorted(phio))\n"
   ]
  },
  {
   "cell_type": "code",
   "execution_count": 178,
   "metadata": {},
   "outputs": [
    {
     "name": "stdout",
     "output_type": "stream",
     "text": [
      "[ 0.50003453  0.58329585  0.68042111  0.7937188   0.92588182  1.08005145\n",
      "  1.25989204  1.4696781   1.71439587  1.99986187]\n"
     ]
    }
   ],
   "source": [
    "phioadd=np.logspace(-.301, .301, num=10, endpoint=True, base=10.0, dtype=None)\n",
    "print(phioadd)"
   ]
  },
  {
   "cell_type": "code",
   "execution_count": null,
   "metadata": {
    "collapsed": true
   },
   "outputs": [],
   "source": []
  }
 ],
 "metadata": {
  "anaconda-cloud": {},
  "kernelspec": {
   "display_name": "Python 3",
   "language": "python",
   "name": "python3"
  },
  "language_info": {
   "codemirror_mode": {
    "name": "ipython",
    "version": 3
   },
   "file_extension": ".py",
   "mimetype": "text/x-python",
   "name": "python",
   "nbconvert_exporter": "python",
   "pygments_lexer": "ipython3",
   "version": "3.6.5"
  }
 },
 "nbformat": 4,
 "nbformat_minor": 1
}
