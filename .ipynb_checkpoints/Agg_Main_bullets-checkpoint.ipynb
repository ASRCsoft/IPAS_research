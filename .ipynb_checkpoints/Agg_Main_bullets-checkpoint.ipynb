{
 "cells": [
  {
   "cell_type": "markdown",
   "metadata": {},
   "source": [
    "# Main Aggregation Script - calls lab.py and crystals.py"
   ]
  },
  {
   "cell_type": "code",
   "execution_count": 12,
   "metadata": {},
   "outputs": [],
   "source": [
    "#Reloads the lab.py and crystals.py modules to update any changes (after saving)\n",
    "#If a new method or object is created, autoreload doesn't work and the \n",
    "#kernel needs to be closed and halted after saving and making a 'checkpoint'\n",
    "#in this notebook\n",
    "\n",
    "%load_ext autoreload\n",
    "%autoreload 2"
   ]
  },
  {
   "cell_type": "code",
   "execution_count": 2,
   "metadata": {},
   "outputs": [
    {
     "name": "stdout",
     "output_type": "stream",
     "text": [
      "Available kernels:\r\n",
      "  ipas_env    /Users/vprzybylo/Library/Jupyter/kernels/ipas_env\r\n",
      "  python3     /Users/vprzybylo/anaconda3/bin/IPAS_env/share/jupyter/kernels/python3\r\n"
     ]
    }
   ],
   "source": [
    "!jupyter kernelspec list  #list available kernels\n",
    "#Bad magic number error fix:\n",
    "#find . -name '*.pyc' -delete"
   ]
  },
  {
   "cell_type": "code",
   "execution_count": 13,
   "metadata": {},
   "outputs": [],
   "source": [
    "#show plots in the notebook, formatting of the plots changes\n",
    "%matplotlib inline\n",
    "from ipas import lab_copy_bullet as lab\n",
    "from ipas import crystals_bullet_rosette as crys\n",
    "from ipas import plots_bullets as plts\n",
    "import numpy as np\n",
    "import time  #for efficiency tests\n",
    "import itertools   #to create width array and join plate/col aspect ratios\n",
    "from operator import itemgetter\n",
    "import shapely.geometry as geom\n",
    "import matplotlib.pyplot as plt\n",
    "import scipy.optimize as opt\n",
    "import random\n"
   ]
  },
  {
   "cell_type": "markdown",
   "metadata": {},
   "source": [
    "#### Loops over aspect ratios, creates histograms of each aspect ratio"
   ]
  },
  {
   "cell_type": "markdown",
   "metadata": {},
   "source": [
    "##### 'PATH' VARIABLE NEEDS TO BE CHANGED IN lap_copy.py BEFORE RUNNING -- ALL FOLDERS/FILES WILL BE CREATED IF THEY DO NOT EXIST \n"
   ]
  },
  {
   "cell_type": "code",
   "execution_count": 5,
   "metadata": {
    "scrolled": true
   },
   "outputs": [
    {
     "name": "stdout",
     "output_type": "stream",
     "text": [
      "eq. vol rad 10.0 21.5443469003 6.81292069058 3.16227766017\n",
      "--- 2.25 minute(s) ---\n",
      "eq. vol rad 10.0 22.580912953 6.65471179633 3.3932217719\n",
      "--- 2.25 minute(s) ---\n",
      "eq. vol rad 10.0 23.6673514473 6.50017681161 3.64103194931\n",
      "--- 2.30 minute(s) ---\n",
      "eq. vol rad 10.0 24.8060619025 6.3492304213 3.90693993705\n",
      "--- 2.25 minute(s) ---\n",
      "eq. vol rad 10.0 25.9995592867 6.20178929144 4.19226743524\n",
      "--- 2.36 minute(s) ---\n",
      "eq. vol rad 10.0 27.2504795706 6.05777202326 4.49843266897\n",
      "--- 2.29 minute(s) ---\n",
      "eq. vol rad 10.0 28.56158555 5.91709910823 4.82695743768\n",
      "--- 2.26 minute(s) ---\n",
      "eq. vol rad 10.0 29.9357729472 5.77969288415 5.17947467923\n",
      "--- 2.25 minute(s) ---\n",
      "eq. vol rad 10.0 31.376076807 5.64547749228 5.55773658649\n",
      "--- 2.32 minute(s) ---\n",
      "eq. vol rad 10.0 32.8856781997 5.51437883546 5.96362331659\n",
      "--- 2.38 minute(s) ---\n",
      "eq. vol rad 10.0 34.4679112467 5.38632453722 6.39915233635\n",
      "--- 2.32 minute(s) ---\n",
      "eq. vol rad 10.0 36.1262704845 5.2612439018 6.86648845004\n",
      "--- 2.25 minute(s) ---\n",
      "eq. vol rad 10.0 37.8644185829 5.13906787512 7.36795455966\n",
      "--- 2.32 minute(s) ---\n",
      "eq. vol rad 10.0 39.6861944338 5.01972900668 7.90604321091\n",
      "--- 2.26 minute(s) ---\n",
      "eq. vol rad 10.0 41.5956216307 4.9031614123 8.48342898244\n",
      "--- 2.16 minute(s) ---\n",
      "eq. vol rad 10.0 43.5969173545 4.78930073777 9.10298177992\n",
      "--- 2.17 minute(s) ---\n",
      "eq. vol rad 10.0 45.6945016879 4.67808412329 9.76778110089\n",
      "--- 2.15 minute(s) ---\n",
      "eq. vol rad 10.0 47.8930073777 4.56945016879 10.4811313415\n",
      "--- 2.20 minute(s) ---\n",
      "eq. vol rad 10.0 50.1972900668 4.46333890002 11.2465782212\n",
      "--- 2.17 minute(s) ---\n",
      "eq. vol rad 10.0 52.612439018 4.35969173545 12.0679264064\n",
      "--- 2.17 minute(s) ---\n",
      "eq. vol rad 10.0 55.1437883546 4.25845145392 12.9492584221\n",
      "--- 2.17 minute(s) ---\n",
      "eq. vol rad 10.0 57.7969288415 4.15956216307 13.8949549437\n",
      "--- 2.23 minute(s) ---\n",
      "eq. vol rad 10.0 60.5777202326 4.06296926845 14.9097165718\n",
      "--- 2.21 minute(s) ---\n",
      "eq. vol rad 10.0 63.492304213 3.96861944338 15.9985871961\n",
      "--- 2.16 minute(s) ---\n",
      "eq. vol rad 10.0 66.5471179633 3.87646059957 17.1669790661\n",
      "--- 2.17 minute(s) ---\n",
      "eq. vol rad 10.0 69.7489083775 3.78644185829 18.4206996933\n",
      "--- 2.18 minute(s) ---\n",
      "eq. vol rad 10.0 73.1047469634 3.6985135223 19.765980717\n",
      "--- 2.19 minute(s) ---\n",
      "eq. vol rad 10.0 76.6220454614 3.61262704845 21.2095088792\n",
      "--- 2.25 minute(s) ---\n",
      "eq. vol rad 10.0 80.3085722139 3.52873502085 22.7584592607\n",
      "--- 2.18 minute(s) ---\n",
      "eq. vol rad 10.0 84.1724693226 3.44679112467 24.4205309455\n",
      "--- 2.20 minute(s) ---\n",
      "eq. vol rad 10.0 88.2222706313 3.36675012063 26.2039852886\n",
      "--- 2.17 minute(s) ---\n",
      "eq. vol rad 10.0 92.4669205736 3.28856781997 28.1176869797\n",
      "--- 2.15 minute(s) ---\n",
      "eq. vol rad 10.0 96.915793928 3.21220106009 30.1711481053\n",
      "--- 2.20 minute(s) ---\n",
      "eq. vol rad 10.0 101.578716523 3.1376076807 32.3745754282\n",
      "--- 2.23 minute(s) ---\n",
      "eq. vol rad 10.0 106.465986938 3.06474650056 34.7389211208\n",
      "--- 2.23 minute(s) ---\n",
      "eq. vol rad 10.0 111.588399251 2.99357729472 37.2759372031\n",
      "--- 2.19 minute(s) ---\n",
      "eq. vol rad 10.0 116.957266874 2.92406077234 39.9982339561\n",
      "--- 2.26 minute(s) ---\n",
      "eq. vol rad 10.0 122.584447546 2.856158555 42.9193426013\n",
      "--- 2.29 minute(s) ---\n",
      "eq. vol rad 10.0 128.482369516 2.78983315547 46.0537825582\n",
      "--- 2.30 minute(s) ---\n",
      "eq. vol rad 10.0 134.664058997 2.72504795706 49.4171336132\n",
      "--- 2.20 minute(s) ---\n",
      "eq. vol rad 10.0 141.143168933 2.6617671934 53.0261133591\n",
      "--- 2.31 minute(s) ---\n",
      "eq. vol rad 10.0 147.934009155 2.59995592867 56.8986602902\n",
      "--- 2.18 minute(s) ---\n",
      "eq. vol rad 10.0 155.051577983 2.53958003832 61.0540229659\n",
      "--- 2.24 minute(s) ---\n",
      "eq. vol rad 10.0 162.511595356 2.48060619025 65.512855686\n",
      "--- 2.14 minute(s) ---\n",
      "eq. vol rad 10.0 170.330537545 2.42300182639 70.2973211533\n",
      "--- 2.10 minute(s) ---\n",
      "eq. vol rad 10.0 178.525673548 2.36673514473 75.4312006335\n",
      "--- 2.10 minute(s) ---\n",
      "eq. vol rad 10.0 187.11510323 2.31177508175 80.9400121608\n",
      "--- 2.16 minute(s) ---\n",
      "eq. vol rad 10.0 196.117797294 2.2580912953 86.8511373751\n",
      "--- 2.14 minute(s) ---\n",
      "eq. vol rad 10.0 205.553639185 2.20565414783 93.1939576234\n",
      "--- 2.13 minute(s) ---\n",
      "eq. vol rad 10.0 215.443469003 2.15443469003 100.0\n",
      "--- 2.13 minute(s) ---\n"
     ]
    }
   ],
   "source": [
    "phio=np.logspace(0.5, 2., num=50, endpoint=True, base=10.0, dtype=None)#just columns (0,2); plates (-2,0)\n",
    "#add=np.logspace(-.301, .301, num=5, endpoint=True, base=10.0, dtype=None)\n",
    "#phio = sorted(np.append(phio, add, axis=0))\n",
    "#phio = [0.5]\n",
    "\n",
    "#phio = [.01,.02,.03,.04,.05,.06,.07,.08,.09,.1,.2,.3,.4,\\\n",
    "#        .5,.6,.7,.8,.9,1,2,3,4,5,6,7,8,9,10,20,30,40,50,60,70,80,90,100]\n",
    "reqarr = [1,2,3,4,5,6,7,8,9,10,20,30,40,50,60,70,80,90,100,200,300,400,500,600,700,800,900,1000]\n",
    "#reqarr = [1,2]\n",
    "numaspectratios=len(phio)\n",
    "ch_dist='gamma'         #anything other than gamma uses the characteristic from the best distribution pdf (lowest SSE)\n",
    "nclusters = 300       #changes how many aggregates per aspect ratio to consider\n",
    "ncrystals = 2\n",
    "minor = 'depth'         #'minorxy' from fit ellipse or 'depth' to mimic IPAS in IDL\n",
    "save_plots = False     #saves all histograms to path with # of aggs and minor/depth folder\n",
    "file_ext = 'eps'\n",
    "\n",
    "#Note, there may be a shape parameter erlang distribution run time warning occasionally if warning filter\n",
    "#is turned off, disregard it\n",
    "import warnings\n",
    "warnings.filterwarnings(\"ignore\")\n",
    "\n",
    "#If creating lookup table using lab_lookup use this call to main_ar_loop:\n",
    "#AND change import from lab_copy to lab_lookup in import statement above\n",
    "#p300lookup = lab.main_ar_loop(phio, reqarr, numaspectratios, ch_dist, nclusters, ncrystals, minor, save_plots, file_ext)\n",
    "#Otherwise:\n",
    "p300 = lab.main_ar_loop(phio, numaspectratios, ch_dist, nclusters, ncrystals, minor, save_plots, file_ext) "
   ]
  },
  {
   "cell_type": "markdown",
   "metadata": {},
   "source": [
    "Plot characteristic values of the distributions with respect to the starting aspect ratios"
   ]
  },
  {
   "cell_type": "code",
   "execution_count": 20,
   "metadata": {},
   "outputs": [
    {
     "name": "stdout",
     "output_type": "stream",
     "text": [
      "Saving figure to '/Users/vprzybylo/Desktop/icefiles/agg_model/agg_notes/graphics/python/300xtals_hist/depth/major_axis_mean_bullets.eps'...\n",
      "Saving figure to '/Users/vprzybylo/Desktop/icefiles/agg_model/agg_notes/graphics/python/300xtals_hist/depth/req_mean_bullets.eps'...\n",
      "Saving figure to '/Users/vprzybylo/Desktop/icefiles/agg_model/agg_notes/graphics/python/300xtals_hist/depth/overlap_bullets.eps'...\n",
      "Saving figure to '/Users/vprzybylo/Desktop/icefiles/agg_model/agg_notes/graphics/python/300xtals_hist/depth/char_mean_bullets.eps'...\n",
      "Saving figure to '/Users/vprzybylo/Desktop/icefiles/agg_model/agg_notes/graphics/python/300xtals_hist/depth/dc_da_normalized_bullets.eps'...\n",
      "Saving figure to '/Users/vprzybylo/Desktop/icefiles/agg_model/agg_notes/graphics/python/300xtals_hist/depth/dphigamquad__bullets.eps'...\n"
     ]
    },
    {
     "ename": "TypeError",
     "evalue": "expected non-empty vector for x",
     "output_type": "error",
     "traceback": [
      "\u001b[0;31m---------------------------------------------------------------------------\u001b[0m",
      "\u001b[0;31mTypeError\u001b[0m                                 Traceback (most recent call last)",
      "\u001b[0;32m<ipython-input-20-e96974ba742c>\u001b[0m in \u001b[0;36m<module>\u001b[0;34m()\u001b[0m\n\u001b[1;32m     12\u001b[0m               save=True, ext=file_ext, verbose=True)\n\u001b[1;32m     13\u001b[0m p300.which_plot(nclusters, plot_name ='complexity', ch_dist=ch_dist, savefile = 'complexity_bullets',\n\u001b[0;32m---> 14\u001b[0;31m               save=True, ext=file_ext, verbose=True)\n\u001b[0m\u001b[1;32m     15\u001b[0m \u001b[0;34m\u001b[0m\u001b[0m\n\u001b[1;32m     16\u001b[0m \u001b[0;31m#...there are other plots that can be made -- look in plots.py in ipas folder\u001b[0m\u001b[0;34m\u001b[0m\u001b[0;34m\u001b[0m\u001b[0m\n",
      "\u001b[0;32m~/Desktop/icefiles/IPAS_python/ipas/plots.py\u001b[0m in \u001b[0;36mwhich_plot\u001b[0;34m(self, nclusters, plot_name, ch_dist, savefile, read_file, save, verbose, ext)\u001b[0m\n\u001b[1;32m    378\u001b[0m \u001b[0;34m\u001b[0m\u001b[0m\n\u001b[1;32m    379\u001b[0m             \u001b[0mself\u001b[0m\u001b[0;34m.\u001b[0m\u001b[0mch_cplxp\u001b[0m \u001b[0;34m=\u001b[0m \u001b[0mself\u001b[0m\u001b[0;34m.\u001b[0m\u001b[0mch_cplx\u001b[0m\u001b[0;34m[\u001b[0m\u001b[0;34m(\u001b[0m\u001b[0mself\u001b[0m\u001b[0;34m.\u001b[0m\u001b[0mphio\u001b[0m\u001b[0;34m<\u001b[0m\u001b[0;36m1.0\u001b[0m\u001b[0;34m)\u001b[0m\u001b[0;34m]\u001b[0m\u001b[0;34m\u001b[0m\u001b[0m\n\u001b[0;32m--> 380\u001b[0;31m             \u001b[0mpoly\u001b[0m \u001b[0;34m=\u001b[0m \u001b[0mpl\u001b[0m\u001b[0;34m.\u001b[0m\u001b[0mpolyfit\u001b[0m\u001b[0;34m(\u001b[0m\u001b[0mphip\u001b[0m\u001b[0;34m,\u001b[0m \u001b[0mself\u001b[0m\u001b[0;34m.\u001b[0m\u001b[0mch_cplxp\u001b[0m\u001b[0;34m,\u001b[0m \u001b[0;36m1\u001b[0m\u001b[0;34m)\u001b[0m  \u001b[0;31m#2 is the degree of polynomial to fit\u001b[0m\u001b[0;34m\u001b[0m\u001b[0m\n\u001b[0m\u001b[1;32m    381\u001b[0m             \u001b[0mx2\u001b[0m \u001b[0;34m=\u001b[0m \u001b[0mnp\u001b[0m\u001b[0;34m.\u001b[0m\u001b[0marange\u001b[0m\u001b[0;34m(\u001b[0m\u001b[0mmin\u001b[0m\u001b[0;34m(\u001b[0m\u001b[0mphip\u001b[0m\u001b[0;34m)\u001b[0m\u001b[0;34m,\u001b[0m \u001b[0mmax\u001b[0m\u001b[0;34m(\u001b[0m\u001b[0mphip\u001b[0m\u001b[0;34m)\u001b[0m\u001b[0;34m,\u001b[0m \u001b[0;36m.01\u001b[0m\u001b[0;34m)\u001b[0m \u001b[0;31m#use more points for a smoother plot\u001b[0m\u001b[0;34m\u001b[0m\u001b[0m\n\u001b[1;32m    382\u001b[0m             \u001b[0my2\u001b[0m \u001b[0;34m=\u001b[0m \u001b[0mnp\u001b[0m\u001b[0;34m.\u001b[0m\u001b[0mpolyval\u001b[0m\u001b[0;34m(\u001b[0m\u001b[0mpoly\u001b[0m\u001b[0;34m,\u001b[0m \u001b[0mx2\u001b[0m\u001b[0;34m)\u001b[0m \u001b[0;31m#Evaluates the polynomial for each x2 value\u001b[0m\u001b[0;34m\u001b[0m\u001b[0m\n",
      "\u001b[0;32m~/anaconda3/bin/IPAS_env/lib/python3.6/site-packages/numpy/lib/polynomial.py\u001b[0m in \u001b[0;36mpolyfit\u001b[0;34m(x, y, deg, rcond, full, w, cov)\u001b[0m\n\u001b[1;32m    553\u001b[0m         \u001b[0;32mraise\u001b[0m \u001b[0mTypeError\u001b[0m\u001b[0;34m(\u001b[0m\u001b[0;34m\"expected 1D vector for x\"\u001b[0m\u001b[0;34m)\u001b[0m\u001b[0;34m\u001b[0m\u001b[0m\n\u001b[1;32m    554\u001b[0m     \u001b[0;32mif\u001b[0m \u001b[0mx\u001b[0m\u001b[0;34m.\u001b[0m\u001b[0msize\u001b[0m \u001b[0;34m==\u001b[0m \u001b[0;36m0\u001b[0m\u001b[0;34m:\u001b[0m\u001b[0;34m\u001b[0m\u001b[0m\n\u001b[0;32m--> 555\u001b[0;31m         \u001b[0;32mraise\u001b[0m \u001b[0mTypeError\u001b[0m\u001b[0;34m(\u001b[0m\u001b[0;34m\"expected non-empty vector for x\"\u001b[0m\u001b[0;34m)\u001b[0m\u001b[0;34m\u001b[0m\u001b[0m\n\u001b[0m\u001b[1;32m    556\u001b[0m     \u001b[0;32mif\u001b[0m \u001b[0my\u001b[0m\u001b[0;34m.\u001b[0m\u001b[0mndim\u001b[0m \u001b[0;34m<\u001b[0m \u001b[0;36m1\u001b[0m \u001b[0;32mor\u001b[0m \u001b[0my\u001b[0m\u001b[0;34m.\u001b[0m\u001b[0mndim\u001b[0m \u001b[0;34m>\u001b[0m \u001b[0;36m2\u001b[0m\u001b[0;34m:\u001b[0m\u001b[0;34m\u001b[0m\u001b[0m\n\u001b[1;32m    557\u001b[0m         \u001b[0;32mraise\u001b[0m \u001b[0mTypeError\u001b[0m\u001b[0;34m(\u001b[0m\u001b[0;34m\"expected 1D or 2D array for y\"\u001b[0m\u001b[0;34m)\u001b[0m\u001b[0;34m\u001b[0m\u001b[0m\n",
      "\u001b[0;31mTypeError\u001b[0m: expected non-empty vector for x"
     ]
    },
    {
     "data": {
      "image/png": "[encoded data removed]",
      "text/plain": [
       "<matplotlib.figure.Figure at 0x14f49ab00>"
      ]
     },
     "metadata": {},
     "output_type": "display_data"
    }
   ],
   "source": [
    "#p300.which_plot(nclusters, plot_name ='major_axis', ch_dist=ch_dist, savefile = 'major_axis_mean_bullets',\n",
    "#              save=True, ext=file_ext, verbose=True)\n",
    "#p300.which_plot(nclusters, plot_name ='req', ch_dist=ch_dist, savefile = 'req_mean_bullets', \n",
    "#              save=True, ext=file_ext, verbose=True)\n",
    "#p300.which_plot(nclusters, plot_name ='overlap', ch_dist=ch_dist, savefile = 'overlap_bullets',\n",
    "#              save=True, ext=file_ext, verbose=True)\n",
    "p300.which_plot(nclusters, plot_name ='char', ch_dist=ch_dist, savefile = 'char_mean_bullets',\n",
    "              save=True, ext=file_ext, verbose=True)\n",
    "#p300.which_plot(nclusters, plot_name ='dc_da_normalized', ch_dist=ch_dist, savefile = 'dc_da_normalized_bullets',\n",
    "#              save=True, ext=file_ext, verbose=True)\n",
    "#p300.which_plot(nclusters, plot_name ='dphigamquad', ch_dist=ch_dist, savefile = 'dphigamquad__bullets',\n",
    "#              save=True, ext=file_ext, verbose=True)\n",
    "#p300.which_plot(nclusters, plot_name ='complexity', ch_dist=ch_dist, savefile = 'complexity_bullets',\n",
    "#              save=True, ext=file_ext, verbose=True)\n",
    "\n",
    "#...there are other plots that can be made -- look in plots.py in ipas folder"
   ]
  },
  {
   "cell_type": "code",
   "execution_count": 9,
   "metadata": {},
   "outputs": [
    {
     "ename": "NameError",
     "evalue": "name 'p300' is not defined",
     "output_type": "error",
     "traceback": [
      "\u001b[0;31m---------------------------------------------------------------------------\u001b[0m",
      "\u001b[0;31mNameError\u001b[0m                                 Traceback (most recent call last)",
      "\u001b[0;32m<ipython-input-9-22f0d2034e50>\u001b[0m in \u001b[0;36m<module>\u001b[0;34m()\u001b[0m\n\u001b[0;32m----> 1\u001b[0;31m p300.which_plot(nclusters, plot_name ='overlap', ch_dist=ch_dist, savefile = 'overlap_equi',\n\u001b[0m\u001b[1;32m      2\u001b[0m               save=True, ext=file_ext, verbose=True)\n\u001b[1;32m      3\u001b[0m \u001b[0;31m#p300.which_plot(nclusters, plot_name ='max_contact_angle', ch_dist=ch_dist, savefile = 'max_cont_ang_equi',\u001b[0m\u001b[0;34m\u001b[0m\u001b[0;34m\u001b[0m\u001b[0m\n\u001b[1;32m      4\u001b[0m \u001b[0;31m#              save=True, ext=file_ext, verbose=True)\u001b[0m\u001b[0;34m\u001b[0m\u001b[0;34m\u001b[0m\u001b[0m\n\u001b[1;32m      5\u001b[0m \u001b[0;34m\u001b[0m\u001b[0m\n",
      "\u001b[0;31mNameError\u001b[0m: name 'p300' is not defined"
     ]
    }
   ],
   "source": [
    "p300.which_plot(nclusters, plot_name ='overlap', ch_dist=ch_dist, savefile = 'overlap_bullets',\n",
    "              save=True, ext=file_ext, verbose=True)\n",
    "#p300.which_plot(nclusters, plot_name ='max_contact_angle', ch_dist=ch_dist, savefile = 'max_cont_ang_equi',\n",
    "#              save=True, ext=file_ext, verbose=True)\n",
    "\n"
   ]
  },
  {
   "cell_type": "markdown",
   "metadata": {},
   "source": [
    "###### Initialize a column; note z is into/out of the page, y is up/vertical, therefore 'falling' into the page"
   ]
  },
  {
   "cell_type": "code",
   "execution_count": 4,
   "metadata": {},
   "outputs": [
    {
     "name": "stdout",
     "output_type": "stream",
     "text": [
      "50.0 -50.0\n",
      "5.0 -5.0\n",
      "50.0 -50.0\n"
     ]
    },
    {
     "data": {
      "image/svg+xml": [
       "<svg xmlns=\"http://www.w3.org/2000/svg\" xmlns:xlink=\"http://www.w3.org/1999/xlink\" width=\"108.0\" height=\"100.0\" viewBox=\"-54.0 -9.0 108.0 18.0\" preserveAspectRatio=\"xMinYMin meet\"><g transform=\"matrix(1,0,0,-1,0,0.0)\"><g><polyline fill=\"none\" stroke=\"#66cc99\" stroke-width=\"2.0\" points=\"50.0,-2.5 50.0,2.5 50.0,5.0 50.0,2.5 50.0,-2.5 50.0,-5.0 50.0,-2.5\" opacity=\"0.8\" /><polyline fill=\"none\" stroke=\"#66cc99\" stroke-width=\"2.0\" points=\"-50.0,-2.5 -50.0,2.5 -50.0,5.0 -50.0,2.5 -50.0,-2.5 -50.0,-5.0 -50.0,-2.5\" opacity=\"0.8\" /><polyline fill=\"none\" stroke=\"#66cc99\" stroke-width=\"2.0\" points=\"50.0,-2.5 -50.0,-2.5\" opacity=\"0.8\" /><polyline fill=\"none\" stroke=\"#66cc99\" stroke-width=\"2.0\" points=\"50.0,2.5 -50.0,2.5\" opacity=\"0.8\" /><polyline fill=\"none\" stroke=\"#66cc99\" stroke-width=\"2.0\" points=\"50.0,5.0 -50.0,5.0\" opacity=\"0.8\" /><polyline fill=\"none\" stroke=\"#66cc99\" stroke-width=\"2.0\" points=\"50.0,2.5 -50.0,2.5\" opacity=\"0.8\" /><polyline fill=\"none\" stroke=\"#66cc99\" stroke-width=\"2.0\" points=\"50.0,-2.5 -50.0,-2.5\" opacity=\"0.8\" /><polyline fill=\"none\" stroke=\"#66cc99\" stroke-width=\"2.0\" points=\"50.0,-5.0 -50.0,-5.0\" opacity=\"0.8\" /></g></g></svg>"
      ],
      "text/plain": [
       "<shapely.geometry.multilinestring.MultiLineString at 0x110960d30>"
      ]
     },
     "execution_count": 4,
     "metadata": {},
     "output_type": "execute_result"
    }
   ],
   "source": [
    "#columns initially  - y axis is up and down, x left right, z into page\n",
    "length=100\n",
    "width=10\n",
    "rotation = [0,0,0]\n",
    "#rotation = [0,0, random.uniform(0, 2 * np.pi)]\n",
    "seedcrystal = crys.IceCrystal(length=length, width=width, rotation=rotation)\n",
    "\n",
    "xmaxseed = seedcrystal.max('x')\n",
    "xminseed = seedcrystal.min('x')\n",
    "ymaxseed = seedcrystal.max('y')\n",
    "yminseed = seedcrystal.min('y')\n",
    "zmaxseed = seedcrystal.max('z')\n",
    "zminseed = seedcrystal.min('z')\n",
    "\n",
    "print(xmaxseed, xminseed)\n",
    "print(ymaxseed, yminseed)\n",
    "print(zmaxseed, zminseed)\n",
    "\n",
    "seedcrystal.plot()"
   ]
  },
  {
   "cell_type": "markdown",
   "metadata": {},
   "source": [
    "###### Initialize a plate; note z is into/out of the page, y is up/vertical, therefore 'falling' into the page\n"
   ]
  },
  {
   "cell_type": "code",
   "execution_count": 12,
   "metadata": {},
   "outputs": [
    {
     "name": "stdout",
     "output_type": "stream",
     "text": [
      "0.165882841409 1.37275651042 2.379247761841544\n"
     ]
    },
    {
     "data": {
      "image/svg+xml": [
       "<svg xmlns=\"http://www.w3.org/2000/svg\" xmlns:xlink=\"http://www.w3.org/1999/xlink\" width=\"300\" height=\"300\" viewBox=\"-510.2269776853534 -509.3025503808733 1020.4539553707068 1018.6051007617466\" preserveAspectRatio=\"xMinYMin meet\"><g transform=\"matrix(1,0,0,-1,0,0.0)\"><g><polyline fill=\"none\" stroke=\"#66cc99\" stroke-width=\"6.8030263691380455\" points=\"392.045060555601,243.3874948034498 421.84546017486025,214.18111913030103 462.0391232699085,75.81998467609849 472.4323867456976,-33.33477410495526 442.6319871264384,-4.128398431806472 402.43832403139015,134.23273602239607 392.045060555601,243.3874948034498\" opacity=\"0.8\" /><polyline fill=\"none\" stroke=\"#66cc99\" stroke-width=\"6.8030263691380455\" points=\"-472.4323867456976,33.33477410495526 -442.6319871264384,4.128398431806472 -402.43832403139015,-134.23273602239607 -392.045060555601,-243.3874948034498 -421.84546017486025,-214.18111913030103 -462.0391232699085,-75.81998467609849 -472.4323867456976,33.33477410495526\" opacity=\"0.8\" /><polyline fill=\"none\" stroke=\"#66cc99\" stroke-width=\"6.8030263691380455\" points=\"392.045060555601,243.3874948034498 -472.4323867456976,33.33477410495526\" opacity=\"0.8\" /><polyline fill=\"none\" stroke=\"#66cc99\" stroke-width=\"6.8030263691380455\" points=\"421.84546017486025,214.18111913030103 -442.6319871264384,4.128398431806472\" opacity=\"0.8\" /><polyline fill=\"none\" stroke=\"#66cc99\" stroke-width=\"6.8030263691380455\" points=\"462.0391232699085,75.81998467609849 -402.43832403139015,-134.23273602239607\" opacity=\"0.8\" /><polyline fill=\"none\" stroke=\"#66cc99\" stroke-width=\"6.8030263691380455\" points=\"472.4323867456976,-33.33477410495526 -392.045060555601,-243.3874948034498\" opacity=\"0.8\" /><polyline fill=\"none\" stroke=\"#66cc99\" stroke-width=\"6.8030263691380455\" points=\"442.6319871264384,-4.128398431806472 -421.84546017486025,-214.18111913030103\" opacity=\"0.8\" /><polyline fill=\"none\" stroke=\"#66cc99\" stroke-width=\"6.8030263691380455\" points=\"402.43832403139015,134.23273602239607 -462.0391232699085,-75.81998467609849\" opacity=\"0.8\" /><polyline fill=\"none\" stroke=\"#66cc99\" stroke-width=\"6.8030263691380455\" points=\"228.7809584212933,-128.75231210366704 199.5745827481445,14.151055484418848 60.194823184628774,55.284240568639504 -49.97856070573813,-46.4859419352257 -20.77218503258935,-189.38930952331157 118.60757453092637,-230.52249460753222 228.7809584212933,-128.75231210366704\" opacity=\"0.8\" /><polyline fill=\"none\" stroke=\"#66cc99\" stroke-width=\"6.8030263691380455\" points=\"49.97856070573813,46.4859419352257 20.77218503258935,189.38930952331157 -118.60757453092637,230.52249460753222 -228.7809584212933,128.75231210366704 -199.5745827481445,-14.151055484418848 -60.194823184628774,-55.284240568639504 49.97856070573813,46.4859419352257\" opacity=\"0.8\" /><polyline fill=\"none\" stroke=\"#66cc99\" stroke-width=\"6.8030263691380455\" points=\"228.7809584212933,-128.75231210366704 49.97856070573813,46.4859419352257\" opacity=\"0.8\" /><polyline fill=\"none\" stroke=\"#66cc99\" stroke-width=\"6.8030263691380455\" points=\"199.5745827481445,14.151055484418848 20.77218503258935,189.38930952331157\" opacity=\"0.8\" /><polyline fill=\"none\" stroke=\"#66cc99\" stroke-width=\"6.8030263691380455\" points=\"60.194823184628774,55.284240568639504 -118.60757453092637,230.52249460753222\" opacity=\"0.8\" /><polyline fill=\"none\" stroke=\"#66cc99\" stroke-width=\"6.8030263691380455\" points=\"-49.97856070573813,-46.4859419352257 -228.7809584212933,128.75231210366704\" opacity=\"0.8\" /><polyline fill=\"none\" stroke=\"#66cc99\" stroke-width=\"6.8030263691380455\" points=\"-20.77218503258935,-189.38930952331157 -199.5745827481445,-14.151055484418848\" opacity=\"0.8\" /><polyline fill=\"none\" stroke=\"#66cc99\" stroke-width=\"6.8030263691380455\" points=\"118.60757453092637,-230.52249460753222 -60.194823184628774,-55.284240568639504\" opacity=\"0.8\" /><polyline fill=\"none\" stroke=\"#66cc99\" stroke-width=\"6.8030263691380455\" points=\"-133.851011181348,385.9122460872977 10.228563368868404,420.92103287038015 56.46044753077004,463.71888954734004 -41.38724285754475,471.5079594412175 -185.46681740776117,436.4991726581351 -231.6987015696628,393.7013159811752 -133.851011181348,385.9122460872977\" opacity=\"0.8\" /><polyline fill=\"none\" stroke=\"#66cc99\" stroke-width=\"6.8030263691380455\" points=\"41.38724285754475,-471.5079594412175 185.46681740776117,-436.4991726581351 231.6987015696628,-393.7013159811752 133.851011181348,-385.9122460872977 -10.228563368868404,-420.92103287038015 -56.46044753077004,-463.71888954734004 41.38724285754475,-471.5079594412175\" opacity=\"0.8\" /><polyline fill=\"none\" stroke=\"#66cc99\" stroke-width=\"6.8030263691380455\" points=\"-133.851011181348,385.9122460872977 41.38724285754475,-471.5079594412175\" opacity=\"0.8\" /><polyline fill=\"none\" stroke=\"#66cc99\" stroke-width=\"6.8030263691380455\" points=\"10.228563368868404,420.92103287038015 185.46681740776117,-436.4991726581351\" opacity=\"0.8\" /><polyline fill=\"none\" stroke=\"#66cc99\" stroke-width=\"6.8030263691380455\" points=\"56.46044753077004,463.71888954734004 231.6987015696628,-393.7013159811752\" opacity=\"0.8\" /><polyline fill=\"none\" stroke=\"#66cc99\" stroke-width=\"6.8030263691380455\" points=\"-41.38724285754475,471.5079594412175 133.851011181348,-385.9122460872977\" opacity=\"0.8\" /><polyline fill=\"none\" stroke=\"#66cc99\" stroke-width=\"6.8030263691380455\" points=\"-185.46681740776117,436.4991726581351 -10.228563368868404,-420.92103287038015\" opacity=\"0.8\" /><polyline fill=\"none\" stroke=\"#66cc99\" stroke-width=\"6.8030263691380455\" points=\"-231.6987015696628,393.7013159811752 -56.46044753077004,-463.71888954734004\" opacity=\"0.8\" /></g></g></svg>"
      ],
      "text/plain": [
       "<shapely.geometry.multilinestring.MultiLineString at 0x10716fc18>"
      ]
     },
     "execution_count": 12,
     "metadata": {},
     "output_type": "execute_result"
    }
   ],
   "source": [
    "length=90 * 10 #c axis\n",
    "width=30 * 10 #a axis\n",
    "plates = width > length\n",
    "\n",
    "f = lambda x: -crys.IceCrystal(length=length, width=width, rotation=[0,x,0]).projectxy().area\n",
    "yrot = opt.minimize_scalar(f, bounds=(0, np.pi/2), method='Bounded').x\n",
    "f = lambda x: -crys.IceCrystal(length=length, width=width, rotation=[x,0,0]).projectxy().area\n",
    "xrot = opt.minimize_scalar(f, bounds=(0, np.pi/2), method='Bounded').x\n",
    "\n",
    "\n",
    "yrotrand = random.uniform(-yrot, yrot)\n",
    "zrot = random.uniform(0, 2 * np.pi)\n",
    "print(xrot, yrotrand, zrot)\n",
    "\n",
    "#rotation = [0, 0, 0]            \n",
    "rotation = [0.2, 0.2, 0.2]\n",
    "\n",
    "seedcrystal = crys.IceCrystal(length=length, width=width, rotation=rotation)\n",
    "\n",
    "xmaxseed = seedcrystal.max('x')\n",
    "xminseed = seedcrystal.min('x')\n",
    "ymaxseed = seedcrystal.max('y')\n",
    "yminseed = seedcrystal.min('y')\n",
    "zmaxseed = seedcrystal.max('z')\n",
    "zminseed = seedcrystal.min('z')\n",
    "\n",
    "#print(xmaxseed, xminseed)\n",
    "#print(ymaxseed, yminseed)\n",
    "#print(zmaxseed, zminseed)\n",
    "#print(seedcrystal.maxz)\n",
    "seedcrystal.plot()\n"
   ]
  },
  {
   "cell_type": "code",
   "execution_count": 13,
   "metadata": {
    "scrolled": true
   },
   "outputs": [
    {
     "name": "stdout",
     "output_type": "stream",
     "text": [
      "0.165882841409 1.11341430183 4.634832234751102\n"
     ]
    },
    {
     "data": {
      "image/svg+xml": [
       "<svg xmlns=\"http://www.w3.org/2000/svg\" xmlns:xlink=\"http://www.w3.org/1999/xlink\" width=\"300\" height=\"300\" viewBox=\"-507.3691442010116 -499.96661515757205 1014.7382884020232 999.9332303151441\" preserveAspectRatio=\"xMinYMin meet\"><g transform=\"matrix(1,0,0,-1,0,0.0)\"><g><polyline fill=\"none\" stroke=\"#66cc99\" stroke-width=\"6.764921922680155\" points=\"-25.494354166799262,-432.92436419450075 109.08739642045262,-443.86213797788434 119.18509419854166,-458.59181367419734 -5.298958610621199,-462.38371558712674 -139.8807091978731,-451.44594180374315 -149.97840697596212,-436.71626610743016 -25.494354166799262,-432.92436419450075\" opacity=\"0.8\" /><polyline fill=\"none\" stroke=\"#66cc99\" stroke-width=\"6.764921922680155\" points=\"5.298958610621199,462.38371558712674 139.8807091978731,451.44594180374315 149.97840697596212,436.71626610743016 25.494354166799262,432.92436419450075 -109.08739642045262,443.86213797788434 -119.18509419854166,458.59181367419734 5.298958610621199,462.38371558712674\" opacity=\"0.8\" /><polyline fill=\"none\" stroke=\"#66cc99\" stroke-width=\"6.764921922680155\" points=\"-25.494354166799262,-432.92436419450075 5.298958610621199,462.38371558712674\" opacity=\"0.8\" /><polyline fill=\"none\" stroke=\"#66cc99\" stroke-width=\"6.764921922680155\" points=\"109.08739642045262,-443.86213797788434 139.8807091978731,451.44594180374315\" opacity=\"0.8\" /><polyline fill=\"none\" stroke=\"#66cc99\" stroke-width=\"6.764921922680155\" points=\"119.18509419854166,-458.59181367419734 149.97840697596212,436.71626610743016\" opacity=\"0.8\" /><polyline fill=\"none\" stroke=\"#66cc99\" stroke-width=\"6.764921922680155\" points=\"-5.298958610621199,-462.38371558712674 25.494354166799262,432.92436419450075\" opacity=\"0.8\" /><polyline fill=\"none\" stroke=\"#66cc99\" stroke-width=\"6.764921922680155\" points=\"-139.8807091978731,-451.44594180374315 -109.08739642045262,443.86213797788434\" opacity=\"0.8\" /><polyline fill=\"none\" stroke=\"#66cc99\" stroke-width=\"6.764921922680155\" points=\"-149.97840697596212,-436.71626610743016 -119.18509419854166,458.59181367419734\" opacity=\"0.8\" /><polyline fill=\"none\" stroke=\"#66cc99\" stroke-width=\"6.764921922680155\" points=\"366.2801234720294,-167.3866304767994 432.32111634084,-156.6931926582868 469.7862446305663,-22.119883531638095 441.210380051482,101.75998777649798 375.1693871826714,91.06654995798536 337.7042588929451,-43.50675916866335 366.2801234720294,-167.3866304767994\" opacity=\"0.8\" /><polyline fill=\"none\" stroke=\"#66cc99\" stroke-width=\"6.764921922680155\" points=\"-441.210380051482,-101.75998777649798 -375.1693871826714,-91.06654995798536 -337.7042588929451,43.50675916866335 -366.2801234720294,167.3866304767994 -432.32111634084,156.6931926582868 -469.7862446305663,22.119883531638095 -441.210380051482,-101.75998777649798\" opacity=\"0.8\" /><polyline fill=\"none\" stroke=\"#66cc99\" stroke-width=\"6.764921922680155\" points=\"366.2801234720294,-167.3866304767994 -441.210380051482,-101.75998777649798\" opacity=\"0.8\" /><polyline fill=\"none\" stroke=\"#66cc99\" stroke-width=\"6.764921922680155\" points=\"432.32111634084,-156.6931926582868 -375.1693871826714,-91.06654995798536\" opacity=\"0.8\" /><polyline fill=\"none\" stroke=\"#66cc99\" stroke-width=\"6.764921922680155\" points=\"469.7862446305663,-22.119883531638095 -337.7042588929451,43.50675916866335\" opacity=\"0.8\" /><polyline fill=\"none\" stroke=\"#66cc99\" stroke-width=\"6.764921922680155\" points=\"441.210380051482,101.75998777649798 -366.2801234720294,167.3866304767994\" opacity=\"0.8\" /><polyline fill=\"none\" stroke=\"#66cc99\" stroke-width=\"6.764921922680155\" points=\"375.1693871826714,91.06654995798536 -432.32111634084,156.6931926582868\" opacity=\"0.8\" /><polyline fill=\"none\" stroke=\"#66cc99\" stroke-width=\"6.764921922680155\" points=\"337.7042588929451,-43.50675916866335 -469.7862446305663,22.119883531638095\" opacity=\"0.8\" /><polyline fill=\"none\" stroke=\"#66cc99\" stroke-width=\"6.764921922680155\" points=\"317.24030289889157,97.21693014674923 312.1080841026548,-52.00108315018868 192.990759810195,-117.1376998414 79.0056543139719,-33.056303235673454 84.13787311020867,116.16171006126444 203.25519740266847,181.2983267524758 317.24030289889157,97.21693014674923\" opacity=\"0.8\" /><polyline fill=\"none\" stroke=\"#66cc99\" stroke-width=\"6.764921922680155\" points=\"-79.0056543139719,33.056303235673454 -84.13787311020867,-116.16171006126444 -203.25519740266847,-181.2983267524758 -317.24030289889157,-97.21693014674923 -312.1080841026548,52.00108315018868 -192.990759810195,117.1376998414 -79.0056543139719,33.056303235673454\" opacity=\"0.8\" /><polyline fill=\"none\" stroke=\"#66cc99\" stroke-width=\"6.764921922680155\" points=\"317.24030289889157,97.21693014674923 -79.0056543139719,33.056303235673454\" opacity=\"0.8\" /><polyline fill=\"none\" stroke=\"#66cc99\" stroke-width=\"6.764921922680155\" points=\"312.1080841026548,-52.00108315018868 -84.13787311020867,-116.16171006126444\" opacity=\"0.8\" /><polyline fill=\"none\" stroke=\"#66cc99\" stroke-width=\"6.764921922680155\" points=\"192.990759810195,-117.1376998414 -203.25519740266847,-181.2983267524758\" opacity=\"0.8\" /><polyline fill=\"none\" stroke=\"#66cc99\" stroke-width=\"6.764921922680155\" points=\"79.0056543139719,-33.056303235673454 -317.24030289889157,-97.21693014674923\" opacity=\"0.8\" /><polyline fill=\"none\" stroke=\"#66cc99\" stroke-width=\"6.764921922680155\" points=\"84.13787311020867,116.16171006126444 -312.1080841026548,52.00108315018868\" opacity=\"0.8\" /><polyline fill=\"none\" stroke=\"#66cc99\" stroke-width=\"6.764921922680155\" points=\"203.25519740266847,181.2983267524758 -192.990759810195,117.1376998414\" opacity=\"0.8\" /></g></g></svg>"
      ],
      "text/plain": [
       "<shapely.geometry.multilinestring.MultiLineString at 0x10716ae48>"
      ]
     },
     "execution_count": 13,
     "metadata": {},
     "output_type": "execute_result"
    }
   ],
   "source": [
    "#Plate from top down after reoriention based on the max projected area\n",
    "length=90 * 10 #c axis\n",
    "width=30 * 10 #a axis\n",
    "plates = width > length\n",
    "\n",
    "f = lambda x: -crys.IceCrystal(length=length, width=width, rotation=[0,x,0]).projectxy().area\n",
    "yrot = opt.minimize_scalar(f, bounds=(0, np.pi/2), method='Bounded').x\n",
    "f = lambda x: -crys.IceCrystal(length=length, width=width, rotation=[x,0,0]).projectxy().area\n",
    "xrot = opt.minimize_scalar(f, bounds=(0, np.pi/2), method='Bounded').x\n",
    "\n",
    "zrot = random.uniform(0, 2 * np.pi)\n",
    "yrotrand = random.uniform(-yrot, yrot)\n",
    "print(xrot, yrotrand, zrot)\n",
    "\n",
    "rotation = [xrot, yrotrand, zrot]\n",
    "#rotation = [0,0,0]\n",
    "seedcrystal = crys.IceCrystal(length=length, width=width, rotation=rotation)\n",
    "cluster = crys.IceCluster(seedcrystal)\n",
    "seedcrystal.plot()"
   ]
  },
  {
   "cell_type": "code",
   "execution_count": 15,
   "metadata": {},
   "outputs": [
    {
     "name": "stdout",
     "output_type": "stream",
     "text": [
      "0.165882841409 1.4049134854 1.7781319358826402\n"
     ]
    },
    {
     "data": {
      "image/svg+xml": [
       "<svg xmlns=\"http://www.w3.org/2000/svg\" xmlns:xlink=\"http://www.w3.org/1999/xlink\" width=\"300\" height=\"300\" viewBox=\"-759.3609075277968 -456.54339063315956 1011.0581308817744 1011.6423311825129\" preserveAspectRatio=\"xMinYMin meet\"><g transform=\"matrix(1,0,0,-1,0,98.55554991619374)\"><g><polyline fill=\"none\" stroke=\"#66cc99\" stroke-width=\"6.744282207883419\" points=\"-364.0890491150942,423.477438134593 -216.14810478562708,419.38759152822337 -121.18691064698214,464.4193021882981 -174.16666083780433,513.5408594547425 -322.10760516727146,517.630706061112 -417.0687993059164,472.59899540103737 -364.0890491150942,423.477438134593\" opacity=\"0.8\" /><polyline fill=\"none\" stroke=\"#66cc99\" stroke-width=\"6.744282207883419\" points=\"-333.4970233360149,-414.98530953854873 -185.55607900654775,-419.07515614491837 -90.5948848679028,-374.04344548484363 -143.574635058725,-324.92188821839926 -291.5155793881921,-320.8320416120296 -386.47677352683706,-365.86375227210436 -333.4970233360149,-414.98530953854873\" opacity=\"0.8\" /><polyline fill=\"none\" stroke=\"#66cc99\" stroke-width=\"6.744282207883419\" points=\"-364.0890491150942,423.477438134593 -333.4970233360149,-414.98530953854873\" opacity=\"0.8\" /><polyline fill=\"none\" stroke=\"#66cc99\" stroke-width=\"6.744282207883419\" points=\"-216.14810478562708,419.38759152822337 -185.55607900654775,-419.07515614491837\" opacity=\"0.8\" /><polyline fill=\"none\" stroke=\"#66cc99\" stroke-width=\"6.744282207883419\" points=\"-121.18691064698214,464.4193021882981 -90.5948848679028,-374.04344548484363\" opacity=\"0.8\" /><polyline fill=\"none\" stroke=\"#66cc99\" stroke-width=\"6.744282207883419\" points=\"-174.16666083780433,513.5408594547425 -143.574635058725,-324.92188821839926\" opacity=\"0.8\" /><polyline fill=\"none\" stroke=\"#66cc99\" stroke-width=\"6.744282207883419\" points=\"-322.10760516727146,517.630706061112 -291.5155793881921,-320.8320416120296\" opacity=\"0.8\" /><polyline fill=\"none\" stroke=\"#66cc99\" stroke-width=\"6.744282207883419\" points=\"-417.0687993059164,472.59899540103737 -386.47677352683706,-365.86375227210436\" opacity=\"0.8\" /><polyline fill=\"none\" stroke=\"#66cc99\" stroke-width=\"6.744282207883419\" points=\"197.69441130396223,185.2096156988578 173.45641333971753,130.85020111639903 165.7529929372471,-17.35117944347074 182.28757049902123,-111.19314542088179 206.52556846326593,-56.833730838423065 214.22898886573637,91.36764972144672 197.69441130396223,185.2096156988578\" opacity=\"0.8\" /><polyline fill=\"none\" stroke=\"#66cc99\" stroke-width=\"6.744282207883419\" points=\"-689.9512546728404,209.74869533707553 -714.1892526370851,155.3892807546168 -721.8926730395556,7.187900194747016 -705.3580954777815,-86.65406578266405 -681.1200975135367,-32.294651200205294 -673.4166771110663,115.90672935966448 -689.9512546728404,209.74869533707553\" opacity=\"0.8\" /><polyline fill=\"none\" stroke=\"#66cc99\" stroke-width=\"6.744282207883419\" points=\"197.69441130396223,185.2096156988578 -689.9512546728404,209.74869533707553\" opacity=\"0.8\" /><polyline fill=\"none\" stroke=\"#66cc99\" stroke-width=\"6.744282207883419\" points=\"173.45641333971753,130.85020111639903 -714.1892526370851,155.3892807546168\" opacity=\"0.8\" /><polyline fill=\"none\" stroke=\"#66cc99\" stroke-width=\"6.744282207883419\" points=\"165.7529929372471,-17.35117944347074 -721.8926730395556,7.187900194747016\" opacity=\"0.8\" /><polyline fill=\"none\" stroke=\"#66cc99\" stroke-width=\"6.744282207883419\" points=\"182.28757049902123,-111.19314542088179 -705.3580954777815,-86.65406578266405\" opacity=\"0.8\" /><polyline fill=\"none\" stroke=\"#66cc99\" stroke-width=\"6.744282207883419\" points=\"206.52556846326593,-56.833730838423065 -681.1200975135367,-32.294651200205294\" opacity=\"0.8\" /><polyline fill=\"none\" stroke=\"#66cc99\" stroke-width=\"6.744282207883419\" points=\"214.22898886573637,91.36764972144672 -673.4166771110663,115.90672935966448\" opacity=\"0.8\" /><polyline fill=\"none\" stroke=\"#66cc99\" stroke-width=\"6.744282207883419\" points=\"-195.8758844488757,-187.21427548740547 -200.97455541205562,-47.47048420854854 -331.64450694282345,25.94332248957761 -457.2157875104115,-40.386662091153184 -452.11711654723155,-180.13045337001012 -321.4471650164637,-253.54426006813628 -195.8758844488757,-187.21427548740547\" opacity=\"0.8\" /><polyline fill=\"none\" stroke=\"#66cc99\" stroke-width=\"6.744282207883419\" points=\"-50.44789666340773,138.94221200734694 -55.54656762658766,278.68600328620386 -186.2165191573555,352.09980998433 -311.7877997249435,285.7698254035992 -306.6891287617636,146.0260341247423 -176.01917723099575,72.61222742661613 -50.44789666340773,138.94221200734694\" opacity=\"0.8\" /><polyline fill=\"none\" stroke=\"#66cc99\" stroke-width=\"6.744282207883419\" points=\"-195.8758844488757,-187.21427548740547 -50.44789666340773,138.94221200734694\" opacity=\"0.8\" /><polyline fill=\"none\" stroke=\"#66cc99\" stroke-width=\"6.744282207883419\" points=\"-200.97455541205562,-47.47048420854854 -55.54656762658766,278.68600328620386\" opacity=\"0.8\" /><polyline fill=\"none\" stroke=\"#66cc99\" stroke-width=\"6.744282207883419\" points=\"-331.64450694282345,25.94332248957761 -186.2165191573555,352.09980998433\" opacity=\"0.8\" /><polyline fill=\"none\" stroke=\"#66cc99\" stroke-width=\"6.744282207883419\" points=\"-457.2157875104115,-40.386662091153184 -311.7877997249435,285.7698254035992\" opacity=\"0.8\" /><polyline fill=\"none\" stroke=\"#66cc99\" stroke-width=\"6.744282207883419\" points=\"-452.11711654723155,-180.13045337001012 -306.6891287617636,146.0260341247423\" opacity=\"0.8\" /><polyline fill=\"none\" stroke=\"#66cc99\" stroke-width=\"6.744282207883419\" points=\"-321.4471650164637,-253.54426006813628 -176.01917723099575,72.61222742661613\" opacity=\"0.8\" /></g></g></svg>"
      ],
      "text/plain": [
       "<shapely.geometry.multilinestring.MultiLineString at 0x10716aef0>"
      ]
     },
     "execution_count": 15,
     "metadata": {},
     "output_type": "execute_result"
    }
   ],
   "source": [
    "#Initialize a new crystal (plate), same dimensions, again after orientation with max area (top down view)\n",
    "\n",
    "f = lambda x: -crys.IceCrystal(length=length, width=width, rotation=[0,x,0]).projectxy().area\n",
    "yrot = opt.minimize_scalar(f, bounds=(0, np.pi/2), method='Bounded').x\n",
    "f = lambda x: -crys.IceCrystal(length=length, width=width, rotation=[x,0,0]).projectxy().area\n",
    "xrot = opt.minimize_scalar(f, bounds=(0, np.pi/2), method='Bounded').x\n",
    "\n",
    "yrotrand = random.uniform(-yrot, yrot)\n",
    "zrot = random.uniform(0, 2 * np.pi)\n",
    "print(xrot, yrot, zrot)\n",
    "            \n",
    "rotation = [xrot, yrot, zrot]\n",
    "new_crystal = crys.IceCrystal(length=length, width=width, rotation=rotation)\n",
    "\n",
    "xmax = cluster.max('x')\n",
    "xmin = cluster.min('x')\n",
    "ymax = cluster.max('y')\n",
    "ymin = cluster.min('y')\n",
    "random_loc = [random.uniform(xmin, xmax), random.uniform(ymin, ymax), 0]\n",
    "new_crystal.move(random_loc)\n",
    "\n",
    "new_crystal.plot()"
   ]
  },
  {
   "cell_type": "code",
   "execution_count": 16,
   "metadata": {},
   "outputs": [
    {
     "data": {
      "image/svg+xml": [
       "<svg xmlns=\"http://www.w3.org/2000/svg\" xmlns:xlink=\"http://www.w3.org/1999/xlink\" width=\"300\" height=\"300\" viewBox=\"-769.5598297463605 -510.0508722939316 1287.0132310837316 1075.3487350618486\" preserveAspectRatio=\"xMinYMin meet\"><g transform=\"matrix(1,0,0,-1,0,55.24699047398536)\"><g><polyline fill=\"none\" stroke=\"#66cc99\" stroke-width=\"8.580088207224877\" points=\"-25.494354166799262,-432.92436419450075 109.08739642045262,-443.86213797788434 119.18509419854166,-458.59181367419734 -5.298958610621199,-462.38371558712674 -139.8807091978731,-451.44594180374315 -149.97840697596212,-436.71626610743016 -25.494354166799262,-432.92436419450075\" opacity=\"0.8\" /><polyline fill=\"none\" stroke=\"#66cc99\" stroke-width=\"8.580088207224877\" points=\"5.298958610621199,462.38371558712674 139.8807091978731,451.44594180374315 149.97840697596212,436.71626610743016 25.494354166799262,432.92436419450075 -109.08739642045262,443.86213797788434 -119.18509419854166,458.59181367419734 5.298958610621199,462.38371558712674\" opacity=\"0.8\" /><polyline fill=\"none\" stroke=\"#66cc99\" stroke-width=\"8.580088207224877\" points=\"-25.494354166799262,-432.92436419450075 5.298958610621199,462.38371558712674\" opacity=\"0.8\" /><polyline fill=\"none\" stroke=\"#66cc99\" stroke-width=\"8.580088207224877\" points=\"109.08739642045262,-443.86213797788434 139.8807091978731,451.44594180374315\" opacity=\"0.8\" /><polyline fill=\"none\" stroke=\"#66cc99\" stroke-width=\"8.580088207224877\" points=\"119.18509419854166,-458.59181367419734 149.97840697596212,436.71626610743016\" opacity=\"0.8\" /><polyline fill=\"none\" stroke=\"#66cc99\" stroke-width=\"8.580088207224877\" points=\"-5.298958610621199,-462.38371558712674 25.494354166799262,432.92436419450075\" opacity=\"0.8\" /><polyline fill=\"none\" stroke=\"#66cc99\" stroke-width=\"8.580088207224877\" points=\"-139.8807091978731,-451.44594180374315 -109.08739642045262,443.86213797788434\" opacity=\"0.8\" /><polyline fill=\"none\" stroke=\"#66cc99\" stroke-width=\"8.580088207224877\" points=\"-149.97840697596212,-436.71626610743016 -119.18509419854166,458.59181367419734\" opacity=\"0.8\" /><polyline fill=\"none\" stroke=\"#66cc99\" stroke-width=\"8.580088207224877\" points=\"366.2801234720294,-167.3866304767994 432.32111634084,-156.6931926582868 469.7862446305663,-22.119883531638095 441.210380051482,101.75998777649798 375.1693871826714,91.06654995798536 337.7042588929451,-43.50675916866335 366.2801234720294,-167.3866304767994\" opacity=\"0.8\" /><polyline fill=\"none\" stroke=\"#66cc99\" stroke-width=\"8.580088207224877\" points=\"-441.210380051482,-101.75998777649798 -375.1693871826714,-91.06654995798536 -337.7042588929451,43.50675916866335 -366.2801234720294,167.3866304767994 -432.32111634084,156.6931926582868 -469.7862446305663,22.119883531638095 -441.210380051482,-101.75998777649798\" opacity=\"0.8\" /><polyline fill=\"none\" stroke=\"#66cc99\" stroke-width=\"8.580088207224877\" points=\"366.2801234720294,-167.3866304767994 -441.210380051482,-101.75998777649798\" opacity=\"0.8\" /><polyline fill=\"none\" stroke=\"#66cc99\" stroke-width=\"8.580088207224877\" points=\"432.32111634084,-156.6931926582868 -375.1693871826714,-91.06654995798536\" opacity=\"0.8\" /><polyline fill=\"none\" stroke=\"#66cc99\" stroke-width=\"8.580088207224877\" points=\"469.7862446305663,-22.119883531638095 -337.7042588929451,43.50675916866335\" opacity=\"0.8\" /><polyline fill=\"none\" stroke=\"#66cc99\" stroke-width=\"8.580088207224877\" points=\"441.210380051482,101.75998777649798 -366.2801234720294,167.3866304767994\" opacity=\"0.8\" /><polyline fill=\"none\" stroke=\"#66cc99\" stroke-width=\"8.580088207224877\" points=\"375.1693871826714,91.06654995798536 -432.32111634084,156.6931926582868\" opacity=\"0.8\" /><polyline fill=\"none\" stroke=\"#66cc99\" stroke-width=\"8.580088207224877\" points=\"337.7042588929451,-43.50675916866335 -469.7862446305663,22.119883531638095\" opacity=\"0.8\" /><polyline fill=\"none\" stroke=\"#66cc99\" stroke-width=\"8.580088207224877\" points=\"317.24030289889157,97.21693014674923 312.1080841026548,-52.00108315018868 192.990759810195,-117.1376998414 79.0056543139719,-33.056303235673454 84.13787311020867,116.16171006126444 203.25519740266847,181.2983267524758 317.24030289889157,97.21693014674923\" opacity=\"0.8\" /><polyline fill=\"none\" stroke=\"#66cc99\" stroke-width=\"8.580088207224877\" points=\"-79.0056543139719,33.056303235673454 -84.13787311020867,-116.16171006126444 -203.25519740266847,-181.2983267524758 -317.24030289889157,-97.21693014674923 -312.1080841026548,52.00108315018868 -192.990759810195,117.1376998414 -79.0056543139719,33.056303235673454\" opacity=\"0.8\" /><polyline fill=\"none\" stroke=\"#66cc99\" stroke-width=\"8.580088207224877\" points=\"317.24030289889157,97.21693014674923 -79.0056543139719,33.056303235673454\" opacity=\"0.8\" /><polyline fill=\"none\" stroke=\"#66cc99\" stroke-width=\"8.580088207224877\" points=\"312.1080841026548,-52.00108315018868 -84.13787311020867,-116.16171006126444\" opacity=\"0.8\" /><polyline fill=\"none\" stroke=\"#66cc99\" stroke-width=\"8.580088207224877\" points=\"192.990759810195,-117.1376998414 -203.25519740266847,-181.2983267524758\" opacity=\"0.8\" /><polyline fill=\"none\" stroke=\"#66cc99\" stroke-width=\"8.580088207224877\" points=\"79.0056543139719,-33.056303235673454 -317.24030289889157,-97.21693014674923\" opacity=\"0.8\" /><polyline fill=\"none\" stroke=\"#66cc99\" stroke-width=\"8.580088207224877\" points=\"84.13787311020867,116.16171006126444 -312.1080841026548,52.00108315018868\" opacity=\"0.8\" /><polyline fill=\"none\" stroke=\"#66cc99\" stroke-width=\"8.580088207224877\" points=\"203.25519740266847,181.2983267524758 -192.990759810195,117.1376998414\" opacity=\"0.8\" /><polyline fill=\"none\" stroke=\"#66cc99\" stroke-width=\"8.580088207224877\" points=\"-364.0890491150942,423.477438134593 -216.14810478562708,419.38759152822337 -121.18691064698214,464.4193021882981 -174.16666083780433,513.5408594547425 -322.10760516727146,517.630706061112 -417.0687993059164,472.59899540103737 -364.0890491150942,423.477438134593\" opacity=\"0.8\" /><polyline fill=\"none\" stroke=\"#66cc99\" stroke-width=\"8.580088207224877\" points=\"-333.4970233360149,-414.98530953854873 -185.55607900654775,-419.07515614491837 -90.5948848679028,-374.04344548484363 -143.574635058725,-324.92188821839926 -291.5155793881921,-320.8320416120296 -386.47677352683706,-365.86375227210436 -333.4970233360149,-414.98530953854873\" opacity=\"0.8\" /><polyline fill=\"none\" stroke=\"#66cc99\" stroke-width=\"8.580088207224877\" points=\"-364.0890491150942,423.477438134593 -333.4970233360149,-414.98530953854873\" opacity=\"0.8\" /><polyline fill=\"none\" stroke=\"#66cc99\" stroke-width=\"8.580088207224877\" points=\"-216.14810478562708,419.38759152822337 -185.55607900654775,-419.07515614491837\" opacity=\"0.8\" /><polyline fill=\"none\" stroke=\"#66cc99\" stroke-width=\"8.580088207224877\" points=\"-121.18691064698214,464.4193021882981 -90.5948848679028,-374.04344548484363\" opacity=\"0.8\" /><polyline fill=\"none\" stroke=\"#66cc99\" stroke-width=\"8.580088207224877\" points=\"-174.16666083780433,513.5408594547425 -143.574635058725,-324.92188821839926\" opacity=\"0.8\" /><polyline fill=\"none\" stroke=\"#66cc99\" stroke-width=\"8.580088207224877\" points=\"-322.10760516727146,517.630706061112 -291.5155793881921,-320.8320416120296\" opacity=\"0.8\" /><polyline fill=\"none\" stroke=\"#66cc99\" stroke-width=\"8.580088207224877\" points=\"-417.0687993059164,472.59899540103737 -386.47677352683706,-365.86375227210436\" opacity=\"0.8\" /><polyline fill=\"none\" stroke=\"#66cc99\" stroke-width=\"8.580088207224877\" points=\"197.69441130396223,185.2096156988578 173.45641333971753,130.85020111639903 165.7529929372471,-17.35117944347074 182.28757049902123,-111.19314542088179 206.52556846326593,-56.833730838423065 214.22898886573637,91.36764972144672 197.69441130396223,185.2096156988578\" opacity=\"0.8\" /><polyline fill=\"none\" stroke=\"#66cc99\" stroke-width=\"8.580088207224877\" points=\"-689.9512546728404,209.74869533707553 -714.1892526370851,155.3892807546168 -721.8926730395556,7.187900194747016 -705.3580954777815,-86.65406578266405 -681.1200975135367,-32.294651200205294 -673.4166771110663,115.90672935966448 -689.9512546728404,209.74869533707553\" opacity=\"0.8\" /><polyline fill=\"none\" stroke=\"#66cc99\" stroke-width=\"8.580088207224877\" points=\"197.69441130396223,185.2096156988578 -689.9512546728404,209.74869533707553\" opacity=\"0.8\" /><polyline fill=\"none\" stroke=\"#66cc99\" stroke-width=\"8.580088207224877\" points=\"173.45641333971753,130.85020111639903 -714.1892526370851,155.3892807546168\" opacity=\"0.8\" /><polyline fill=\"none\" stroke=\"#66cc99\" stroke-width=\"8.580088207224877\" points=\"165.7529929372471,-17.35117944347074 -721.8926730395556,7.187900194747016\" opacity=\"0.8\" /><polyline fill=\"none\" stroke=\"#66cc99\" stroke-width=\"8.580088207224877\" points=\"182.28757049902123,-111.19314542088179 -705.3580954777815,-86.65406578266405\" opacity=\"0.8\" /><polyline fill=\"none\" stroke=\"#66cc99\" stroke-width=\"8.580088207224877\" points=\"206.52556846326593,-56.833730838423065 -681.1200975135367,-32.294651200205294\" opacity=\"0.8\" /><polyline fill=\"none\" stroke=\"#66cc99\" stroke-width=\"8.580088207224877\" points=\"214.22898886573637,91.36764972144672 -673.4166771110663,115.90672935966448\" opacity=\"0.8\" /><polyline fill=\"none\" stroke=\"#66cc99\" stroke-width=\"8.580088207224877\" points=\"-195.8758844488757,-187.21427548740547 -200.97455541205562,-47.47048420854854 -331.64450694282345,25.94332248957761 -457.2157875104115,-40.386662091153184 -452.11711654723155,-180.13045337001012 -321.4471650164637,-253.54426006813628 -195.8758844488757,-187.21427548740547\" opacity=\"0.8\" /><polyline fill=\"none\" stroke=\"#66cc99\" stroke-width=\"8.580088207224877\" points=\"-50.44789666340773,138.94221200734694 -55.54656762658766,278.68600328620386 -186.2165191573555,352.09980998433 -311.7877997249435,285.7698254035992 -306.6891287617636,146.0260341247423 -176.01917723099575,72.61222742661613 -50.44789666340773,138.94221200734694\" opacity=\"0.8\" /><polyline fill=\"none\" stroke=\"#66cc99\" stroke-width=\"8.580088207224877\" points=\"-195.8758844488757,-187.21427548740547 -50.44789666340773,138.94221200734694\" opacity=\"0.8\" /><polyline fill=\"none\" stroke=\"#66cc99\" stroke-width=\"8.580088207224877\" points=\"-200.97455541205562,-47.47048420854854 -55.54656762658766,278.68600328620386\" opacity=\"0.8\" /><polyline fill=\"none\" stroke=\"#66cc99\" stroke-width=\"8.580088207224877\" points=\"-331.64450694282345,25.94332248957761 -186.2165191573555,352.09980998433\" opacity=\"0.8\" /><polyline fill=\"none\" stroke=\"#66cc99\" stroke-width=\"8.580088207224877\" points=\"-457.2157875104115,-40.386662091153184 -311.7877997249435,285.7698254035992\" opacity=\"0.8\" /><polyline fill=\"none\" stroke=\"#66cc99\" stroke-width=\"8.580088207224877\" points=\"-452.11711654723155,-180.13045337001012 -306.6891287617636,146.0260341247423\" opacity=\"0.8\" /><polyline fill=\"none\" stroke=\"#66cc99\" stroke-width=\"8.580088207224877\" points=\"-321.4471650164637,-253.54426006813628 -176.01917723099575,72.61222742661613\" opacity=\"0.8\" /></g></g></svg>"
      ],
      "text/plain": [
       "<shapely.geometry.multilinestring.MultiLineString at 0x10dadfc50>"
      ]
     },
     "execution_count": 16,
     "metadata": {},
     "output_type": "execute_result"
    }
   ],
   "source": [
    "#create a cluster viewed from top down\n",
    "crystal_hit = cluster.add_crystal_from_above(new_crystal)   \n",
    "cluster.plot()"
   ]
  },
  {
   "cell_type": "code",
   "execution_count": 17,
   "metadata": {},
   "outputs": [
    {
     "data": {
      "image/svg+xml": [
       "<svg xmlns=\"http://www.w3.org/2000/svg\" xmlns:xlink=\"http://www.w3.org/1999/xlink\" width=\"300\" height=\"300\" viewBox=\"-524.2190647709559 -528.381582051283 1103.6851200158972 1669.554427963387\" preserveAspectRatio=\"xMinYMin meet\"><g transform=\"matrix(1,0,0,-1,0,612.7912638608211)\"><g><polyline fill=\"none\" stroke=\"#66cc99\" stroke-width=\"11.130362853089247\" points=\"-432.9243641945008,-192.16277681279777 -443.86213797788434,-126.83194554964716 -458.59181367419734,22.101170826341676 -462.38371558712674,105.70345593917985 -451.44594180374315,40.37262467602922 -436.71626610743016,-108.56049169995961 -432.9243641945008,-192.16277681279777\" opacity=\"0.8\" /><polyline fill=\"none\" stroke=\"#66cc99\" stroke-width=\"11.130362853089247\" points=\"462.38371558712674,-105.70345593917985 451.44594180374315,-40.37262467602922 436.71626610743016,108.56049169995961 432.9243641945008,192.16277681279777 443.86213797788434,126.83194554964716 458.59181367419734,-22.101170826341676 462.38371558712674,-105.70345593917985\" opacity=\"0.8\" /><polyline fill=\"none\" stroke=\"#66cc99\" stroke-width=\"11.130362853089247\" points=\"-432.9243641945008,-192.16277681279777 462.38371558712674,-105.70345593917985\" opacity=\"0.8\" /><polyline fill=\"none\" stroke=\"#66cc99\" stroke-width=\"11.130362853089247\" points=\"-443.86213797788434,-126.83194554964716 451.44594180374315,-40.37262467602922\" opacity=\"0.8\" /><polyline fill=\"none\" stroke=\"#66cc99\" stroke-width=\"11.130362853089247\" points=\"-458.59181367419734,22.101170826341676 436.71626610743016,108.56049169995961\" opacity=\"0.8\" /><polyline fill=\"none\" stroke=\"#66cc99\" stroke-width=\"11.130362853089247\" points=\"-462.38371558712674,105.70345593917985 432.9243641945008,192.16277681279777\" opacity=\"0.8\" /><polyline fill=\"none\" stroke=\"#66cc99\" stroke-width=\"11.130362853089247\" points=\"-451.44594180374315,40.37262467602922 443.86213797788434,126.83194554964716\" opacity=\"0.8\" /><polyline fill=\"none\" stroke=\"#66cc99\" stroke-width=\"11.130362853089247\" points=\"-436.71626610743016,-108.56049169995961 458.59181367419734,-22.101170826341676\" opacity=\"0.8\" /><polyline fill=\"none\" stroke=\"#66cc99\" stroke-width=\"11.130362853089247\" points=\"-167.38663047679944,250.64035406721402 -156.69319265828685,116.38597742152206 -22.119883531638163,61.73811714375996 101.75998777649794,141.3446335116898 91.06654995798534,275.5990101573818 -43.50675916866335,330.2468704351439 -167.38663047679944,250.64035406721402\" opacity=\"0.8\" /><polyline fill=\"none\" stroke=\"#66cc99\" stroke-width=\"11.130362853089247\" points=\"-101.75998777649794,-141.3446335116898 -91.06654995798534,-275.5990101573818 43.50675916866335,-330.2468704351439 167.38663047679944,-250.64035406721402 156.69319265828685,-116.38597742152206 22.119883531638163,-61.73811714375996 -101.75998777649794,-141.3446335116898\" opacity=\"0.8\" /><polyline fill=\"none\" stroke=\"#66cc99\" stroke-width=\"11.130362853089247\" points=\"-167.38663047679944,250.64035406721402 -101.75998777649794,-141.3446335116898\" opacity=\"0.8\" /><polyline fill=\"none\" stroke=\"#66cc99\" stroke-width=\"11.130362853089247\" points=\"-156.69319265828685,116.38597742152206 -91.06654995798534,-275.5990101573818\" opacity=\"0.8\" /><polyline fill=\"none\" stroke=\"#66cc99\" stroke-width=\"11.130362853089247\" points=\"-22.119883531638163,61.73811714375996 43.50675916866335,-330.2468704351439\" opacity=\"0.8\" /><polyline fill=\"none\" stroke=\"#66cc99\" stroke-width=\"11.130362853089247\" points=\"101.75998777649794,141.3446335116898 167.38663047679944,-250.64035406721402\" opacity=\"0.8\" /><polyline fill=\"none\" stroke=\"#66cc99\" stroke-width=\"11.130362853089247\" points=\"91.06654995798534,275.5990101573818 156.69319265828685,-116.38597742152206\" opacity=\"0.8\" /><polyline fill=\"none\" stroke=\"#66cc99\" stroke-width=\"11.130362853089247\" points=\"-43.50675916866335,330.2468704351439 22.119883531638163,-61.73811714375996\" opacity=\"0.8\" /><polyline fill=\"none\" stroke=\"#66cc99\" stroke-width=\"11.130362853089247\" points=\"97.21693014674912,-338.98002700669804 -52.001083150188784,-353.38991381896767 -117.1376998414001,-417.1730167493456 -33.056303235673546,-466.5462328674538 116.16171006126436,-452.13634605518416 181.2983267524757,-388.3532431248063 97.21693014674912,-338.98002700669804\" opacity=\"0.8\" /><polyline fill=\"none\" stroke=\"#66cc99\" stroke-width=\"11.130362853089247\" points=\"33.056303235673546,466.5462328674538 -116.16171006126436,452.13634605518416 -181.2983267524757,388.3532431248063 -97.21693014674912,338.98002700669804 52.001083150188784,353.38991381896767 117.1376998414001,417.1730167493456 33.056303235673546,466.5462328674538\" opacity=\"0.8\" /><polyline fill=\"none\" stroke=\"#66cc99\" stroke-width=\"11.130362853089247\" points=\"97.21693014674912,-338.98002700669804 33.056303235673546,466.5462328674538\" opacity=\"0.8\" /><polyline fill=\"none\" stroke=\"#66cc99\" stroke-width=\"11.130362853089247\" points=\"-52.001083150188784,-353.38991381896767 -116.16171006126436,452.13634605518416\" opacity=\"0.8\" /><polyline fill=\"none\" stroke=\"#66cc99\" stroke-width=\"11.130362853089247\" points=\"-117.1376998414001,-417.1730167493456 -181.2983267524757,388.3532431248063\" opacity=\"0.8\" /><polyline fill=\"none\" stroke=\"#66cc99\" stroke-width=\"11.130362853089247\" points=\"-33.056303235673546,-466.5462328674538 -97.21693014674912,338.98002700669804\" opacity=\"0.8\" /><polyline fill=\"none\" stroke=\"#66cc99\" stroke-width=\"11.130362853089247\" points=\"116.16171006126436,-452.13634605518416 52.001083150188784,353.38991381896767\" opacity=\"0.8\" /><polyline fill=\"none\" stroke=\"#66cc99\" stroke-width=\"11.130362853089247\" points=\"181.2983267524757,-388.3532431248063 117.1376998414001,417.1730167493456\" opacity=\"0.8\" /><polyline fill=\"none\" stroke=\"#66cc99\" stroke-width=\"11.130362853089247\" points=\"423.4774381345932,881.8519299881508 419.3875915282236,906.2803999697495 464.4193021882982,799.2546243697105 513.5408594547426,667.8003787880729 517.6307060611122,643.3719088064742 472.59899540103754,750.3976844065131 423.4774381345932,881.8519299881508\" opacity=\"0.8\" /><polyline fill=\"none\" stroke=\"#66cc99\" stroke-width=\"11.130362853089247\" points=\"-414.98530953854856,556.2074171783426 -419.0751561449182,580.6358871599413 -374.0434454848436,473.61011155990224 -324.9218882183992,342.1558659782646 -320.8320416120295,317.7273959966659 -365.86375227210425,424.7531715967048 -414.98530953854856,556.2074171783426\" opacity=\"0.8\" /><polyline fill=\"none\" stroke=\"#66cc99\" stroke-width=\"11.130362853089247\" points=\"423.4774381345932,881.8519299881508 -414.98530953854856,556.2074171783426\" opacity=\"0.8\" /><polyline fill=\"none\" stroke=\"#66cc99\" stroke-width=\"11.130362853089247\" points=\"419.3875915282236,906.2803999697495 -419.0751561449182,580.6358871599413\" opacity=\"0.8\" /><polyline fill=\"none\" stroke=\"#66cc99\" stroke-width=\"11.130362853089247\" points=\"464.4193021882982,799.2546243697105 -374.0434454848436,473.61011155990224\" opacity=\"0.8\" /><polyline fill=\"none\" stroke=\"#66cc99\" stroke-width=\"11.130362853089247\" points=\"513.5408594547426,667.8003787880729 -324.9218882183992,342.1558659782646\" opacity=\"0.8\" /><polyline fill=\"none\" stroke=\"#66cc99\" stroke-width=\"11.130362853089247\" points=\"517.6307060611122,643.3719088064742 -320.8320416120295,317.7273959966659\" opacity=\"0.8\" /><polyline fill=\"none\" stroke=\"#66cc99\" stroke-width=\"11.130362853089247\" points=\"472.59899540103754,750.3976844065131 -365.86375227210425,424.7531715967048\" opacity=\"0.8\" /><polyline fill=\"none\" stroke=\"#66cc99\" stroke-width=\"11.130362853089247\" points=\"185.20961569885787,663.4487924979263 130.85020111639915,801.1352969235149 -17.35117944347063,822.9758123535925 -111.1931454208817,707.1298233580812 -56.83373083842301,569.4433189324926 91.36764972144677,547.6028035024152 185.20961569885787,663.4487924979263\" opacity=\"0.8\" /><polyline fill=\"none\" stroke=\"#66cc99\" stroke-width=\"11.130362853089247\" points=\"209.74869533707573,516.8779726083342 155.38928075461703,654.5644770339228 7.1879001947472485,676.4049924640002 -86.65406578266384,560.5590034684891 -32.29465120020511,422.8724990429004 115.90672935966467,401.03198361282296 209.74869533707573,516.8779726083342\" opacity=\"0.8\" /><polyline fill=\"none\" stroke=\"#66cc99\" stroke-width=\"11.130362853089247\" points=\"185.20961569885787,663.4487924979263 209.74869533707573,516.8779726083342\" opacity=\"0.8\" /><polyline fill=\"none\" stroke=\"#66cc99\" stroke-width=\"11.130362853089247\" points=\"130.85020111639915,801.1352969235149 155.38928075461703,654.5644770339228\" opacity=\"0.8\" /><polyline fill=\"none\" stroke=\"#66cc99\" stroke-width=\"11.130362853089247\" points=\"-17.35117944347063,822.9758123535925 7.1879001947472485,676.4049924640002\" opacity=\"0.8\" /><polyline fill=\"none\" stroke=\"#66cc99\" stroke-width=\"11.130362853089247\" points=\"-111.1931454208817,707.1298233580812 -86.65406578266384,560.5590034684891\" opacity=\"0.8\" /><polyline fill=\"none\" stroke=\"#66cc99\" stroke-width=\"11.130362853089247\" points=\"-56.83373083842301,569.4433189324926 -32.29465120020511,422.8724990429004\" opacity=\"0.8\" /><polyline fill=\"none\" stroke=\"#66cc99\" stroke-width=\"11.130362853089247\" points=\"91.36764972144677,547.6028035024152 115.90672935966467,401.03198361282296\" opacity=\"0.8\" /><polyline fill=\"none\" stroke=\"#66cc99\" stroke-width=\"11.130362853089247\" points=\"-187.21427548740527,1019.082044105473 -47.47048420854833,1073.3561295737743 25.94332248957785,1079.337496728275 -40.386662091152935,1031.0447784144742 -180.13045337000986,976.7706929461729 -253.54426006813605,970.7893257916721 -187.21427548740527,1019.082044105473\" opacity=\"0.8\" /><polyline fill=\"none\" stroke=\"#66cc99\" stroke-width=\"11.130362853089247\" points=\"138.94221200734697,192.96301755194114 278.6860032862039,247.23710302024256 352.09980998433014,253.21847017474317 285.7698254035993,204.92575186094246 146.02603412474238,150.65166639264103 72.61222742661619,144.67029923814044 138.94221200734697,192.96301755194114\" opacity=\"0.8\" /><polyline fill=\"none\" stroke=\"#66cc99\" stroke-width=\"11.130362853089247\" points=\"-187.21427548740527,1019.082044105473 138.94221200734697,192.96301755194114\" opacity=\"0.8\" /><polyline fill=\"none\" stroke=\"#66cc99\" stroke-width=\"11.130362853089247\" points=\"-47.47048420854833,1073.3561295737743 278.6860032862039,247.23710302024256\" opacity=\"0.8\" /><polyline fill=\"none\" stroke=\"#66cc99\" stroke-width=\"11.130362853089247\" points=\"25.94332248957785,1079.337496728275 352.09980998433014,253.21847017474317\" opacity=\"0.8\" /><polyline fill=\"none\" stroke=\"#66cc99\" stroke-width=\"11.130362853089247\" points=\"-40.386662091152935,1031.0447784144742 285.7698254035993,204.92575186094246\" opacity=\"0.8\" /><polyline fill=\"none\" stroke=\"#66cc99\" stroke-width=\"11.130362853089247\" points=\"-180.13045337000986,976.7706929461729 146.02603412474238,150.65166639264103\" opacity=\"0.8\" /><polyline fill=\"none\" stroke=\"#66cc99\" stroke-width=\"11.130362853089247\" points=\"-253.54426006813605,970.7893257916721 72.61222742661619,144.67029923814044\" opacity=\"0.8\" /></g></g></svg>"
      ],
      "text/plain": [
       "<shapely.geometry.multilinestring.MultiLineString at 0x10dadfc18>"
      ]
     },
     "execution_count": 17,
     "metadata": {},
     "output_type": "execute_result"
    }
   ],
   "source": [
    "#View the cluster from the side\n",
    "\n",
    "#if plates:\n",
    "#    cluster.reorient()\n",
    "cluster.rotate_to([np.pi/2,np.pi,np.pi/2])\n",
    "cluster.plot()"
   ]
  },
  {
   "cell_type": "code",
   "execution_count": null,
   "metadata": {},
   "outputs": [],
   "source": [
    "if plates:\n",
    "    cluster.rotate_to([np.pi/2,np.pi,np.pi/2])  #view side -- z axis up down y axis left right\n",
    "else:\n",
    "    #no rotation = x,z\n",
    "    cluster.rotate_to([np.pi/2,0,0]) #y left right,z up down\n",
    "    #cluster.rotate_to([np.pi/2,np.pi/2,np.pi/2])  #z,y\n",
    "\n",
    "cluster.rotate_to([np.pi/2,np.pi,np.pi/2])  #view side "
   ]
  },
  {
   "cell_type": "markdown",
   "metadata": {},
   "source": [
    "# Contact Angle - work in progress from before"
   ]
  },
  {
   "cell_type": "code",
   "execution_count": 171,
   "metadata": {
    "scrolled": false
   },
   "outputs": [
    {
     "name": "stdout",
     "output_type": "stream",
     "text": [
      "xrot,yrot 1.04719766306 1.26510643646\n",
      "zrotseed 161.9486572068074\n",
      "zrotnew 123.35958543154169\n"
     ]
    },
    {
     "data": {
      "image/svg+xml": [
       "<svg xmlns=\"http://www.w3.org/2000/svg\" xmlns:xlink=\"http://www.w3.org/1999/xlink\" width=\"300\" height=\"300\" viewBox=\"-814.6789243867388 -471.40667943416184 1482.0246662869051 1018.3023044862211\" preserveAspectRatio=\"xMinYMin meet\"><g transform=\"matrix(1,0,0,-1,0,75.48894561789751)\"><g><polyline fill=\"none\" stroke=\"#66cc99\" stroke-width=\"9.8801644419127\" points=\"20.693755456170962,112.36770734811972 -457.0728046602954,260.8581875116391 -695.9560847185286,204.13617712248646 -457.07280466029533,-1.0763134301854669 20.693755456171058,-149.5667935937048 259.5770355144042,-92.84478320455223 20.693755456170962,112.36770734811972\" opacity=\"0.8\" /><polyline fill=\"none\" stroke=\"#66cc99\" stroke-width=\"9.8801644419127\" points=\"-43.13928175696867,-74.41263218771202 -520.9058418734351,74.07784797580732 -759.7891219316682,17.355837586654722 -520.905841873435,-187.8566529660172 -43.13928175696857,-336.3471331295366 195.74399830126453,-279.625122740384 -43.13928175696867,-74.41263218771202\" opacity=\"0.8\" /><polyline fill=\"none\" stroke=\"#66cc99\" stroke-width=\"9.8801644419127\" points=\"20.693755456170962,112.36770734811972 -43.13928175696867,-74.41263218771202\" opacity=\"0.8\" /><polyline fill=\"none\" stroke=\"#66cc99\" stroke-width=\"9.8801644419127\" points=\"-457.0728046602954,260.8581875116391 -520.9058418734351,74.07784797580732\" opacity=\"0.8\" /><polyline fill=\"none\" stroke=\"#66cc99\" stroke-width=\"9.8801644419127\" points=\"-695.9560847185286,204.13617712248646 -759.7891219316682,17.355837586654722\" opacity=\"0.8\" /><polyline fill=\"none\" stroke=\"#66cc99\" stroke-width=\"9.8801644419127\" points=\"-457.07280466029533,-1.0763134301854669 -520.905841873435,-187.8566529660172\" opacity=\"0.8\" /><polyline fill=\"none\" stroke=\"#66cc99\" stroke-width=\"9.8801644419127\" points=\"20.693755456171058,-149.5667935937048 -43.13928175696857,-336.3471331295366\" opacity=\"0.8\" /><polyline fill=\"none\" stroke=\"#66cc99\" stroke-width=\"9.8801644419127\" points=\"259.5770355144042,-92.84478320455223 195.74399830126453,-279.625122740384\" opacity=\"0.8\" /><polyline fill=\"none\" stroke=\"#66cc99\" stroke-width=\"9.8801644419127\" points=\"474.29564257934607,22.60061729204058 197.9750488478469,422.8489211426142 59.81475198209732,492.00582259698876 197.975048847847,160.91442020078975 474.2956425793461,-239.33388364978387 612.4559394450957,-308.4907851041584 474.29564257934607,22.60061729204058\" opacity=\"0.8\" /><polyline fill=\"none\" stroke=\"#66cc99\" stroke-width=\"9.8801644419127\" points=\"302.23703756941705,-85.42547458289229 25.916443837917864,314.82282926768136 -112.24385302783172,383.9797307220559 25.916443837917956,52.88832832585686 302.2370375694171,-347.35997552471673 440.3973344351668,-416.5168769790913 302.23703756941705,-85.42547458289229\" opacity=\"0.8\" /><polyline fill=\"none\" stroke=\"#66cc99\" stroke-width=\"9.8801644419127\" points=\"474.29564257934607,22.60061729204058 302.23703756941705,-85.42547458289229\" opacity=\"0.8\" /><polyline fill=\"none\" stroke=\"#66cc99\" stroke-width=\"9.8801644419127\" points=\"197.9750488478469,422.8489211426142 25.916443837917864,314.82282926768136\" opacity=\"0.8\" /><polyline fill=\"none\" stroke=\"#66cc99\" stroke-width=\"9.8801644419127\" points=\"59.81475198209732,492.00582259698876 -112.24385302783172,383.9797307220559\" opacity=\"0.8\" /><polyline fill=\"none\" stroke=\"#66cc99\" stroke-width=\"9.8801644419127\" points=\"197.975048847847,160.91442020078975 25.916443837917956,52.88832832585686\" opacity=\"0.8\" /><polyline fill=\"none\" stroke=\"#66cc99\" stroke-width=\"9.8801644419127\" points=\"474.2956425793461,-239.33388364978387 302.2370375694171,-347.35997552471673\" opacity=\"0.8\" /><polyline fill=\"none\" stroke=\"#66cc99\" stroke-width=\"9.8801644419127\" points=\"612.4559394450957,-308.4907851041584 440.3973344351668,-416.5168769790913\" opacity=\"0.8\" /></g></g></svg>"
      ],
      "text/plain": [
       "<shapely.geometry.multilinestring.MultiLineString at 0x1183f5748>"
      ]
     },
     "execution_count": 171,
     "metadata": {},
     "output_type": "execute_result"
    }
   ],
   "source": [
    "import scipy.optimize as opt\n",
    "import random\n",
    "import numpy as np\n",
    "import ipas.lab_opt_rot as lab\n",
    "import ipas.crystals_opt_rot as crys\n",
    "\n",
    "\n",
    "#length=13.6790022746 * 10\n",
    "#width=8.55013140036 * 10\n",
    "\n",
    "length=100.6 * 10\n",
    "width=20.5 * 10\n",
    "\n",
    "rotations= 100\n",
    "plates = width > length\n",
    "\n",
    "f = lambda x: -crys.IceCrystal(length=length, width=width, rotation=[0,x,0]).projectxy().area\n",
    "yrot = opt.minimize_scalar(f, bounds=(0, np.pi/2), method='Bounded').x\n",
    "f = lambda x: -crys.IceCrystal(length=length, width=width, rotation=[x,0,0]).projectxy().area\n",
    "xrot = opt.minimize_scalar(f, bounds=(0, np.pi/2), method='Bounded').x\n",
    "\n",
    "print('xrot,yrot',xrot,yrot)\n",
    "rotation = [0, yrot, random.uniform(0, 2 * np.pi)]\n",
    "dimarr = ['y','z']\n",
    "dim = 'y'\n",
    "dim_up = 'z'\n",
    "dimind = 0\n",
    "dimindup = 1\n",
    "\n",
    "if plates:\n",
    "    hypot = width\n",
    "else:\n",
    "    hypot = length\n",
    "    \n",
    "#print('yrot',yrot)\n",
    "#rotation = [0,np.pi/2,np.pi/2-1.0]\n",
    "zrotseed = rotation[2]*180/np.pi\n",
    "print('zrotseed',zrotseed)\n",
    "\n",
    "seedcrystal = crys.IceCrystal(length=length, width=width, rotation=rotation)\n",
    "cluster = crys.IceCluster(seedcrystal)\n",
    "\n",
    "xmax = cluster.max('x')\n",
    "ymax = cluster.max('y')\n",
    "zmax = cluster.max('z')\n",
    "xmin = cluster.min('x')\n",
    "ymin = cluster.min('y')\n",
    "zmin = cluster.min('z') \n",
    "\n",
    "ncrystals = 2\n",
    "while cluster.ncrystals < ncrystals:\n",
    "    \n",
    "    rotation = [0, yrot, random.uniform(0, 2 * np.pi)]\n",
    "    #rotation = [0,np.pi/2,np.pi/2+.9]\n",
    "    zrotnew = rotation[2]*180/np.pi\n",
    "    print('zrotnew',zrotnew)\n",
    "    new_crystal = crys.IceCrystal(length=length, width=width, rotation=rotation)\n",
    "    random_loc = [random.uniform(xmin, xmax), random.uniform(ymin, ymax), 0]\n",
    "    new_crystal.move(random_loc)\n",
    "\n",
    "    crystal_hit = cluster.add_crystal_from_above(new_crystal)   \n",
    "\n",
    "    if crystal_hit:\n",
    "        cluster.recenter()\n",
    "\n",
    "        height_seed = seedcrystal.maxz - seedcrystal.minz   \n",
    "        height_new = new_crystal.maxz - new_crystal.minz\n",
    "        checkposseed = False\n",
    "        checkposnew = False\n",
    "        checknegseed = False\n",
    "        checknegnew = False\n",
    "\n",
    "        xmaxseed = seedcrystal.max(dim)\n",
    "        xminseed = seedcrystal.min(dim)\n",
    "        pointszseed = seedcrystal.points[dim_up]\n",
    "        pointsxseed = seedcrystal.points[dim]\n",
    "        maxzindseed = np.where(pointszseed == seedcrystal.max(dim_up))\n",
    "        minzindseed = np.where(pointszseed == seedcrystal.min(dim_up))\n",
    "        xatmaxzseed = max(seedcrystal.points[dim][maxzindseed])\n",
    "        xatminzseed = min(seedcrystal.points[dim][minzindseed])\n",
    "        maxxindseed = np.where(pointsxseed == xmaxseed)\n",
    "        minxindseed = np.where(pointsxseed == xminseed)\n",
    "        zatmaxxseed = max(pointszseed[maxxindseed])\n",
    "        zatminxseed = min(pointszseed[minxindseed])\n",
    "\n",
    "        #print('-----------------new crys-------------------')\n",
    "        xmaxnew = new_crystal.max(dim)\n",
    "        xminnew = new_crystal.min(dim)\n",
    "        pointsznew = new_crystal.points[dim_up]\n",
    "        pointsxnew = new_crystal.points[dim]\n",
    "        maxzindnew = np.where(pointsznew == new_crystal.max(dim_up))\n",
    "        minzindnew = np.where(pointsznew == new_crystal.min(dim_up))\n",
    "        xatmaxznew = max(new_crystal.points[dim][maxzindnew])\n",
    "        xatminznew = min(new_crystal.points[dim][minzindnew])\n",
    "        maxxindnew = np.where(pointsxnew == xmaxnew) \n",
    "        minxindnew = np.where(pointsxnew == xminnew) \n",
    "        zatmaxxnew = max(pointsznew[maxxindnew])\n",
    "        zatminxnew = min(pointsznew[minxindnew])\n",
    "\n",
    "\n",
    "        crystals = [seedcrystal, new_crystal]\n",
    "        slope=[]\n",
    "        hexmax = []\n",
    "        hexmin = []\n",
    "\n",
    "        #fig = pl.figure(1, figsize=(5,5))\n",
    "        #ax = fig.add_subplot(111)\n",
    "\n",
    "        for i in crystals:\n",
    "            # make a line connecting the two hexagons at the max x value  \n",
    "            #this is to determine the slope of each crystal\n",
    "            hex1pts = i.points[dimarr][0:6]  \n",
    "            hex2pts = i.points[dimarr][6:12]  \n",
    "\n",
    "            poly1 = geom.Polygon([[p[0], p[1]] for p in hex1pts])       \n",
    "            poly2 = geom.Polygon([[p[0], p[1]] for p in hex2pts])\n",
    "\n",
    "            #add patches here\n",
    "\n",
    "            hex1max = max(hex1pts[dimarr],key=itemgetter(dimindup))\n",
    "            hex1min = min(hex1pts[dimarr],key=itemgetter(dimindup))\n",
    "            #print('hex1min',hex1min)\n",
    "            #print('hex2pts',hex2pts)\n",
    "            hex2max = max(hex2pts[dimarr],key=itemgetter(dimindup))\n",
    "            hex2min = min(hex2pts[dimarr],key=itemgetter(dimindup))\n",
    "            #print('hex2min',hex2min)\n",
    "\n",
    "            #Plates: when the lines connecting the hexagons slope positive the crystal slopes negative\n",
    "            #Columns: when the lines connecting the hexagons slope positive the crystal also slopes positive \n",
    "            if (hex2max[dimarr[dimindup]]-hex1max[dimarr[dimindup]])/(hex2max[dimarr[dimind]]-hex1max[dimarr[dimind]])>=0:\n",
    "                if plates:\n",
    "                    slope.append('negative')\n",
    "                else:\n",
    "                    slope.append('positive')\n",
    "            else:\n",
    "                if plates:\n",
    "                    slope.append('positive')\n",
    "                else:\n",
    "                    slope.append('negative')\n",
    "\n",
    "            #hexmaxval = min(hex2max[dimarr[dimind]],hex1max[dimarr[dimind]])\n",
    "            hexminval = max(hex1min,hex2min,key=itemgetter(dimindup))\n",
    "            #hexminval = max(hex2min[dimarr[dimind]],hex1min[dimarr[dimind]])\n",
    "            hexmaxval = min(hex1max,hex2max,key=itemgetter(dimindup))\n",
    "\n",
    "            hexmax.append(hexmaxval[dimarr[dimind]])\n",
    "            hexmin.append(hexminval[dimarr[dimind]])\n",
    "        #----------------------------------------------------------------\n",
    "        #Determine what slope each crystal has and calculate the seed_ang/\n",
    "        #new_ang for each crystal\n",
    "        if slope[0] == 'negative': #neg slope\n",
    "            checknegseed = True\n",
    "            #print('checknegseed')\n",
    "            if plates:\n",
    "                baseseed = hexmax[0] - xminseed\n",
    "            else:\n",
    "                baseseed = xatminzseed - hexmin[0]\n",
    "            #print('baseseed neg', baseseed)\n",
    "            #print('xatminzseed, hexmin[0]', xatminzseed,hexmin[0])\n",
    "            #print('hexmin[0], hexmax[0]',hexmin[0], hexmax[0])\n",
    "            seed_ang = np.arccos(baseseed/hypot)*(180./np.pi)          \n",
    "\n",
    "        else:\n",
    "            checkposseed = True \n",
    "            #print('checkposseed')\n",
    "            if plates:\n",
    "                baseseed = xmaxseed - hexmin[0]\n",
    "            else:\n",
    "                baseseed = hexmin[0] - xatminzseed   \n",
    "            #print('baseseed pos',baseseed)\n",
    "            #print('hexmax, xatminzseed',hexmax[0], xatminzseed)\n",
    "            seed_ang = np.arccos(baseseed/hypot)*(180./np.pi) \n",
    "\n",
    "\n",
    "        if slope[1]=='negative':\n",
    "            checknegnew = True\n",
    "            #print('checknegnew')\n",
    "            if plates:\n",
    "                basenew = hexmax[1] - xminnew\n",
    "            else:\n",
    "                basenew = xatminznew - hexmin[1]\n",
    "            #print('base',basenew, hypot)\n",
    "            #print('hexmin, xatminznew',hexmin[1], xatminznew)\n",
    "            new_ang = np.arccos(basenew/hypot)*(180./np.pi) \n",
    "\n",
    "        else: #pos slope\n",
    "\n",
    "            checkposnew = True\n",
    "            #print('checkposnew')\n",
    "\n",
    "            if plates:\n",
    "                basenew = xmaxnew - hexmin[1]\n",
    "            else:\n",
    "                basenew = hexmin[1] - xatminznew\n",
    "            #print('base, hypot',basenew, hypot)\n",
    "            #print('hexmin, xatminznew',hexmin[1], xatminznew)    \n",
    "            new_ang = np.arccos(basenew/hypot)*(180./np.pi) \n",
    "\n",
    "        ##################################################################################    \n",
    "\n",
    "        #Check if overlap is minimal and don't subtract from 180\n",
    "\n",
    "        #horizontal overlap\n",
    "        in_out = ['y','x','z','x']\n",
    "        percent = []\n",
    "        for i in range(2):\n",
    "            xmax = cluster.max(in_out[i])\n",
    "            xmin = cluster.min(in_out[i])\n",
    "            xmaxseed = seedcrystal.max(in_out[i])\n",
    "            xminseed = seedcrystal.min(in_out[i])\n",
    "            xmaxnew = new_crystal.max(in_out[i])\n",
    "            xminnew = new_crystal.min(in_out[i])\n",
    "            widclus = xmax-xmin\n",
    "            widseed = xmaxseed - xminseed\n",
    "            widnew = xmaxnew - xminnew\n",
    "            #print(widclus, xmax, xmin)\n",
    "\n",
    "\n",
    "            Sx = widclus - (widclus - widseed) - (widclus - widnew)\n",
    "            if plates:\n",
    "                percentage = (Sx / widclus)*100   \n",
    "            else:\n",
    "                percentage = (Sx / widclus)*100\n",
    "            percent.append(percentage)\n",
    "\n",
    "        #print('X overlap', percent[1])\n",
    "        #print('Y overlap', percent[0])\n",
    "\n",
    "        zmax = cluster.max(dim_up)\n",
    "        zmin = cluster.min(dim_up)\n",
    "        plates = width > length\n",
    "        height_seed = seedcrystal.max(dim_up) - seedcrystal.min(dim_up)   \n",
    "        height_new = new_crystal.max(dim_up) - new_crystal.min(dim_up)              \n",
    "        heightclus = zmax-zmin #0 index is x\n",
    "        Sz = heightclus - (heightclus - height_seed) - (heightclus - height_new)    \n",
    "        if plates:\n",
    "            percentage = (Sz / heightclus)*100   \n",
    "        else:\n",
    "            percentage = (Sz / heightclus)*100\n",
    "        percent.append(percentage)\n",
    "        #print('vert_overlap', percent[2])\n",
    "\n",
    "\n",
    "        cont_ang = new_ang + seed_ang\n",
    "        cont_ang1 = new_ang + seed_ang\n",
    "        #print('cont_ang b4 if1', cont_ang)\n",
    "        if ((checkposseed == True and checkposnew == True) or (checknegseed == True and checknegnew == True)):  \n",
    "            #print('in if1 -- crystals slope in same direction')\n",
    "            seed1_ang = 90. - seed_ang\n",
    "            cont_ang = 90. - new_ang - seed1_ang\n",
    "            if1flag = True\n",
    "\n",
    "        cont_ang = abs(cont_ang)\n",
    "        #print('cont_ang b4 if2', cont_ang)\n",
    "        if cont_ang1 > 90 and percent[1] > 20.0 and cont_ang < 90:\n",
    "            #print('in if2')\n",
    "            cont_ang = 180 - cont_ang\n",
    "\n",
    "        #---------umcomment this for different cluster views------\n",
    "        if plates:\n",
    "            cluster.rotate_to([np.pi/2,np.pi,np.pi/2])  #view side -- z axis up down y axis left right\n",
    "        else:\n",
    "            #no rotation = x,z\n",
    "            cluster.rotate_to([np.pi/2,0,0]) #y left right,z up down\n",
    "            #cluster.rotate_to([np.pi/2,np.pi/2,np.pi/2])  #z,y\n",
    "\n",
    "        #print('seed, new final',seed_ang,new_ang)\n",
    "        #print('contact angle',cont_ang)\n",
    "        cluster.rotate_to([np.pi/2,np.pi,np.pi/2])  #view side \n",
    "cluster.plot()"
   ]
  },
  {
   "cell_type": "markdown",
   "metadata": {},
   "source": [
    "### OVERLAP"
   ]
  },
  {
   "cell_type": "code",
   "execution_count": 539,
   "metadata": {},
   "outputs": [
    {
     "name": "stdout",
     "output_type": "stream",
     "text": [
      "39.26971015200612\n"
     ]
    },
    {
     "data": {
      "image/png": "[encoded data removed]",
      "text/plain": [
       "<matplotlib.figure.Figure at 0x11266b828>"
      ]
     },
     "metadata": {},
     "output_type": "display_data"
    }
   ],
   "source": [
    "crystals = [seedcrystal, new_crystal]\n",
    "dims = ['x','y']\n",
    "\n",
    "fig = plt.figure(1, figsize=(5,5))\n",
    "ax = fig.add_subplot(111)\n",
    "area = []\n",
    "for i in crystals:    \n",
    " \n",
    "    newpoly = i.projectxy()\n",
    "    area.append(newpoly.area)\n",
    "    \n",
    "    if i == seedcrystal:\n",
    "        color='#29568F'\n",
    "        zorder = 1\n",
    "        linecolor = '#29568F'\n",
    "\n",
    "    else:\n",
    "        zorder = 2\n",
    "        color='#e65c00'\n",
    "        linecolor = '#e65c00'\n",
    "\n",
    "\n",
    "    cryspatch = PolygonPatch(newpoly, fill=True, ec='k', fc=color, zorder=zorder)     \n",
    "    ax.add_patch(cryspatch)\n",
    "    \n",
    "rel_area = seedcrystal.projectxy().intersection(new_crystal.projectxy())\n",
    "ovrlpptch = PolygonPatch(rel_area, fill=True, ec='k', fc='k', zorder=zorder) \n",
    "ax.add_patch(ovrlpptch)\n",
    "seedpoly = seedcrystal.projectxy()\n",
    "newpoly = new_crystal.projectxy()   \n",
    "pctovrlp = (2*rel_area.area/(seedpoly.area+newpoly.area))*100\n",
    "print(pctovrlp)\n",
    "\n",
    "\n",
    "ax.set_xlabel(dims[0])\n",
    "ax.set_ylabel(dims[1])\n",
    "ax.axis('scaled')\n",
    "\n",
    "plt.show()"
   ]
  },
  {
   "cell_type": "markdown",
   "metadata": {},
   "source": [
    "#### Plot specific aggregates out of numclusters"
   ]
  },
  {
   "cell_type": "code",
   "execution_count": 30,
   "metadata": {},
   "outputs": [
    {
     "ename": "AttributeError",
     "evalue": "'Make_Plots' object has no attribute 'clusters'",
     "output_type": "error",
     "traceback": [
      "\u001b[0;31m---------------------------------------------------------------------------\u001b[0m",
      "\u001b[0;31mAttributeError\u001b[0m                            Traceback (most recent call last)",
      "\u001b[0;32m<ipython-input-30-f9bf026c0643>\u001b[0m in \u001b[0;36m<module>\u001b[0;34m()\u001b[0m\n\u001b[1;32m      2\u001b[0m \u001b[0;31m#seedcrystal = ipas.IceCrystal(length=100, width=6, rotation=(0,np.pi/2-.1,0))\u001b[0m\u001b[0;34m\u001b[0m\u001b[0;34m\u001b[0m\u001b[0m\n\u001b[1;32m      3\u001b[0m \u001b[0;31m#cluster = ipas.IceCluster([seedcrystal])\u001b[0m\u001b[0;34m\u001b[0m\u001b[0;34m\u001b[0m\u001b[0m\n\u001b[0;32m----> 4\u001b[0;31m \u001b[0minstance\u001b[0m \u001b[0;34m=\u001b[0m \u001b[0mp300\u001b[0m\u001b[0;34m.\u001b[0m\u001b[0mclusters\u001b[0m\u001b[0;34m[\u001b[0m\u001b[0;36m0\u001b[0m\u001b[0;34m]\u001b[0m\u001b[0;34m\u001b[0m\u001b[0m\n\u001b[0m\u001b[1;32m      5\u001b[0m \u001b[0minstance\u001b[0m\u001b[0;34m.\u001b[0m\u001b[0mrotate_to\u001b[0m\u001b[0;34m(\u001b[0m\u001b[0;34m[\u001b[0m\u001b[0mnp\u001b[0m\u001b[0;34m.\u001b[0m\u001b[0mpi\u001b[0m\u001b[0;34m/\u001b[0m\u001b[0;36m2\u001b[0m\u001b[0;34m,\u001b[0m\u001b[0;36m0\u001b[0m\u001b[0;34m,\u001b[0m\u001b[0mnp\u001b[0m\u001b[0;34m.\u001b[0m\u001b[0mpi\u001b[0m\u001b[0;34m/\u001b[0m\u001b[0;36m2\u001b[0m\u001b[0;34m]\u001b[0m\u001b[0;34m)\u001b[0m\u001b[0;34m\u001b[0m\u001b[0m\n\u001b[1;32m      6\u001b[0m \u001b[0minstance\u001b[0m\u001b[0;34m.\u001b[0m\u001b[0mplot\u001b[0m\u001b[0;34m(\u001b[0m\u001b[0;34m)\u001b[0m\u001b[0;34m\u001b[0m\u001b[0m\n",
      "\u001b[0;31mAttributeError\u001b[0m: 'Make_Plots' object has no attribute 'clusters'"
     ]
    }
   ],
   "source": [
    "import ipas.crystals as ipas\n",
    "#seedcrystal = ipas.IceCrystal(length=100, width=6, rotation=(0,np.pi/2-.1,0))\n",
    "#cluster = ipas.IceCluster([seedcrystal])\n",
    "instance = p300.clusters[0]\n",
    "instance.rotate_to([np.pi/2,0,np.pi/2])\n",
    "instance.plot()"
   ]
  },
  {
   "cell_type": "code",
   "execution_count": 40,
   "metadata": {
    "collapsed": true
   },
   "outputs": [],
   "source": [
    "import matplotlib.pyplot as plt\n",
    "plt.close(\"all\")"
   ]
  },
  {
   "cell_type": "code",
   "execution_count": 69,
   "metadata": {},
   "outputs": [
    {
     "name": "stdout",
     "output_type": "stream",
     "text": [
      "[   0.01          0.01373824    0.01887392    0.02592944    0.03562248\n",
      "    0.04893901    0.06723358    0.09236709    0.1268961     0.17433288\n",
      "    0.23950266    0.32903446    0.45203537    0.62101694    0.85316785\n",
      "    1.1721023     1.61026203    2.21221629    3.03919538    4.17531894\n",
      "    5.73615251    7.88046282   10.82636734   14.87352107   20.43359718\n",
      "   28.07216204   38.56620421   52.98316906   72.78953844  100.        ]\n"
     ]
    }
   ],
   "source": [
    "phio=np.logspace(-2, 2, num=30, endpoint=True, base=10.0, dtype=None)\n",
    "np.set_printoptions(suppress=True)\n",
    "print(phio)\n"
   ]
  },
  {
   "cell_type": "code",
   "execution_count": 88,
   "metadata": {},
   "outputs": [
    {
     "name": "stdout",
     "output_type": "stream",
     "text": [
      "[0.01, 0.016237767391887217, 0.026366508987303583, 0.042813323987193938, 0.069519279617756058, 0.11288378916846889, 0.18329807108324356, 0.29763514416313175, 0.32000000000000001, 0.42999999999999999, 0.48329302385717521, 0.54000000000000004, 0.62, 0.72999999999999998, 0.78475997035146106, 0.83999999999999997, 0.94999999999999996, 1.2742749857031335, 2.0691380811147901, 2.2000000000000002, 3.2999999999999998, 3.3598182862837809, 4.4000000000000004, 5.4555947811685144, 8.8586679041008232, 14.384498882876629, 23.357214690901213, 37.92690190732246, 61.584821106602604, 100.0]\n"
     ]
    }
   ],
   "source": [
    "phio=np.logspace(-2, 2., num=20, endpoint=True, base=10.0, dtype=None)#just columns (0,2); plates (-2,2)\n",
    "np.set_printoptions(suppress=True)\n",
    "add = [.32, .43, .54, .62, .73, .84, .95, 2.2, 3.3, 4.4]\n",
    "phio = np.append(phio, add, axis=0) \n",
    "print(sorted(phio))\n"
   ]
  },
  {
   "cell_type": "code",
   "execution_count": 178,
   "metadata": {},
   "outputs": [
    {
     "name": "stdout",
     "output_type": "stream",
     "text": [
      "[ 0.50003453  0.58329585  0.68042111  0.7937188   0.92588182  1.08005145\n",
      "  1.25989204  1.4696781   1.71439587  1.99986187]\n"
     ]
    }
   ],
   "source": [
    "phioadd=np.logspace(-.301, .301, num=10, endpoint=True, base=10.0, dtype=None)\n",
    "print(phioadd)"
   ]
  },
  {
   "cell_type": "code",
   "execution_count": null,
   "metadata": {
    "collapsed": true
   },
   "outputs": [],
   "source": []
  }
 ],
 "metadata": {
  "anaconda-cloud": {},
  "kernelspec": {
   "display_name": "IPAS_ENV",
   "language": "python",
   "name": "ipas_env"
  },
  "language_info": {
   "codemirror_mode": {
    "name": "ipython",
    "version": 3
   },
   "file_extension": ".py",
   "mimetype": "text/x-python",
   "name": "python",
   "nbconvert_exporter": "python",
   "pygments_lexer": "ipython3",
   "version": "3.6.3"
  }
 },
 "nbformat": 4,
 "nbformat_minor": 1
}
